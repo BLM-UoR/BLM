{
    "cells": [
        {
            "cell_type": "markdown",
            "metadata": {},
            "source": "## Modelling $\\Delta Q_S$ with OHM"
        },
        {
            "cell_type": "markdown",
            "metadata": {},
            "source": "### Objectives\n1. Model $\\Delta Q_S$ using OHM\n1. Examine the SEB closure with modelled $\\Delta Q_S$"
        },
        {
            "cell_type": "markdown",
            "execution_count": null,
            "metadata": {},
            "outputs": [],
            "source": "<div class=\"alert alert-info\">\n\n**Tips:** \n\n1. OHM coefficients ($a_1, a_2, a_3$) are based on land cover types.\n1. In principle, assuming all fluxes are accurately measured, the SEB should close (i.e. inputs should equal outputs). If there is closure, each measurement period (e.g. 30 min) should plot on the 1:1 line.\n1. Think about metrics to quantify the SEB closure.\n\n</div>\n\n"
        },
        {
            "cell_type": "markdown",
            "metadata": {},
            "source": "### Tasks"
        },
        {
            "cell_type": "markdown",
            "metadata": {},
            "source": "#### load necessary packages"
        },
        {
            "cell_type": "code",
            "execution_count": 2,
            "metadata": {
                "ExecuteTime": {
                    "end_time": "2019-09-08T12:55:09.515196Z",
                    "start_time": "2019-09-08T12:55:08.976922Z"
                }
            },
            "outputs": [],
            "source": "import numpy as np\nimport matplotlib.pyplot as plt\nimport pandas as pd\nfrom pathlib import Path\n"
        },
        {
            "cell_type": "markdown",
            "metadata": {},
            "source": "#### load data"
        },
        {
            "cell_type": "code",
            "execution_count": 6,
            "metadata": {
                "ExecuteTime": {
                    "end_time": "2019-09-08T12:55:26.779818Z",
                    "start_time": "2019-09-08T12:55:26.777074Z"
                }
            },
            "outputs": [],
            "source": "path_dir=Path.cwd()/'data'/'AMF-clean'\n"
        },
        {
            "cell_type": "code",
            "execution_count": 7,
            "metadata": {
                "ExecuteTime": {
                    "end_time": "2019-09-08T12:55:27.242030Z",
                    "start_time": "2019-09-08T12:55:27.237900Z"
                }
            },
            "outputs": [
                {
                    "data": {
                        "text/plain": [
                            "PosixPath('/Users/sunt05/Dropbox/6.Repos/BLM-Admin/tasks/data/AMF-clean/BR-Sa3_clean.csv.gz')"
                        ]
                    },
                    "execution_count": 7,
                    "metadata": {},
                    "output_type": "execute_result"
                }
            ],
            "source": "\npath_data = path_dir/'BR-Sa3_clean.csv.gz'\npath_data.resolve()\n"
        },
        {
            "cell_type": "code",
            "execution_count": 8,
            "metadata": {
                "ExecuteTime": {
                    "end_time": "2019-09-08T12:55:28.602520Z",
                    "start_time": "2019-09-08T12:55:28.452085Z"
                }
            },
            "outputs": [],
            "source": "df_data = pd.read_csv(path_data, index_col='time',parse_dates=['time'])\n"
        },
        {
            "cell_type": "markdown",
            "metadata": {},
            "source": "#### derive OHM coefficients"
        },
        {
            "cell_type": "markdown",
            "metadata": {
                "ExecuteTime": {
                    "end_time": "2019-09-08T12:55:30.100014Z",
                    "start_time": "2019-09-08T12:55:30.084128Z"
                }
            },
            "source": "Assuming surface energy closure in measurements is *perfect*, i.e., $Q^*=Q_H+Q_E+\\Delta{Q_S}$, derive OHM coefficients using provided AmeriFlux data.\n\n*Note: conduct the derivation at different sites separately so you can get two sets of coefficients for later comparison.*"
        },
        {
            "cell_type": "markdown",
            "metadata": {},
            "source": "#### compare derived OHM coefficients between sites"
        },
        {
            "cell_type": "markdown",
            "metadata": {},
            "source": [
                "Check if the OHM coefficients are the same between your chosen sites."
            ]
        },
        {
            "cell_type": "markdown",
            "metadata": {},
            "source": "#### calculate $\\Delta Q_S$ using provided OHM coefficients"
        },
        {
            "cell_type": "markdown",
            "metadata": {
                "ExecuteTime": {
                    "end_time": "2019-09-08T20:24:45.212708Z",
                    "start_time": "2019-09-08T20:24:44.981187Z"
                }
            },
            "source": "Use the values provided in [this page of SUEWS manual](https://suews-docs.readthedocs.io/en/latest/input_files/SUEWS_SiteInfo/SUEWS_OHMCoefficients.html)."
        },
        {
            "cell_type": "code",
            "execution_count": 1,
            "metadata": {
                "ExecuteTime": {
                    "end_time": "2019-09-12T15:43:18.872560Z",
                    "start_time": "2019-09-12T15:43:18.870426Z"
                }
            },
            "outputs": [],
            "source": "# calculations"
        },
        {
            "cell_type": "markdown",
            "metadata": {},
            "source": "#### examine the SEB closure using calculated $\\Delta Q_S$"
        },
        {
            "cell_type": "markdown",
            "metadata": {},
            "source": "Think about proper metrics for quantitative examination."
        },
        {
            "cell_type": "code",
            "execution_count": 2,
            "metadata": {
                "ExecuteTime": {
                    "end_time": "2019-09-12T15:45:42.235507Z",
                    "start_time": "2019-09-12T15:45:42.233411Z"
                }
            },
            "outputs": [],
            "source": "# examination code and plot"
        }
    ],
    "nbformat": 4,
    "nbformat_minor": 2,
    "metadata": {
        "language_info": {
            "name": "python",
            "codemirror_mode": {
                "name": "ipython",
                "version": 3
            }
        },
        "orig_nbformat": 2,
        "file_extension": ".py",
        "mimetype": "text/x-python",
        "name": "python",
        "npconvert_exporter": "python",
        "pygments_lexer": "ipython3",
        "version": 3
    }
}