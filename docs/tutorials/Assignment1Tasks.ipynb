{
  "cells": [
    {
      "cell_type": "markdown",
      "source": [
        "# Assignment 1 Tasks"
      ],
      "metadata": {
        "slideshow": {
          "slide_type": "slide"
        }
      }
    },
    {
      "cell_type": "markdown",
      "source": [
        "## 1. Identify a study period. \n",
        "\n",
        "* Plot the surface energy and radiation balances for a cloudy and a sunny day. \n",
        "    - Check that the fluxes make sense\n",
        "* Calculate the mean surface energy and radiation balance fluxes through the day (i.e. an ensemble mean) and plot these. \n",
        "* Plot the ensemble median and the mean of the of $z'/L$.  \n",
        "* Describe how the energy partitioning varies through the day and with synoptic conditions "
      ],
      "metadata": {
        "slideshow": {
          "slide_type": "subslide"
        }
      }
    },
    {
      "cell_type": "markdown",
      "source": [
        "## 2. The Penman-Monteith equation \n",
        "The Penman Monteith equation provides one method to calculate the components of the surface energy balance. It assumes energy balance closure at each model time step. Evaluate the performance of the PM calculations ($Q_H$ and $Q_E$, $\\beta$) using the EC data.\n",
        "    \n",
        "* Identify what parameters values were used initially"
      ],
      "metadata": {
        "slideshow": {
          "slide_type": "subslide"
        }
      }
    },
    {
      "cell_type": "markdown",
      "source": [
        "## 3. Canopy resistance calculation\n",
        "\n",
        "Calculate the canopy resistance from the EC and other data (this can be back-calculated). How do these values compare to the literature/textbooks? \n",
        "   * You will need dry conditions (e.g. 12 h since rain – depending on time of day) and solar radiation for the calculations (e.g. $Q^* \\gt  \\mathrm{20\\ W \\ m^{-2}}$)"
      ],
      "metadata": {
        "slideshow": {
          "slide_type": "subslide"
        }
      }
    },
    {
      "cell_type": "markdown",
      "source": [
        "## 4. Eddy covariance data analysis\n",
        "Eddy covariance data and other observations allow a number of important parameters to be determined. These may be used as input for models. \n",
        "   * Calculate roughness length from the EC data. Calculate the roughness length and zero plane displacement height from the wind profile data. Create a graph to analyse the data (think about wind directions). \n",
        "   * Calculate the albedo for the area.  Think about the time of day.  If you had to choose one value to model the site, what would it be"
      ],
      "metadata": {
        "slideshow": {
          "slide_type": "subslide"
        }
      }
    },
    {
      "cell_type": "markdown",
      "source": [
        "## 5. Revisiting PM calculations\n",
        "\nUse the roughness length calculated and the canopy resistances to calculate the PM fluxes ($Q_H$ and $Q_E$) for the same period. What is the impact on the evaluation statistics?"
      ],
      "metadata": {
        "slideshow": {
          "slide_type": "subslide"
        }
      }
    },
    {
      "cell_type": "markdown",
      "source": [
        "## 6. SEB closure\n",
        "In principle, assuming all fluxes are accurately measured, the surface energy balance (SEB) should close (i.e. inputs should equal outputs). One way to assess this is to plot the available energy ($Q^*- Q_G$) against the turbulent heat fluxes ($Q_H+Q_E$). If there is closure, each measurement period (e.g. 30 min) should plot on the 1:1 line. \n",
        "\n",
        "   * Using the observed SEB data, create a scatter plot, with a 1:1 line and calculate the linear regression through the data to assess the degree of SEB closure. \n",
        "   * Does averaging period, stability, wind direction make any difference to energy balance closure? \n",
        "   * How do your results compare to the literature? "
      ],
      "metadata": {
        "slideshow": {
          "slide_type": "subslide"
        }
      }
    },
    {
      "cell_type": "markdown",
      "source": [
        "## 7. Sensible heat calculation\n",
        "\n",
        "The sensible heat fluxes can also be determined using the wind profile data. (see spreadsheet discussion at the end of the assignment)\n",
        "\n",
        "   * Calculate the sensible heat flux using this approach for the same period as your EC analysis \n",
        "   * Compare the sensible heat fluxes obtained.\n",
        "   * Assess the SEB closure again using these results (as above). "
      ],
      "metadata": {
        "slideshow": {
          "slide_type": "subslide"
        }
      }
    },
    {
      "cell_type": "markdown",
      "source": [
        "## 8. Determine the probable errors in your results"
      ],
      "metadata": {
        "slideshow": {
          "slide_type": "subslide"
        }
      }
    },
    {
      "cell_type": "markdown",
      "source": [
        "## 9. (MT49E) EC data processing\n",
        "\n",
        "For one of the hours for which you have analysed EC data, download the raw 10 Hz data \n",
        "    * Calculate the sensible and latent heat fluxes. You will need to perform co-ordinate rotations. \n",
        "    * Calculate the Obukhov length for the same period. \n",
        "    * Compare your results to the pre-calculated heat fluxes (e.g. add data points to your previous graphs). \n",
        "    * Identify what corrections you have made to your calculations compared with other possible corrections you could have used (e.g. see Burba 2013; Kotthaus and Grimmond 2014). Consider the implications of these."
      ],
      "metadata": {
        "slideshow": {
          "slide_type": "subslide"
        }
      }
    },
    {
      "cell_type": "markdown",
      "source": [
        "## 10. Sensitivity analysis of PM equation\n",
        "\nSystematically perturb $Q^*$, $Q_G$, canopy resistance rc, roughness length z0 in the Penman Monteith equation. Which uncertainty has the biggest effect on the estimated fluxes? Derive an overall estimate for the accuracy of the Penman-Monteith method for both $Q_E$ and $Q_H$. Do this by assuming reasonable errors in the parameters and variables. What is the impact of assuming neutral conditions versus actual stability conditions on the calculated value of ra? What error in the fluxes does this cause? How will this error vary for extremely unstable or stable conditions?"
      ],
      "metadata": {
        "slideshow": {
          "slide_type": "subslide"
        }
      }
    },
    {
      "cell_type": "markdown",
      "source": [
        "## 11. Evaporation equivalent calculation\n",
        "Convert your PM $Q_E$ estimate and your EC $Q_E$ estimate from $\\mathrm{W \\ m^{-2}}$ to evapotranspiration in $\\mathrm{mm\\ day^{-1}}$. Compare these rates to the rainfall in the period around your study period. "
      ],
      "metadata": {
        "slideshow": {
          "slide_type": "subslide"
        }
      }
    }
  ],
  "metadata": {
    "kernelspec": {
      "name": "python3",
      "language": "python",
      "display_name": "Python 3"
    },
    "language_info": {
      "name": "python",
      "version": "3.7.0",
      "mimetype": "text/x-python",
      "codemirror_mode": {
        "name": "ipython",
        "version": 3
      },
      "pygments_lexer": "ipython3",
      "nbconvert_exporter": "python",
      "file_extension": ".py"
    },
    "kernel_info": {
      "name": "python3"
    },
    "nteract": {
      "version": "0.12.1"
    }
  },
  "nbformat": 4,
  "nbformat_minor": 2
}