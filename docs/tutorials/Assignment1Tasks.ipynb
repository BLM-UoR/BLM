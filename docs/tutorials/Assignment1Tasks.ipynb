{
 "cells": [
  {
   "cell_type": "markdown",
   "metadata": {
    "slideshow": {
     "slide_type": "slide"
    }
   },
   "source": [
    "## Assignment 1 Tasks"
   ]
  },
  {
   "cell_type": "markdown",
   "metadata": {
    "slideshow": {
     "slide_type": "subslide"
    }
   },
   "source": [
    "1. Identify a study period. \n",
    "    * Plot the surface energy and radiation balances for a cloudy and a sunny day. \n",
    "        - Check that the fluxes make sense\n",
    "    * Calculate the mean surface energy and radiation balance fluxes through the day (i.e. an ensemble mean) and plot these. \n",
    "    * Plot the ensemble median and the mean of the of $z'/L$.  \n",
    "    * Describe how the energy partitioning varies through the day and with synoptic conditions "
   ]
  },
  {
   "cell_type": "markdown",
   "metadata": {
    "slideshow": {
     "slide_type": "subslide"
    }
   },
   "source": [
    "2. The Penman Monteith equation provides one method to calculate the components of the surface energy balance. It assumes energy balance closure at each model time step. Evaluate the performance of the PM calculations ($Q_H$ and $Q_E$, $\\beta$) using the EC data.\n",
    "    \n",
    "    * Identify what parameters values were used initially"
   ]
  },
  {
   "cell_type": "markdown",
   "metadata": {
    "slideshow": {
     "slide_type": "subslide"
    }
   },
   "source": [
    "3. Calculate the canopy resistance from the EC and other data (this can be back-calculated). How do these values compare to the literature/textbooks? \n",
    "    * You will need dry conditions (e.g. 12 h since rain – depending on time of day) and solar radiation for the calculations (e.g. $Q^* \\gt  \\mathrm{20\\ W \\ m^{-2}}$ )"
   ]
  },
  {
   "cell_type": "markdown",
   "metadata": {
    "slideshow": {
     "slide_type": "subslide"
    }
   },
   "source": [
    "4. Eddy covariance and other observations allow a number of important parameters to be determined. These may be used as input for models. \n",
    "    * Calculate roughness length from the EC data. Calculate the roughness length and zero plane displacement height from the wind profile data. Create a graph to analyse the data (think about wind directions). \n",
    "    * Calculate the albedo for the area.  Think about the time of day.  If you had to choose one value to model the site, what would it be"
   ]
  },
  {
   "cell_type": "markdown",
   "metadata": {
    "slideshow": {
     "slide_type": "subslide"
    }
   },
   "source": [
    "5. Use the roughness length calculated and the canopy resistances to calculate the PM fluxes ($Q_H$ and $Q_E$) for the same period. What is the impact on the evaluation statistics?"
   ]
  },
  {
   "cell_type": "markdown",
   "metadata": {
    "slideshow": {
     "slide_type": "subslide"
    }
   },
   "source": [
    "6. In principle, assuming all fluxes are accurately measured, the surface energy balance (SEB) should close (i.e. inputs should equal outputs). One way to assess this is to plot the available energy ($Q^*- Q_G$) against the turbulent heat fluxes ($Q_H+Q_E$). If there is closure, each measurement period (e.g. 30 min) should plot on the 1:1 line. \n",
    "\n",
    "    * Using the observed SEB data, create a scatter plot, with a 1:1 line and calculate the linear regression through the data to assess the degree of SEB closure. \n",
    "    * Does averaging period, stability, wind direction make any difference to energy balance closure? \n",
    "    * How do your results compare to the literature? "
   ]
  },
  {
   "cell_type": "markdown",
   "metadata": {
    "slideshow": {
     "slide_type": "subslide"
    }
   },
   "source": [
    "7. The sensible heat fluxes can also be determined using the wind profile data. (see spreadsheet discussion at the end of the assignment)\n",
    "\n",
    "    * Calculate the sensible heat flux using this approach for the same period as your EC analysis \n",
    "    * Compare the sensible heat fluxes obtained.\n",
    "    * Assess the SEB closure again using these results (as above). "
   ]
  },
  {
   "cell_type": "markdown",
   "metadata": {
    "slideshow": {
     "slide_type": "subslide"
    }
   },
   "source": [
    "8. Determine the probable errors in your results"
   ]
  },
  {
   "cell_type": "markdown",
   "metadata": {
    "slideshow": {
     "slide_type": "subslide"
    }
   },
   "source": [
    "9.\t(MT49E) For one of the hours for which you have analysed EC data, download the raw 10 Hz data \n",
    "    * Calculate the sensible and latent heat fluxes. You will need to perform co-ordinate rotations. \n",
    "    * Calculate the Obukhov length for the same period. \n",
    "    * Compare your results to the pre-calculated heat fluxes (e.g. add data points to your previous graphs). \n",
    "    * Identify what corrections you have made to your calculations compared with other possible corrections you could have used (e.g. see Burba 2013; Kotthaus and Grimmond 2014). Consider the implications of these."
   ]
  },
  {
   "cell_type": "markdown",
   "metadata": {
    "slideshow": {
     "slide_type": "subslide"
    }
   },
   "source": [
    "10. Systematically perturb $Q^*$, $Q_G$, canopy resistance rc, roughness length z0 in the Penman Monteith equation. Which uncertainty has the biggest effect on the estimated fluxes? Derive an overall estimate for the accuracy of the Penman-Monteith method for both $Q_E$ and $Q_H$. Do this by assuming reasonable errors in the parameters and variables. What is the impact of assuming neutral conditions versus actual stability conditions on the calculated value of ra? What error in the fluxes does this cause? How will this error vary for extremely unstable or stable conditions?"
   ]
  },
  {
   "cell_type": "markdown",
   "metadata": {
    "slideshow": {
     "slide_type": "subslide"
    }
   },
   "source": [
    "11. Convert your PM $Q_E$ estimate and your EC $Q_E$ estimate from $\\mathrm{W \\ m^{-2}}$ to evapotranspiration in $\\mathrm{mm\\ day^{-1}}$. Compare these rates to the rainfall in the period around your study period. "
   ]
  }
 ],
 "metadata": {
  "kernelspec": {
   "display_name": "Python 3",
   "language": "python",
   "name": "python3"
  },
  "language_info": {
   "codemirror_mode": {
    "name": "ipython",
    "version": 3
   },
   "file_extension": ".py",
   "mimetype": "text/x-python",
   "name": "python",
   "nbconvert_exporter": "python",
   "pygments_lexer": "ipython3",
   "version": "3.7.0"
  }
 },
 "nbformat": 4,
 "nbformat_minor": 2
}
