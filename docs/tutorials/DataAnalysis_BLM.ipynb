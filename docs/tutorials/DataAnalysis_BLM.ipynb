{
 "cells": [
  {
   "cell_type": "markdown",
   "metadata": {},
   "source": [
    "# Data Analysis Tutorial for BLM\n",
    "**Dr Ting Sun** (ting.sun@reading.ac.uk)\n",
    "\n",
    "*2018 Autumn*"
   ]
  },
  {
   "cell_type": "markdown",
   "metadata": {},
   "source": [
    "## Basic Workflow"
   ]
  },
  {
   "cell_type": "markdown",
   "metadata": {},
   "source": [
    "* Import (and pre-process)\n",
    "\n",
    "* Analyse\n",
    "\n",
    "* Deliver"
   ]
  },
  {
   "cell_type": "markdown",
   "metadata": {},
   "source": [
    "## Tools"
   ]
  },
  {
   "cell_type": "markdown",
   "metadata": {
    "heading_collapsed": true
   },
   "source": [
    "### Essential:\n",
    "- [numpy](https://www.numpy.org): a fundamental package for scientific computing \n",
    "- [pandas](https://pandas.pydata.org): a 1D (`Series`) and 2D (`DataFrame`, aka tabular data) data analysis package \n",
    "- [matplotlib](https://matplotlib.org): a plotting package for producing publication quality figures "
   ]
  },
  {
   "cell_type": "markdown",
   "metadata": {
    "heading_collapsed": true
   },
   "source": [
    "### Advanced:\n",
    "    \n",
    "- [seaborn](http://seaborn.pydata.org): a `matploblib`-based high-level plotting package \n",
    "- [xarray](http://xarray.pydata.org): the high-dimensional \"`pandas`\"\n",
    "- [dask](https://dask.org): the parallel \"`pandas`\""
   ]
  },
  {
   "cell_type": "markdown",
   "metadata": {},
   "source": [
    "## Example 1: Evaporation analysis using Penman equation"
   ]
  },
  {
   "cell_type": "markdown",
   "metadata": {},
   "source": [
    "### Aim"
   ]
  },
  {
   "cell_type": "markdown",
   "metadata": {},
   "source": [
    "1. To obtain the essential skills in data analysis\n",
    "2. To understand the nature of the Penman equation"
   ]
  },
  {
   "cell_type": "markdown",
   "metadata": {},
   "source": [
    "### Questions"
   ]
  },
  {
   "cell_type": "markdown",
   "metadata": {},
   "source": [
    "1. How to use the Penman equation to estimate evaporation?\n",
    "    - what are the parameters that need to be prescribed?\n",
    "    - what are the input/forcing data you should prepare?\n",
    "3. Examination of Penman-based results\n",
    "    - how do we know the accuracy of our estimates? any 'truth' data?\n",
    "    - what indicators should we calculate?\n",
    "\n",
    "1. Importing the raw data and preprocessing it to do your own analysis?\n",
    "    - is it time-aware?\n",
    "    - any gaps? to fill or not? if needed, how to fill the gaps?\n",
    "\n",
    "4. What are extrinsic and intrinsic determinants of estimated evaporation based on Penman equation?\n",
    "    - what parameters are set by us?\n",
    "    - what forcing data are used?\n",
    "    - what will happen if we perturb/adjust some of/all the above factors? and why? any physical explanations?"
   ]
  },
  {
   "cell_type": "markdown",
   "metadata": {},
   "source": [
    "### Import"
   ]
  },
  {
   "cell_type": "markdown",
   "metadata": {},
   "source": [
    "#### load necessary packages"
   ]
  },
  {
   "cell_type": "code",
   "execution_count": null,
   "metadata": {},
   "outputs": [],
   "source": [
    "import pandas as pd\n",
    "import numpy as np\n",
    "import matplotlib.pyplot as plt\n",
    "import seaborn as sns\n",
    "%matplotlib inline"
   ]
  },
  {
   "cell_type": "markdown",
   "metadata": {},
   "source": [
    "#### import raw data"
   ]
  },
  {
   "cell_type": "code",
   "execution_count": null,
   "metadata": {},
   "outputs": [],
   "source": [
    "# data_raw=pd.read_csv('WP_PM_rawdata.csv',header=0,skiprows=[1]).dropna(how='all')\n",
    "data_raw = pd.read_csv('../data/PM_rawdata.csv', header=[0, 1]).dropna(how='all')\n",
    "data_raw.head().T.head()"
   ]
  },
  {
   "cell_type": "markdown",
   "metadata": {
    "heading_collapsed": true
   },
   "source": [
    "#### `DateTime`-related pre-processing"
   ]
  },
  {
   "cell_type": "code",
   "execution_count": null,
   "metadata": {
    "hidden": true
   },
   "outputs": [],
   "source": [
    "# generate correct timestamps\n",
    "def parse_dt(date, time):\n",
    "    date = pd.to_datetime(int(date), format='%Y%m%d')\n",
    "    time_str = str(int(time)).zfill(4)\n",
    "    timedelta_str = time_str[:2]+'h'+time_str[2:]+'m'\n",
    "    timedelta = pd.Timedelta(timedelta_str)\n",
    "#     print(timedelta)\n",
    "    dt = date+timedelta\n",
    "    return dt\n",
    "\n",
    "\n",
    "ser_dt = data_raw.iloc[:, [0, 1]].apply(lambda x: parse_dt(*x), axis=1)\n",
    "\n",
    "# add the `datetime` column\n",
    "data_raw['datetime'] = ser_dt\n",
    "# set a new index series to `data_PM` used for the following analysis\n",
    "data_PM = data_raw.iloc[:, 2:].set_index('datetime')"
   ]
  },
  {
   "cell_type": "markdown",
   "metadata": {},
   "source": [
    "### Analyse"
   ]
  },
  {
   "cell_type": "markdown",
   "metadata": {},
   "source": [
    "#### Modified Penman-Monteith equation:\n",
    "\n",
    "$$Q_E=L_VE=\\frac{s \\left(Q^{*} - Q_{G}\\right)}{s+ \\gamma \\left( 1+r_s/r_a \\right)}+ \\frac{\\rho c_{p} \\left(e_{T} - e\\right)/r_a}{s+ \\gamma \\left( 1+r_s/r_a \\right)}$$"
   ]
  },
  {
   "cell_type": "markdown",
   "metadata": {},
   "source": [
    "#### Parameters: \n",
    "factors that are **NOT changing** during one model run:\n",
    "\n",
    "symbol|unit|meaning|default value\n",
    ":--|---|----|-\n",
    "$\\gamma$|$\\mathrm{Pa\\ {°C}^{-1}}$|psychometric constant |0.67\n",
    "$\\rho$| $\\mathrm{kg\\ {m}^{-3} }$ |density of air |1.2\n",
    "$c_p$ | $\\mathrm{J\\ {m}^{-3} \\ {°C}^{-1}}$|heat capacity of air |1004\n",
    "$r_s$ |$\\mathrm{s\\ m^{-1}}$|surface resistance |60"
   ]
  },
  {
   "cell_type": "markdown",
   "metadata": {},
   "source": [
    "#### Forcing data\n",
    "factors that **should be provided at each time step** during one model run:\n",
    "\n",
    "symbol|unit|meaning\n",
    ":-|--|--\n",
    "$Q^{*}$|$\\mathrm{W\\ m^{-2}}$|net wall-wave radiation\n",
    "$Q_{G}$|$\\mathrm{W\\ m^{-2}}$|ground heat flux\n",
    "$e$|$\\mathrm{Pa}$|vapour pressure \n",
    "$T_a$|$\\mathrm{°C}$|air temperature\n",
    "$U$|$\\mathrm{m\\ s^{-1}}$|wind speed"
   ]
  },
  {
   "cell_type": "markdown",
   "metadata": {},
   "source": [
    "#### Intermediate states\n",
    "factors that are calculated based on **forcing data** and **parameters** but are **NOT the main outputs**\n",
    "\n",
    "\n",
    "symbol|unit |meaning\n",
    ":--|----|----:\n",
    "$e_T$ | $\\mathrm{Pa}$|saturation evaporation pressure \n",
    "${s}$|$\\mathrm{Pa \\ {°C}^{-1}}$ |slope of $e_s(T_a)$ \n",
    "$r_a$|$\\mathrm{s\\ m^{-1}}$ |aerodynamic resistance \n"
   ]
  },
  {
   "cell_type": "markdown",
   "metadata": {},
   "source": [
    "#### Implementation: `calc_PM`"
   ]
  },
  {
   "cell_type": "markdown",
   "metadata": {},
   "source": [
    "* auxiliary functions: we use `atmos` as the basic utility.\n",
    "    - `esat(Ta)`:  saturation vapour pressure at $T_a$\n",
    "    - `s(Ta)`: saturation vapour pressure slope at $T_a$\n",
    "    - `ra(U)`: aerodynamic resistance at $U$"
   ]
  },
  {
   "cell_type": "code",
   "execution_count": null,
   "metadata": {},
   "outputs": [],
   "source": [
    "from atmos import calculate as atm_calc\n",
    "\n",
    "# saturation vapour pressure in [hPa] at Ta\n",
    "\n",
    "\n",
    "def esat_hPa(Ta_K):\n",
    "    return atm_calc('es', T=Ta_K)/100\n",
    "\n",
    "# saturation vapour pressure in [hPa K-1] slope at Ta\n",
    "\n",
    "\n",
    "def s_esat_hPaKn1(Ta_K):\n",
    "    dTa_K = 0.001\n",
    "    d_esat = (esat_hPa(Ta_K)-esat_hPa(Ta_K-dTa_K))\n",
    "    return d_esat/dTa_K\n",
    "\n",
    "# aerodynamic resistance in [s m-1] at U\n",
    "\n",
    "\n",
    "def res_air_smn1(U, z_Ta=1.5, z_U=3, z0=0.01, k=0.4):\n",
    "    ustar = k*U/np.log(z_U/z0)\n",
    "    res_air = np.log(z_Ta/z0)/(ustar*k)\n",
    "    return res_air"
   ]
  },
  {
   "cell_type": "markdown",
   "metadata": {},
   "source": [
    "* `calc_PM`"
   ]
  },
  {
   "cell_type": "code",
   "execution_count": null,
   "metadata": {},
   "outputs": [],
   "source": [
    "def calc_PM(Qn, QG, e, Ta, U, rho=1.2, cp=1004, gamma=0.67, rs=60, z_Ta=1.5, z_U=3, z0=0.01, k=0.4):\n",
    "    Ta_K = Ta+273.15\n",
    "#   slope\n",
    "    s = s_esat_hPaKn1(Ta_K)\n",
    "#   aerodynamic resistance\n",
    "    ra = res_air_smn1(U, z_Ta, z_U, z0, k)\n",
    "#   numerator of PM equation\n",
    "    num_PM = s*(Qn-QG)+rho*cp*(esat_hPa(Ta_K)-e)/ra\n",
    "#   denominator of PM equation\n",
    "    denom_PM = s+gamma*(1+rs/ra)\n",
    "#     QE from PM equation\n",
    "    qe = num_PM/denom_PM\n",
    "    return qe"
   ]
  },
  {
   "cell_type": "code",
   "execution_count": null,
   "metadata": {},
   "outputs": [],
   "source": [
    "Qn = data_PM.loc[:, 'Rn'].iloc[:, 0].rename('Qn')\n",
    "QG = data_PM.loc[:, 'G'].iloc[:, 0].rename('QG')\n",
    "e = data_PM.loc[:, 'VP_der'].iloc[:, 0]\n",
    "Ta = data_PM.loc[:, 'Td'].iloc[:, 0]\n",
    "U = data_PM.loc[:, 'U10'].iloc[:, 0]\n",
    "QE = calc_PM(Qn, QG, e, Ta, U).rename('QE')\n",
    "QH = (Qn-QG-QE).rename('QH')"
   ]
  },
  {
   "cell_type": "markdown",
   "metadata": {},
   "source": [
    "#### Examine the SEB components"
   ]
  },
  {
   "cell_type": "code",
   "execution_count": null,
   "metadata": {},
   "outputs": [],
   "source": [
    "df_SEB=pd.DataFrame([Qn,QG,QE,QH]).T\n",
    "df_SEB.plot()"
   ]
  },
  {
   "cell_type": "markdown",
   "metadata": {},
   "source": [
    "#### Exploration"
   ]
  },
  {
   "cell_type": "markdown",
   "metadata": {},
   "source": [
    "##### Impacts of measurement height of wind speed `z_U`"
   ]
  },
  {
   "cell_type": "code",
   "execution_count": null,
   "metadata": {
    "scrolled": true
   },
   "outputs": [],
   "source": [
    "ser_z_U=pd.Series(np.arange(3,10,1))\n",
    "\n",
    "df_QE_zU=pd.DataFrame({x:calc_PM(Qn, QG, e, Ta, U, z_U=x) for _,x in ser_z_U.iteritems()})\n",
    "\n",
    "df_QE_zU.max().plot()"
   ]
  },
  {
   "cell_type": "markdown",
   "metadata": {},
   "source": [
    "##### Impacts of measurement height of surface roughness length `z0`"
   ]
  },
  {
   "cell_type": "code",
   "execution_count": null,
   "metadata": {},
   "outputs": [],
   "source": [
    "ser_z0=pd.Series(np.arange(0.01,0.1,0.01))\n",
    "\n",
    "df_QE_z0=pd.DataFrame({x:calc_PM(Qn, QG, e, Ta, U, z0=x) for _,x in ser_z0.iteritems()})\n",
    "\n",
    "# df_QE_z0.mean().plot.barh()\n",
    "\n",
    "df_QE_z0.max().plot()"
   ]
  },
  {
   "cell_type": "markdown",
   "metadata": {},
   "source": [
    "## Example 2: Wind and Temperature Profile"
   ]
  },
  {
   "cell_type": "markdown",
   "metadata": {},
   "source": [
    "### Basics about wind and temperature profiles"
   ]
  },
  {
   "cell_type": "markdown",
   "metadata": {},
   "source": [
    "#### neutral conditions"
   ]
  },
  {
   "cell_type": "markdown",
   "metadata": {},
   "source": [
    "The variation of mean wind speed $\\bar{u}$ with height $z$ (in surface layer, above the RSL) above an aerodynamically rough surface can be represented by a logarithmic relation:The variation of mean wind speed $\\bar{u}$ with height $z$ (in surface layer, above the RSL) above an aerodynamically rough surface can be represented by a logarithmic relation:\n",
    "\n",
    "$$\\bar{u}=\\frac{u_*}{k} \\ln \\left[ \\frac{z-d}{z_0} \\right]$$\n",
    "\n",
    "where where $u_*$ is the friction velocity ($u_*^2=-\\overline{u'w'}$) (rate of vertical transfer by turbulence of horizontal momentum per unit mass of air), $z_0$ is the roughness length of the surface for momentum, $d$ is the zero-plane displacement and $k$ is von Karman's constant (0.4).\n",
    "\n",
    "The logarithmic law is strictly valid only in neutral conditions, i.e. when the effect of buoyancy on turbulence is small compared to the effect of wind shear. In such conditions, the temperature profile in the surface layer will be close to adiabatic (i.e. $dT/dz = –9.8 \\textrm{ K km}^{-1}$ or potential temperature is constant with height). When the sensible heat flux is significantly different from zero, Monin-Obukhov theory must be used. "
   ]
  },
  {
   "cell_type": "markdown",
   "metadata": {},
   "source": [
    "#### non-neutral conditions"
   ]
  },
  {
   "cell_type": "markdown",
   "metadata": {},
   "source": [
    "Modifications to the logarithmic profile are required in conditions of non-neutral stability, using the results of Monin-Obukhov theory. This theory of the surface layer derives relations between the vertical variation of wind speed $u(z)$ and potential temperature $\\theta(z)$ (which approximates the measured temperature $T$ close to the surface), the scaling factors for momentum and temperature, $u_*$ and $T_*$, and the Monin Obukhov stability parameter,\n",
    "$$\\zeta=\\frac{z'}{L}=\\frac{k (z-d)}{u_*^3}\\frac{g}{\\theta_0}\\frac{Q_H}{\\rho c_p}$$\n",
    "\n",
    "where $L$ is the Obukhov length and $z' = z - d$.\n",
    "\n",
    "NB: the surface temperature $\\theta_0$ is an absolute temperature (units: K). "
   ]
  },
  {
   "cell_type": "markdown",
   "metadata": {},
   "source": [
    "The logarithmic profile relation can be rewritten for wind speed to include the stability corrections:\n",
    "$$\\bar{u}(z)=\\frac{u_*}{k} \\left[ \\ln \\left( \\frac{z-d}{z_0} \\right) -\\Psi_m \\left( \\frac{z-d}{L} \\right) + \\Psi_m \\left( \\frac{z_0}{L} \\right) \\right]$$\n",
    "\n",
    "and similarly for potential temperature:\n",
    "$$\\bar{\\theta}(z)=\\theta_0+\\frac{T_*}{k} \\left[ \\ln \\left( \\frac{z-d}{z_h} \\right) -\\Psi_h \\left( \\frac{z-d}{L} \\right) + \\Psi_h \\left( \\frac{z_{0h}}{L} \\right) \\right]$$\n",
    "\n",
    "where the **turbulent temperature scale** is given by\n",
    "$$T_*=-\\overline{w'T'}/u_*=-Q_H/\\left(\\rho c_p u_*\\right)$$\n",
    "\n",
    "$\\Psi_m$ is the stability correction function for momentum and $\\Psi_h$ is the stability correction function for heat. Note that both $T_*$ and $z’/L$ have the opposite sign to $Q_H$ (which is positive in unstable conditions and negative in stable conditions)."
   ]
  },
  {
   "cell_type": "markdown",
   "metadata": {},
   "source": [
    "#### stability correction functions"
   ]
  },
  {
   "cell_type": "markdown",
   "metadata": {},
   "source": [
    "The above mentioned *stability corretion functions* are formulated based on [the Monin-Obukhov similarity theory (MOST)](http://glossary.ametsoc.org/wiki/Monin-obukhov_similarity_theory) and their actual forms must be determined theoretically (e.g., [Katul et al. (2011)](https://journals.aps.org/prl/abstract/10.1103/PhysRevLett.107.268502), [Li et al. (2012)](http://dx.doi.org/10.1063/1.4757660)) or empirically (e.g., [Högström (1988)](https://link.springer.com/10.1007/BF00119875))."
   ]
  },
  {
   "cell_type": "markdown",
   "metadata": {},
   "source": [
    "One example by [Kondo (1975)](https://link.springer.com/article/10.1007/BF00232256) is as follows:\n",
    "\n",
    "* unstable conditions:\n",
    "\n",
    "$$\\Psi_{h} = -2 \\ln \\left[ \\frac{1+(1-16\\zeta)^{1/2}}{2}  \\right]$$\n",
    "$$\\Psi_{m} = 0.6\\Psi_{h}$$\n",
    "\n",
    "* stable conditions:\n",
    "\n",
    "$$\\Psi_{m} = \\Psi_{h}=6 \\ln (1+\\zeta)$$"
   ]
  },
  {
   "cell_type": "markdown",
   "metadata": {
    "heading_collapsed": true
   },
   "source": [
    "### Unstable case"
   ]
  },
  {
   "cell_type": "markdown",
   "metadata": {
    "hidden": true
   },
   "source": [
    "#### import raw data"
   ]
  },
  {
   "cell_type": "code",
   "execution_count": null,
   "metadata": {
    "hidden": true
   },
   "outputs": [],
   "source": [
    "# data_raw=pd.read_csv('WP_PM_rawdata.csv',header=0,skiprows=[1]).dropna(how='all')\n",
    "data_raw = pd.read_csv('../data/WP_unstable_rawdata.csv', header=[0, 1]).dropna(how='all')\n",
    "data_raw"
   ]
  },
  {
   "cell_type": "markdown",
   "metadata": {
    "hidden": true
   },
   "source": [
    "#### implement the stability correction function"
   ]
  },
  {
   "cell_type": "code",
   "execution_count": null,
   "metadata": {
    "hidden": true
   },
   "outputs": [],
   "source": [
    "# Psi for momentum under unstable condition\n",
    "def Psi_m_unstable(z_d, L):\n",
    "    z_L = z_d/L\n",
    "    Psi_m = 0.6*(2)*np.log((1+(1-16*z_L)**0.5)/2)\n",
    "    return Psi_m\n",
    "\n",
    "\n",
    "# wind profile function \n",
    "def func_u_z(z, u_star, z0, d=0.01, L=-2.1998, k=0.4):\n",
    "    crt = np.log((z-d)/z0)-Psi_m_unstable(z-d, L)+Psi_m_unstable(z0, L)\n",
    "    fit_u_z = u_star/k * crt\n",
    "    return fit_u_z\n",
    "\n",
    "\n",
    "# form for fitting\n",
    "def func_fit_u_z(z, u_star, z0):\n",
    "    return func_u_z(z, u_star, z0)"
   ]
  },
  {
   "cell_type": "markdown",
   "metadata": {
    "hidden": true
   },
   "source": [
    "#### fit curve by `scipy.optimize`"
   ]
  },
  {
   "cell_type": "code",
   "execution_count": null,
   "metadata": {
    "hidden": true
   },
   "outputs": [],
   "source": [
    "from scipy import optimize\n",
    "params, params_covariance = optimize.curve_fit(func_fit_u_z,\n",
    "                                               data_raw.z.values.flatten(),\n",
    "                                               data_raw.U_obs.values.flatten())\n",
    "pd.Series(params,index=['u_star','z0']).to_frame().T"
   ]
  },
  {
   "cell_type": "markdown",
   "metadata": {
    "hidden": true
   },
   "source": [
    "#### examine the fitted curve"
   ]
  },
  {
   "cell_type": "code",
   "execution_count": null,
   "metadata": {
    "hidden": true
   },
   "outputs": [],
   "source": [
    "# clean the labels\n",
    "data_fit = data_raw.copy()[['z', 'U_obs']]\n",
    "data_fit.columns = data_fit.columns.droplevel(1)\n",
    "\n",
    "# data_fit\n",
    "data_fit['U_fit'] = func_fit_u_z(data_fit.z, *params)\n",
    "data_fit"
   ]
  },
  {
   "cell_type": "code",
   "execution_count": null,
   "metadata": {
    "hidden": true,
    "scrolled": true
   },
   "outputs": [],
   "source": [
    "ax = data_fit.plot.line(x='U_fit', y='z', label='fitted')\n",
    "data_fit.plot.scatter(ax=ax, x='U_obs', y='z')"
   ]
  },
  {
   "cell_type": "markdown",
   "metadata": {
    "hidden": true
   },
   "source": [
    "#### exercise: fit the temperature profile"
   ]
  },
  {
   "cell_type": "markdown",
   "metadata": {
    "heading_collapsed": true
   },
   "source": [
    "### Stable case"
   ]
  },
  {
   "cell_type": "markdown",
   "metadata": {
    "hidden": true
   },
   "source": [
    "#### exercise: "
   ]
  },
  {
   "cell_type": "markdown",
   "metadata": {
    "hidden": true
   },
   "source": [
    "* wind speed profile"
   ]
  },
  {
   "cell_type": "markdown",
   "metadata": {
    "hidden": true
   },
   "source": [
    "* temperature profile"
   ]
  },
  {
   "cell_type": "markdown",
   "metadata": {
    "heading_collapsed": true
   },
   "source": [
    "### Exploration:  impacts of surface roughness on the profiles"
   ]
  },
  {
   "cell_type": "markdown",
   "metadata": {},
   "source": [
    "## Assignment 1 Tasks"
   ]
  },
  {
   "cell_type": "markdown",
   "metadata": {},
   "source": [
    "1. Identify a study period. \n",
    "    * Plot the surface energy and radiation balances for a cloudy and a sunny day. \n",
    "        - Check that the fluxes make sense\n",
    "    * Calculate the mean surface energy and radiation balance fluxes through the day (i.e. an ensemble mean) and plot these. \n",
    "    * Plot the ensemble median and the mean of the of $z'/L$.  \n",
    "    * Describe how the energy partitioning varies through the day and with synoptic conditions "
   ]
  },
  {
   "cell_type": "markdown",
   "metadata": {},
   "source": [
    "2. The Penman Monteith equation provides one method to calculate the components of the surface energy balance. It assumes energy balance closure at each model time step. Evaluate the performance of the PM calculations ($Q_H$ and $Q_E$, $\\beta$) using the EC data.\n",
    "    \n",
    "    * Identify what parameters values were used initially"
   ]
  },
  {
   "cell_type": "markdown",
   "metadata": {},
   "source": [
    "3. Calculate the canopy resistance from the EC and other data (this can be back-calculated). How do these values compare to the literature/textbooks? \n",
    "    * You will need dry conditions (e.g. 12 h since rain – depending on time of day) and solar radiation for the calculations (e.g. $Q^* \\gt  \\mathrm{20\\ W \\ m^{-2}}$ )"
   ]
  },
  {
   "cell_type": "markdown",
   "metadata": {},
   "source": [
    "4. Eddy covariance and other observations allow a number of important parameters to be determined. These may be used as input for models. \n",
    "    * Calculate roughness length from the EC data. Calculate the roughness length and zero plane displacement height from the wind profile data. Create a graph to analyse the data (think about wind directions). \n",
    "    * Calculate the albedo for the area.  Think about the time of day.  If you had to choose one value to model the site, what would it be"
   ]
  },
  {
   "cell_type": "markdown",
   "metadata": {},
   "source": [
    "5. Use the roughness length calculated and the canopy resistances to calculate the PM fluxes ($Q_H$ and $Q_E$) for the same period. What is the impact on the evaluation statistics?"
   ]
  },
  {
   "cell_type": "markdown",
   "metadata": {},
   "source": [
    "6. In principle, assuming all fluxes are accurately measured, the surface energy balance (SEB) should close (i.e. inputs should equal outputs). One way to assess this is to plot the available energy ($Q^*- Q_G$) against the turbulent heat fluxes ($Q_H+Q_E$). If there is closure, each measurement period (e.g. 30 min) should plot on the 1:1 line. \n",
    "\n",
    "    * Using the observed SEB data, create a scatter plot, with a 1:1 line and calculate the linear regression through the data to assess the degree of SEB closure. \n",
    "    * Does averaging period, stability, wind direction make any difference to energy balance closure? \n",
    "    * How do your results compare to the literature? "
   ]
  },
  {
   "cell_type": "markdown",
   "metadata": {},
   "source": [
    "7. The sensible heat fluxes can also be determined using the wind profile data. (see spreadsheet discussion at the end of the assignment)\n",
    "\n",
    "    * Calculate the sensible heat flux using this approach for the same period as your EC analysis \n",
    "    * Compare the sensible heat fluxes obtained.\n",
    "    * Assess the SEB closure again using these results (as above). "
   ]
  },
  {
   "cell_type": "markdown",
   "metadata": {},
   "source": [
    "8. Determine the probable errors in your results"
   ]
  },
  {
   "cell_type": "markdown",
   "metadata": {},
   "source": [
    "9.\t(MT49E) For one of the hours for which you have analysed EC data, download the raw 10 Hz data \n",
    "    * Calculate the sensible and latent heat fluxes. You will need to perform co-ordinate rotations. \n",
    "    * Calculate the Obukhov length for the same period. \n",
    "    * Compare your results to the pre-calculated heat fluxes (e.g. add data points to your previous graphs). \n",
    "    * Identify what corrections you have made to your calculations compared with other possible corrections you could have used (e.g. see Burba 2013; Kotthaus and Grimmond 2014). Consider the implications of these."
   ]
  },
  {
   "cell_type": "markdown",
   "metadata": {},
   "source": [
    "10. Systematically perturb $Q^*$, $Q_G$, canopy resistance rc, roughness length z0 in the Penman Monteith equation. Which uncertainty has the biggest effect on the estimated fluxes? Derive an overall estimate for the accuracy of the Penman-Monteith method for both $Q_E$ and $Q_H$. Do this by assuming reasonable errors in the parameters and variables. What is the impact of assuming neutral conditions versus actual stability conditions on the calculated value of ra? What error in the fluxes does this cause? How will this error vary for extremely unstable or stable conditions?"
   ]
  },
  {
   "cell_type": "markdown",
   "metadata": {},
   "source": [
    "11. Convert your PM $Q_E$ estimate and your EC $Q_E$ estimate from $\\mathrm{W \\ m^{-2}}$ to evapotranspiration in $\\mathrm{mm\\ day^{-1}}$. Compare these rates to the rainfall in the period around your study period. "
   ]
  }
 ],
 "metadata": {
  "kernel_info": {
   "name": "python3"
  },
  "kernelspec": {
   "display_name": "Python 3",
   "language": "python",
   "name": "python3"
  },
  "language_info": {
   "codemirror_mode": {
    "name": "ipython",
    "version": 3
   },
   "file_extension": ".py",
   "mimetype": "text/x-python",
   "name": "python",
   "nbconvert_exporter": "python",
   "pygments_lexer": "ipython3",
   "version": "3.7.0"
  },
  "nteract": {
   "version": "0.11.9"
  }
 },
 "nbformat": 4,
 "nbformat_minor": 2
}
