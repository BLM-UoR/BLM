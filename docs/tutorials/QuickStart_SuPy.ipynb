{
 "cells": [
  {
   "cell_type": "markdown",
   "metadata": {
    "slideshow": {
     "slide_type": "slide"
    }
   },
   "source": [
    "# Quickstart of SuPy\n",
    "\n",
    "**Dr Ting Sun** (ting.sun@reading.ac.uk)\n",
    "\n",
    "*2018 Autumn*"
   ]
  },
  {
   "cell_type": "markdown",
   "metadata": {},
   "source": [
    "\n",
    "This quickstart demonstrates the essential and simplest workflow of `supy` in [SUEWS](https://suews-docs.readthedocs.io/) simulation:\n",
    "\n",
    "1. [load SUEWS input files](#Load-SUEWS-input-files)\n",
    "2. [run SUEWS simulation](#Run-SUEWS-simulations)\n",
    "3. [examine SUEWS results](#Examine-SUEWS-results)\n",
    "\n",
    "\n",
    "Before start, we need to **install** and **load** the following necessary packages."
   ]
  },
  {
   "cell_type": "code",
   "execution_count": 1,
   "metadata": {
    "collapsed": false,
    "inputHidden": false,
    "outputHidden": true
   },
   "outputs": [
    {
     "name": "stdout",
     "output_type": "stream",
     "text": [
      "Requirement already up-to-date: numpy in /usr/local/lib/python3.7/site-packages (1.15.2)\n",
      "Requirement already up-to-date: supy in /usr/local/lib/python3.7/site-packages (0.5.1)\n",
      "Requirement already satisfied, skipping upgrade: scipy in /usr/local/lib/python3.7/site-packages (from supy) (1.1.0)\n",
      "Requirement already satisfied, skipping upgrade: f90nml in /usr/local/lib/python3.7/site-packages/f90nml-1.0.2-py3.7.egg (from supy) (1.0.2)\n",
      "Requirement already satisfied, skipping upgrade: suews-driver>=2018b6 in /usr/local/lib/python3.7/site-packages (from supy) (2018b6)\n",
      "Requirement already satisfied, skipping upgrade: pandas in /usr/local/lib/python3.7/site-packages (from supy) (0.23.4)\n",
      "Requirement already satisfied, skipping upgrade: pathlib in /usr/local/lib/python3.7/site-packages (from suews-driver>=2018b6->supy) (1.0.1)\n",
      "Requirement already satisfied, skipping upgrade: pytz>=2011k in /usr/local/lib/python3.7/site-packages (from pandas->supy) (2018.5)\n",
      "Requirement already satisfied, skipping upgrade: python-dateutil>=2.5.0 in /Users/sunt05/Library/Python/3.7/lib/python/site-packages (from pandas->supy) (2.7.3)\n",
      "Requirement already satisfied, skipping upgrade: six>=1.5 in /usr/local/lib/python3.7/site-packages (from python-dateutil>=2.5.0->pandas->supy) (1.11.0)\n"
     ]
    }
   ],
   "source": [
    "!pip install numpy supy --upgrade"
   ]
  },
  {
   "cell_type": "code",
   "execution_count": 1,
   "metadata": {
    "inputHidden": false,
    "outputHidden": false,
    "slideshow": {
     "slide_type": "subslide"
    }
   },
   "outputs": [],
   "source": [
    "import supy as sp\n",
    "import pandas as pd\n",
    "import numpy as np\n",
    "from pathlib import Path"
   ]
  },
  {
   "cell_type": "markdown",
   "metadata": {
    "slideshow": {
     "slide_type": "slide"
    }
   },
   "source": [
    "## Load SUEWS input files"
   ]
  },
  {
   "cell_type": "markdown",
   "metadata": {
    "slideshow": {
     "slide_type": "fragment"
    }
   },
   "source": [
    "First, a path to SUEWS `RunControl.nml` should be specified, which will direct `supy` to locate input files."
   ]
  },
  {
   "cell_type": "code",
   "execution_count": 2,
   "metadata": {
    "collapsed": false,
    "inputHidden": false,
    "outputHidden": false
   },
   "outputs": [],
   "source": [
    "path_runcontrol=Path('..')/'data'/'sample_run'/'RunControl.nml'"
   ]
  },
  {
   "cell_type": "markdown",
   "metadata": {
    "slideshow": {
     "slide_type": "subslide"
    }
   },
   "source": [
    "### Model configuration\n",
    "\n",
    "We call `sp.init_SUEWS_pd` to initialise a SUEWS simulation and get two `pandas` objects (note: the following names CAN be customised and are NOT fixed to the examples shown here):\n",
    "\n",
    "1. `ser_mod_cfg`: a `Series` for model-wide specifications\n",
    "2. `df_state_init`: a `DataFrame` for grid-specific settings\n",
    "\n",
    "Once loaded in, these objects CAN be modified and reused for conducting simulations that differ from the one configured via input files under the above `dir_start`."
   ]
  },
  {
   "cell_type": "code",
   "execution_count": 3,
   "metadata": {
    "inputHidden": false,
    "outputHidden": false,
    "slideshow": {
     "slide_type": "fragment"
    }
   },
   "outputs": [],
   "source": [
    "ser_mod_cfg, df_state_init = sp.init_SUEWS_pd(path_runcontrol)"
   ]
  },
  {
   "cell_type": "markdown",
   "metadata": {
    "slideshow": {
     "slide_type": "subslide"
    }
   },
   "source": [
    "A sample `ser_mod_cfg` looks like below:"
   ]
  },
  {
   "cell_type": "code",
   "execution_count": 4,
   "metadata": {
    "inputHidden": false,
    "outputHidden": false,
    "scrolled": true,
    "slideshow": {
     "slide_type": "fragment"
    }
   },
   "outputs": [
    {
     "data": {
      "text/plain": [
       "multipleestmfiles                       0\n",
       "resolutionfilesinestm                3600\n",
       "disaggmethodestm                        1\n",
       "fileinputpath                    ./Input/\n",
       "fileoutputpath                  ./Output/\n",
       "solweiguse                              0\n",
       "disaggmethod                            1\n",
       "ncol                                    1\n",
       "ncmode                                  0\n",
       "raindisaggmethod                      100\n",
       "waterdepth                          20000\n",
       "year                     [2012.0, 2013.0]\n",
       "filecode                               Kc\n",
       "writeoutoption                          2\n",
       "resolutionfilesin                    3600\n",
       "keeptstepfilesin                        0\n",
       "resolutionfilesout                   3600\n",
       "kdownzen                                0\n",
       "multipleinitfiles                       0\n",
       "multiplemetfiles                        0\n",
       "keeptstepfilesout                       0\n",
       "suppresswarnings                        1\n",
       "cbluse                                  0\n",
       "nrow                                    1\n",
       "dtype: object"
      ]
     },
     "execution_count": 4,
     "metadata": {},
     "output_type": "execute_result"
    }
   ],
   "source": [
    "ser_mod_cfg"
   ]
  },
  {
   "cell_type": "markdown",
   "metadata": {
    "slideshow": {
     "slide_type": "subslide"
    }
   },
   "source": [
    "A sample `df_state_init` looks below (note that `.T` is used here to a nicer tableform view):"
   ]
  },
  {
   "cell_type": "code",
   "execution_count": 6,
   "metadata": {
    "inputHidden": false,
    "outputHidden": false,
    "scrolled": true,
    "slideshow": {
     "slide_type": "fragment"
    }
   },
   "outputs": [
    {
     "data": {
      "text/html": [
       "<div>\n",
       "<style scoped>\n",
       "    .dataframe tbody tr th:only-of-type {\n",
       "        vertical-align: middle;\n",
       "    }\n",
       "\n",
       "    .dataframe tbody tr th {\n",
       "        vertical-align: top;\n",
       "    }\n",
       "\n",
       "    .dataframe thead th {\n",
       "        text-align: right;\n",
       "    }\n",
       "</style>\n",
       "<table border=\"1\" class=\"dataframe\">\n",
       "  <thead>\n",
       "    <tr style=\"text-align: right;\">\n",
       "      <th>grid</th>\n",
       "      <th>1</th>\n",
       "    </tr>\n",
       "  </thead>\n",
       "  <tbody>\n",
       "    <tr>\n",
       "      <th>aerodynamicresistancemethod</th>\n",
       "      <td>2</td>\n",
       "    </tr>\n",
       "    <tr>\n",
       "      <th>emissionsmethod</th>\n",
       "      <td>2</td>\n",
       "    </tr>\n",
       "    <tr>\n",
       "      <th>evapmethod</th>\n",
       "      <td>2</td>\n",
       "    </tr>\n",
       "    <tr>\n",
       "      <th>netradiationmethod</th>\n",
       "      <td>3</td>\n",
       "    </tr>\n",
       "    <tr>\n",
       "      <th>roughlenheatmethod</th>\n",
       "      <td>2</td>\n",
       "    </tr>\n",
       "    <tr>\n",
       "      <th>roughlenmommethod</th>\n",
       "      <td>2</td>\n",
       "    </tr>\n",
       "    <tr>\n",
       "      <th>smdmethod</th>\n",
       "      <td>0</td>\n",
       "    </tr>\n",
       "    <tr>\n",
       "      <th>stabilitymethod</th>\n",
       "      <td>3</td>\n",
       "    </tr>\n",
       "    <tr>\n",
       "      <th>storageheatmethod</th>\n",
       "      <td>1</td>\n",
       "    </tr>\n",
       "    <tr>\n",
       "      <th>waterusemethod</th>\n",
       "      <td>0</td>\n",
       "    </tr>\n",
       "  </tbody>\n",
       "</table>\n",
       "</div>"
      ],
      "text/plain": [
       "grid                         1\n",
       "aerodynamicresistancemethod  2\n",
       "emissionsmethod              2\n",
       "evapmethod                   2\n",
       "netradiationmethod           3\n",
       "roughlenheatmethod           2\n",
       "roughlenmommethod            2\n",
       "smdmethod                    0\n",
       "stabilitymethod              3\n",
       "storageheatmethod            1\n",
       "waterusemethod               0"
      ]
     },
     "execution_count": 6,
     "metadata": {},
     "output_type": "execute_result"
    }
   ],
   "source": [
    "df_state_init.filter(like='method').T"
   ]
  },
  {
   "cell_type": "markdown",
   "metadata": {
    "slideshow": {
     "slide_type": "subslide"
    }
   },
   "source": [
    "### Meteorological forcing\n",
    "\n",
    "Following the convention of SUEWS, `supy` loads meteorological forcing (met-forcing) files at the grid level.\n",
    "\n",
    "<div class=\"alert alert-info\">\n",
    "\n",
    "**Note:** \n",
    "    \n",
    "    If `multiplemetfiles = 0` (i.e., all grids use the same met-forcing file) is set in `ser_mod_cfg`, the `grid` argument takes NO effect and is ignored by `supy`.\n",
    "\n",
    "</div>"
   ]
  },
  {
   "cell_type": "code",
   "execution_count": 7,
   "metadata": {
    "inputHidden": false,
    "outputHidden": false,
    "slideshow": {
     "slide_type": "fragment"
    }
   },
   "outputs": [],
   "source": [
    "grid = df_state_init.index[0]\n",
    "df_forcing = sp.load_SUEWS_Forcing_df_grid(path_runcontrol, grid)"
   ]
  },
  {
   "cell_type": "markdown",
   "metadata": {
    "slideshow": {
     "slide_type": "slide"
    }
   },
   "source": [
    "## Run SUEWS simulations"
   ]
  },
  {
   "cell_type": "markdown",
   "metadata": {
    "slideshow": {
     "slide_type": "fragment"
    }
   },
   "source": [
    "Once met-forcing (via `df_forcing`) and initial conditions (via `df_state_init`) are loaded in, we call `sp.run_suews_df` to conduct a SUEWS simulation, which will return two `pandas` `DataFrame`s: `df_output` and `df_state`."
   ]
  },
  {
   "cell_type": "code",
   "execution_count": 8,
   "metadata": {
    "inputHidden": false,
    "outputHidden": false,
    "slideshow": {
     "slide_type": "fragment"
    }
   },
   "outputs": [],
   "source": [
    "df_output, df_state = sp.run_suews_df(df_forcing, df_state_init)"
   ]
  },
  {
   "cell_type": "markdown",
   "metadata": {
    "slideshow": {
     "slide_type": "subslide"
    }
   },
   "source": [
    "### `df_output`\n",
    "\n",
    "`df_output` is an ensemble output collection of major SUEWS output groups, including:\n",
    "    \n",
    "    * SUEWS: the essential SUEWS output variables\n",
    "    * DailyState: variables of daily state information\n",
    "    * snow: snow output variables (effective when `snowuse = 1` set in `ser_mod_cfg`)\n",
    "    * ESTM: ESTM output variables (not implemented yet)\n"
   ]
  },
  {
   "cell_type": "code",
   "execution_count": 9,
   "metadata": {
    "inputHidden": false,
    "outputHidden": false,
    "slideshow": {
     "slide_type": "fragment"
    }
   },
   "outputs": [
    {
     "data": {
      "text/plain": [
       "Index(['DailyState', 'ESTM', 'SUEWS', 'snow'], dtype='object', name='group')"
      ]
     },
     "execution_count": 9,
     "metadata": {},
     "output_type": "execute_result"
    }
   ],
   "source": [
    "df_output.columns.levels[0]"
   ]
  },
  {
   "cell_type": "markdown",
   "metadata": {
    "slideshow": {
     "slide_type": "subslide"
    }
   },
   "source": [
    "### `df_state`\n",
    "\n",
    "`df_state` is a `DataFrame` for holding:\n",
    "    \n",
    "   1. all model states if `save_state` is set to `True` when calling `sp.run_suews_df` and `supy` may run significantly slower for a large simulation;\n",
    "   2. or, only the final state if `save_state` is set to `False` (the default setting) in which mode `supy` has a similar performance as the standalone compiled SUEWS executable.\n",
    "\n",
    "Entries in `df_state` have the same data structure as `df_state_init` and can thus be used for other SUEWS simulations staring at the timestamp as in `df_state`."
   ]
  },
  {
   "cell_type": "code",
   "execution_count": 10,
   "metadata": {
    "inputHidden": false,
    "outputHidden": false,
    "scrolled": true,
    "slideshow": {
     "slide_type": "subslide"
    }
   },
   "outputs": [
    {
     "data": {
      "text/html": [
       "<div>\n",
       "<style scoped>\n",
       "    .dataframe tbody tr th:only-of-type {\n",
       "        vertical-align: middle;\n",
       "    }\n",
       "\n",
       "    .dataframe tbody tr th {\n",
       "        vertical-align: top;\n",
       "    }\n",
       "\n",
       "    .dataframe thead th {\n",
       "        text-align: right;\n",
       "    }\n",
       "</style>\n",
       "<table border=\"1\" class=\"dataframe\">\n",
       "  <thead>\n",
       "    <tr style=\"text-align: right;\">\n",
       "      <th></th>\n",
       "      <th>1</th>\n",
       "    </tr>\n",
       "  </thead>\n",
       "  <tbody>\n",
       "    <tr>\n",
       "      <th>aerodynamicresistancemethod</th>\n",
       "      <td>2</td>\n",
       "    </tr>\n",
       "    <tr>\n",
       "      <th>ah_min</th>\n",
       "      <td>[15.0, 15.0]</td>\n",
       "    </tr>\n",
       "    <tr>\n",
       "      <th>ah_slope_cooling</th>\n",
       "      <td>[2.7, 2.7]</td>\n",
       "    </tr>\n",
       "    <tr>\n",
       "      <th>ah_slope_heating</th>\n",
       "      <td>[2.7, 2.7]</td>\n",
       "    </tr>\n",
       "    <tr>\n",
       "      <th>ahprof_24hr</th>\n",
       "      <td>[[0.57, 0.65], [0.45, 0.49], [0.43, 0.46], [0....</td>\n",
       "    </tr>\n",
       "    <tr>\n",
       "      <th>alb</th>\n",
       "      <td>[0.12, 0.15, 0.1363636363636363, 0.15225634374...</td>\n",
       "    </tr>\n",
       "    <tr>\n",
       "      <th>albdectr_id</th>\n",
       "      <td>[0.15225634374953004]</td>\n",
       "    </tr>\n",
       "    <tr>\n",
       "      <th>albevetr_id</th>\n",
       "      <td>[0.1363636363636363]</td>\n",
       "    </tr>\n",
       "    <tr>\n",
       "      <th>albgrass_id</th>\n",
       "      <td>[0.19960460359755622]</td>\n",
       "    </tr>\n",
       "    <tr>\n",
       "      <th>albmax_dectr</th>\n",
       "      <td>0.18</td>\n",
       "    </tr>\n",
       "    <tr>\n",
       "      <th>albmax_evetr</th>\n",
       "      <td>0.12</td>\n",
       "    </tr>\n",
       "    <tr>\n",
       "      <th>albmax_grass</th>\n",
       "      <td>0.21</td>\n",
       "    </tr>\n",
       "    <tr>\n",
       "      <th>albmin_dectr</th>\n",
       "      <td>0.12</td>\n",
       "    </tr>\n",
       "    <tr>\n",
       "      <th>albmin_evetr</th>\n",
       "      <td>0.11</td>\n",
       "    </tr>\n",
       "    <tr>\n",
       "      <th>albmin_grass</th>\n",
       "      <td>0.18</td>\n",
       "    </tr>\n",
       "    <tr>\n",
       "      <th>alpha_bioco2</th>\n",
       "      <td>[0.044000000000000004, 0.044000000000000004, 0...</td>\n",
       "    </tr>\n",
       "    <tr>\n",
       "      <th>alpha_enh_bioco2</th>\n",
       "      <td>[-999.0, -999.0, -999.0]</td>\n",
       "    </tr>\n",
       "    <tr>\n",
       "      <th>alt</th>\n",
       "      <td>15</td>\n",
       "    </tr>\n",
       "    <tr>\n",
       "      <th>baset</th>\n",
       "      <td>[5.0, 5.0, 5.0]</td>\n",
       "    </tr>\n",
       "    <tr>\n",
       "      <th>basete</th>\n",
       "      <td>[11.0, 11.0, 11.0]</td>\n",
       "    </tr>\n",
       "    <tr>\n",
       "      <th>basethdd</th>\n",
       "      <td>18.2</td>\n",
       "    </tr>\n",
       "    <tr>\n",
       "      <th>beta_bioco2</th>\n",
       "      <td>[43.35, 43.35, 43.35]</td>\n",
       "    </tr>\n",
       "    <tr>\n",
       "      <th>beta_enh_bioco2</th>\n",
       "      <td>[-999.0, -999.0, -999.0]</td>\n",
       "    </tr>\n",
       "    <tr>\n",
       "      <th>bldgh</th>\n",
       "      <td>0.001</td>\n",
       "    </tr>\n",
       "    <tr>\n",
       "      <th>capmax_dec</th>\n",
       "      <td>0.8</td>\n",
       "    </tr>\n",
       "    <tr>\n",
       "      <th>capmin_dec</th>\n",
       "      <td>0.3</td>\n",
       "    </tr>\n",
       "    <tr>\n",
       "      <th>chanohm</th>\n",
       "      <td>[2.0, 6.0, 4.0, 4.0, 4.0, 5.0, 4.0]</td>\n",
       "    </tr>\n",
       "    <tr>\n",
       "      <th>cpanohm</th>\n",
       "      <td>[1500000.0, 6000000.0, 1000000.0, 1000000.0, 1...</td>\n",
       "    </tr>\n",
       "    <tr>\n",
       "      <th>crwmax</th>\n",
       "      <td>0.1</td>\n",
       "    </tr>\n",
       "    <tr>\n",
       "      <th>crwmin</th>\n",
       "      <td>0.03</td>\n",
       "    </tr>\n",
       "    <tr>\n",
       "      <th>...</th>\n",
       "      <td>...</td>\n",
       "    </tr>\n",
       "    <tr>\n",
       "      <th>statelimit</th>\n",
       "      <td>[0.48, 0.25, 1.3, 0.8, 1.9, 1.0, 30000.0]</td>\n",
       "    </tr>\n",
       "    <tr>\n",
       "      <th>storageheatmethod</th>\n",
       "      <td>1</td>\n",
       "    </tr>\n",
       "    <tr>\n",
       "      <th>storedrainprm</th>\n",
       "      <td>[[0.48, 0.25, 1.3, 0.3, 1.9, 1.0, 0.5], [3.0, ...</td>\n",
       "    </tr>\n",
       "    <tr>\n",
       "      <th>surfacearea</th>\n",
       "      <td>10000.0</td>\n",
       "    </tr>\n",
       "    <tr>\n",
       "      <th>t_critic_cooling</th>\n",
       "      <td>[7.0, 7.0]</td>\n",
       "    </tr>\n",
       "    <tr>\n",
       "      <th>t_critic_heating</th>\n",
       "      <td>[7.0, 7.0]</td>\n",
       "    </tr>\n",
       "    <tr>\n",
       "      <th>tair24hr</th>\n",
       "      <td>[273.15, 273.15, 273.15, 273.15, 273.15, 273.1...</td>\n",
       "    </tr>\n",
       "    <tr>\n",
       "      <th>tau_a</th>\n",
       "      <td>0.01</td>\n",
       "    </tr>\n",
       "    <tr>\n",
       "      <th>tau_f</th>\n",
       "      <td>0.1</td>\n",
       "    </tr>\n",
       "    <tr>\n",
       "      <th>tau_r</th>\n",
       "      <td>0.02</td>\n",
       "    </tr>\n",
       "    <tr>\n",
       "      <th>tempmeltfact</th>\n",
       "      <td>0.14</td>\n",
       "    </tr>\n",
       "    <tr>\n",
       "      <th>th</th>\n",
       "      <td>55</td>\n",
       "    </tr>\n",
       "    <tr>\n",
       "      <th>theta_bioco2</th>\n",
       "      <td>[-999.0, -999.0, -999.0]</td>\n",
       "    </tr>\n",
       "    <tr>\n",
       "      <th>timezone</th>\n",
       "      <td>2</td>\n",
       "    </tr>\n",
       "    <tr>\n",
       "      <th>tl</th>\n",
       "      <td>-10</td>\n",
       "    </tr>\n",
       "    <tr>\n",
       "      <th>trafficrate</th>\n",
       "      <td>[0.0134, 0.0095]</td>\n",
       "    </tr>\n",
       "    <tr>\n",
       "      <th>trafficunits</th>\n",
       "      <td>1</td>\n",
       "    </tr>\n",
       "    <tr>\n",
       "      <th>traffprof_24hr</th>\n",
       "      <td>[[0.19, 0.55], [0.14, 0.54], [0.12, 0.51], [0....</td>\n",
       "    </tr>\n",
       "    <tr>\n",
       "      <th>tstep</th>\n",
       "      <td>300</td>\n",
       "    </tr>\n",
       "    <tr>\n",
       "      <th>tstep_prev</th>\n",
       "      <td>300</td>\n",
       "    </tr>\n",
       "    <tr>\n",
       "      <th>veg_type</th>\n",
       "      <td>1</td>\n",
       "    </tr>\n",
       "    <tr>\n",
       "      <th>waterdist</th>\n",
       "      <td>[[0.0, 0.1, 0.1, 0.1, 0.0, 0.0], [0.0, 0.0, 0....</td>\n",
       "    </tr>\n",
       "    <tr>\n",
       "      <th>waterusemethod</th>\n",
       "      <td>0</td>\n",
       "    </tr>\n",
       "    <tr>\n",
       "      <th>wetthresh</th>\n",
       "      <td>[0.48, 0.25, 1.3, 0.8, 1.9, 1.0, 0.5]</td>\n",
       "    </tr>\n",
       "    <tr>\n",
       "      <th>wuday_id</th>\n",
       "      <td>[0.0, 0.0, 0.0, 0.0, 0.0, 0.0, 0.0, 0.0, 0.0]</td>\n",
       "    </tr>\n",
       "    <tr>\n",
       "      <th>wuprofa_24hr</th>\n",
       "      <td>[[-999.0, -999.0], [-999.0, -999.0], [-999.0, ...</td>\n",
       "    </tr>\n",
       "    <tr>\n",
       "      <th>wuprofm_24hr</th>\n",
       "      <td>[[-999.0, -999.0], [-999.0, -999.0], [-999.0, ...</td>\n",
       "    </tr>\n",
       "    <tr>\n",
       "      <th>z</th>\n",
       "      <td>10</td>\n",
       "    </tr>\n",
       "    <tr>\n",
       "      <th>z0m_in</th>\n",
       "      <td>0.01</td>\n",
       "    </tr>\n",
       "    <tr>\n",
       "      <th>zdm_in</th>\n",
       "      <td>0.2</td>\n",
       "    </tr>\n",
       "  </tbody>\n",
       "</table>\n",
       "<p>179 rows × 1 columns</p>\n",
       "</div>"
      ],
      "text/plain": [
       "                                                                             1\n",
       "aerodynamicresistancemethod                                                  2\n",
       "ah_min                                                            [15.0, 15.0]\n",
       "ah_slope_cooling                                                    [2.7, 2.7]\n",
       "ah_slope_heating                                                    [2.7, 2.7]\n",
       "ahprof_24hr                  [[0.57, 0.65], [0.45, 0.49], [0.43, 0.46], [0....\n",
       "alb                          [0.12, 0.15, 0.1363636363636363, 0.15225634374...\n",
       "albdectr_id                                              [0.15225634374953004]\n",
       "albevetr_id                                               [0.1363636363636363]\n",
       "albgrass_id                                              [0.19960460359755622]\n",
       "albmax_dectr                                                              0.18\n",
       "albmax_evetr                                                              0.12\n",
       "albmax_grass                                                              0.21\n",
       "albmin_dectr                                                              0.12\n",
       "albmin_evetr                                                              0.11\n",
       "albmin_grass                                                              0.18\n",
       "alpha_bioco2                 [0.044000000000000004, 0.044000000000000004, 0...\n",
       "alpha_enh_bioco2                                      [-999.0, -999.0, -999.0]\n",
       "alt                                                                         15\n",
       "baset                                                          [5.0, 5.0, 5.0]\n",
       "basete                                                      [11.0, 11.0, 11.0]\n",
       "basethdd                                                                  18.2\n",
       "beta_bioco2                                              [43.35, 43.35, 43.35]\n",
       "beta_enh_bioco2                                       [-999.0, -999.0, -999.0]\n",
       "bldgh                                                                    0.001\n",
       "capmax_dec                                                                 0.8\n",
       "capmin_dec                                                                 0.3\n",
       "chanohm                                    [2.0, 6.0, 4.0, 4.0, 4.0, 5.0, 4.0]\n",
       "cpanohm                      [1500000.0, 6000000.0, 1000000.0, 1000000.0, 1...\n",
       "crwmax                                                                     0.1\n",
       "crwmin                                                                    0.03\n",
       "...                                                                        ...\n",
       "statelimit                           [0.48, 0.25, 1.3, 0.8, 1.9, 1.0, 30000.0]\n",
       "storageheatmethod                                                            1\n",
       "storedrainprm                [[0.48, 0.25, 1.3, 0.3, 1.9, 1.0, 0.5], [3.0, ...\n",
       "surfacearea                                                            10000.0\n",
       "t_critic_cooling                                                    [7.0, 7.0]\n",
       "t_critic_heating                                                    [7.0, 7.0]\n",
       "tair24hr                     [273.15, 273.15, 273.15, 273.15, 273.15, 273.1...\n",
       "tau_a                                                                     0.01\n",
       "tau_f                                                                      0.1\n",
       "tau_r                                                                     0.02\n",
       "tempmeltfact                                                              0.14\n",
       "th                                                                          55\n",
       "theta_bioco2                                          [-999.0, -999.0, -999.0]\n",
       "timezone                                                                     2\n",
       "tl                                                                         -10\n",
       "trafficrate                                                   [0.0134, 0.0095]\n",
       "trafficunits                                                                 1\n",
       "traffprof_24hr               [[0.19, 0.55], [0.14, 0.54], [0.12, 0.51], [0....\n",
       "tstep                                                                      300\n",
       "tstep_prev                                                                 300\n",
       "veg_type                                                                     1\n",
       "waterdist                    [[0.0, 0.1, 0.1, 0.1, 0.0, 0.0], [0.0, 0.0, 0....\n",
       "waterusemethod                                                               0\n",
       "wetthresh                                [0.48, 0.25, 1.3, 0.8, 1.9, 1.0, 0.5]\n",
       "wuday_id                         [0.0, 0.0, 0.0, 0.0, 0.0, 0.0, 0.0, 0.0, 0.0]\n",
       "wuprofa_24hr                 [[-999.0, -999.0], [-999.0, -999.0], [-999.0, ...\n",
       "wuprofm_24hr                 [[-999.0, -999.0], [-999.0, -999.0], [-999.0, ...\n",
       "z                                                                           10\n",
       "z0m_in                                                                    0.01\n",
       "zdm_in                                                                     0.2\n",
       "\n",
       "[179 rows x 1 columns]"
      ]
     },
     "execution_count": 10,
     "metadata": {},
     "output_type": "execute_result"
    }
   ],
   "source": [
    "df_state.T"
   ]
  },
  {
   "cell_type": "markdown",
   "metadata": {
    "slideshow": {
     "slide_type": "slide"
    }
   },
   "source": [
    "## Examine SUEWS results"
   ]
  },
  {
   "cell_type": "markdown",
   "metadata": {
    "slideshow": {
     "slide_type": "fragment"
    }
   },
   "source": [
    "Thanks to the functionality inherited from `pandas` and other packages under the [PyData](https://pydata.org) stack, compared with the standard SUEWS simulation workflow, `supy` enables more convenient examination of SUEWS results by statistics calculation, resampling, plotting (and many more)."
   ]
  },
  {
   "cell_type": "markdown",
   "metadata": {
    "slideshow": {
     "slide_type": "subslide"
    }
   },
   "source": [
    "### Ouptut structure\n",
    "\n",
    "`df_output` is organised with `MultiIndex` `(grid,timestamp)` and `(group,varaible)` as `index` and `columns`, respectively."
   ]
  },
  {
   "cell_type": "code",
   "execution_count": 11,
   "metadata": {
    "inputHidden": false,
    "outputHidden": false,
    "slideshow": {
     "slide_type": "fragment"
    }
   },
   "outputs": [
    {
     "data": {
      "text/html": [
       "<div>\n",
       "<style scoped>\n",
       "    .dataframe tbody tr th:only-of-type {\n",
       "        vertical-align: middle;\n",
       "    }\n",
       "\n",
       "    .dataframe tbody tr th {\n",
       "        vertical-align: top;\n",
       "    }\n",
       "\n",
       "    .dataframe thead tr th {\n",
       "        text-align: left;\n",
       "    }\n",
       "\n",
       "    .dataframe thead tr:last-of-type th {\n",
       "        text-align: right;\n",
       "    }\n",
       "</style>\n",
       "<table border=\"1\" class=\"dataframe\">\n",
       "  <thead>\n",
       "    <tr>\n",
       "      <th></th>\n",
       "      <th>group</th>\n",
       "      <th colspan=\"10\" halign=\"left\">SUEWS</th>\n",
       "      <th>...</th>\n",
       "      <th colspan=\"10\" halign=\"left\">DailyState</th>\n",
       "    </tr>\n",
       "    <tr>\n",
       "      <th></th>\n",
       "      <th>var</th>\n",
       "      <th>Kdown</th>\n",
       "      <th>Kup</th>\n",
       "      <th>Ldown</th>\n",
       "      <th>Lup</th>\n",
       "      <th>Tsurf</th>\n",
       "      <th>QN</th>\n",
       "      <th>QF</th>\n",
       "      <th>QS</th>\n",
       "      <th>QH</th>\n",
       "      <th>QE</th>\n",
       "      <th>...</th>\n",
       "      <th>DSnowPvd</th>\n",
       "      <th>DSnowBldgs</th>\n",
       "      <th>DSnowEveTr</th>\n",
       "      <th>DSnowDecTr</th>\n",
       "      <th>DSnowGrass</th>\n",
       "      <th>DSnowBSoil</th>\n",
       "      <th>DSnowWater</th>\n",
       "      <th>a1</th>\n",
       "      <th>a2</th>\n",
       "      <th>a3</th>\n",
       "    </tr>\n",
       "    <tr>\n",
       "      <th>grid</th>\n",
       "      <th>datetime</th>\n",
       "      <th></th>\n",
       "      <th></th>\n",
       "      <th></th>\n",
       "      <th></th>\n",
       "      <th></th>\n",
       "      <th></th>\n",
       "      <th></th>\n",
       "      <th></th>\n",
       "      <th></th>\n",
       "      <th></th>\n",
       "      <th></th>\n",
       "      <th></th>\n",
       "      <th></th>\n",
       "      <th></th>\n",
       "      <th></th>\n",
       "      <th></th>\n",
       "      <th></th>\n",
       "      <th></th>\n",
       "      <th></th>\n",
       "      <th></th>\n",
       "      <th></th>\n",
       "    </tr>\n",
       "  </thead>\n",
       "  <tbody>\n",
       "    <tr>\n",
       "      <th rowspan=\"5\" valign=\"top\">1</th>\n",
       "      <th>2012-01-01 00:30:00</th>\n",
       "      <td>0.153333</td>\n",
       "      <td>0.0184</td>\n",
       "      <td>344.310184</td>\n",
       "      <td>372.270369</td>\n",
       "      <td>11.775916</td>\n",
       "      <td>-27.825251</td>\n",
       "      <td>0.0</td>\n",
       "      <td>-156.208405</td>\n",
       "      <td>128.383154</td>\n",
       "      <td>0.0</td>\n",
       "      <td>...</td>\n",
       "      <td>NaN</td>\n",
       "      <td>NaN</td>\n",
       "      <td>NaN</td>\n",
       "      <td>NaN</td>\n",
       "      <td>NaN</td>\n",
       "      <td>NaN</td>\n",
       "      <td>NaN</td>\n",
       "      <td>NaN</td>\n",
       "      <td>NaN</td>\n",
       "      <td>NaN</td>\n",
       "    </tr>\n",
       "    <tr>\n",
       "      <th>2012-01-01 00:35:00</th>\n",
       "      <td>0.153333</td>\n",
       "      <td>0.0184</td>\n",
       "      <td>344.310184</td>\n",
       "      <td>372.270369</td>\n",
       "      <td>11.775916</td>\n",
       "      <td>-27.825251</td>\n",
       "      <td>0.0</td>\n",
       "      <td>-156.208405</td>\n",
       "      <td>128.383154</td>\n",
       "      <td>0.0</td>\n",
       "      <td>...</td>\n",
       "      <td>NaN</td>\n",
       "      <td>NaN</td>\n",
       "      <td>NaN</td>\n",
       "      <td>NaN</td>\n",
       "      <td>NaN</td>\n",
       "      <td>NaN</td>\n",
       "      <td>NaN</td>\n",
       "      <td>NaN</td>\n",
       "      <td>NaN</td>\n",
       "      <td>NaN</td>\n",
       "    </tr>\n",
       "    <tr>\n",
       "      <th>2012-01-01 00:40:00</th>\n",
       "      <td>0.140000</td>\n",
       "      <td>0.0168</td>\n",
       "      <td>344.343664</td>\n",
       "      <td>372.308487</td>\n",
       "      <td>11.783227</td>\n",
       "      <td>-27.841623</td>\n",
       "      <td>0.0</td>\n",
       "      <td>-156.221765</td>\n",
       "      <td>128.380141</td>\n",
       "      <td>0.0</td>\n",
       "      <td>...</td>\n",
       "      <td>NaN</td>\n",
       "      <td>NaN</td>\n",
       "      <td>NaN</td>\n",
       "      <td>NaN</td>\n",
       "      <td>NaN</td>\n",
       "      <td>NaN</td>\n",
       "      <td>NaN</td>\n",
       "      <td>NaN</td>\n",
       "      <td>NaN</td>\n",
       "      <td>NaN</td>\n",
       "    </tr>\n",
       "    <tr>\n",
       "      <th>2012-01-01 00:45:00</th>\n",
       "      <td>0.126667</td>\n",
       "      <td>0.0152</td>\n",
       "      <td>344.377146</td>\n",
       "      <td>372.346609</td>\n",
       "      <td>11.790539</td>\n",
       "      <td>-27.857996</td>\n",
       "      <td>0.0</td>\n",
       "      <td>-156.235125</td>\n",
       "      <td>128.377129</td>\n",
       "      <td>0.0</td>\n",
       "      <td>...</td>\n",
       "      <td>NaN</td>\n",
       "      <td>NaN</td>\n",
       "      <td>NaN</td>\n",
       "      <td>NaN</td>\n",
       "      <td>NaN</td>\n",
       "      <td>NaN</td>\n",
       "      <td>NaN</td>\n",
       "      <td>NaN</td>\n",
       "      <td>NaN</td>\n",
       "      <td>NaN</td>\n",
       "    </tr>\n",
       "    <tr>\n",
       "      <th>2012-01-01 00:50:00</th>\n",
       "      <td>0.113333</td>\n",
       "      <td>0.0136</td>\n",
       "      <td>344.410631</td>\n",
       "      <td>372.384734</td>\n",
       "      <td>11.797850</td>\n",
       "      <td>-27.874370</td>\n",
       "      <td>0.0</td>\n",
       "      <td>-156.248486</td>\n",
       "      <td>128.374116</td>\n",
       "      <td>0.0</td>\n",
       "      <td>...</td>\n",
       "      <td>NaN</td>\n",
       "      <td>NaN</td>\n",
       "      <td>NaN</td>\n",
       "      <td>NaN</td>\n",
       "      <td>NaN</td>\n",
       "      <td>NaN</td>\n",
       "      <td>NaN</td>\n",
       "      <td>NaN</td>\n",
       "      <td>NaN</td>\n",
       "      <td>NaN</td>\n",
       "    </tr>\n",
       "  </tbody>\n",
       "</table>\n",
       "<p>5 rows × 245 columns</p>\n",
       "</div>"
      ],
      "text/plain": [
       "group                        SUEWS                                             \\\n",
       "var                          Kdown     Kup       Ldown         Lup      Tsurf   \n",
       "grid datetime                                                                   \n",
       "1    2012-01-01 00:30:00  0.153333  0.0184  344.310184  372.270369  11.775916   \n",
       "     2012-01-01 00:35:00  0.153333  0.0184  344.310184  372.270369  11.775916   \n",
       "     2012-01-01 00:40:00  0.140000  0.0168  344.343664  372.308487  11.783227   \n",
       "     2012-01-01 00:45:00  0.126667  0.0152  344.377146  372.346609  11.790539   \n",
       "     2012-01-01 00:50:00  0.113333  0.0136  344.410631  372.384734  11.797850   \n",
       "\n",
       "group                                                                 ...  \\\n",
       "var                              QN   QF          QS          QH   QE ...   \n",
       "grid datetime                                                         ...   \n",
       "1    2012-01-01 00:30:00 -27.825251  0.0 -156.208405  128.383154  0.0 ...   \n",
       "     2012-01-01 00:35:00 -27.825251  0.0 -156.208405  128.383154  0.0 ...   \n",
       "     2012-01-01 00:40:00 -27.841623  0.0 -156.221765  128.380141  0.0 ...   \n",
       "     2012-01-01 00:45:00 -27.857996  0.0 -156.235125  128.377129  0.0 ...   \n",
       "     2012-01-01 00:50:00 -27.874370  0.0 -156.248486  128.374116  0.0 ...   \n",
       "\n",
       "group                    DailyState                                   \\\n",
       "var                        DSnowPvd DSnowBldgs DSnowEveTr DSnowDecTr   \n",
       "grid datetime                                                          \n",
       "1    2012-01-01 00:30:00        NaN        NaN        NaN        NaN   \n",
       "     2012-01-01 00:35:00        NaN        NaN        NaN        NaN   \n",
       "     2012-01-01 00:40:00        NaN        NaN        NaN        NaN   \n",
       "     2012-01-01 00:45:00        NaN        NaN        NaN        NaN   \n",
       "     2012-01-01 00:50:00        NaN        NaN        NaN        NaN   \n",
       "\n",
       "group                                                                  \n",
       "var                      DSnowGrass DSnowBSoil DSnowWater  a1  a2  a3  \n",
       "grid datetime                                                          \n",
       "1    2012-01-01 00:30:00        NaN        NaN        NaN NaN NaN NaN  \n",
       "     2012-01-01 00:35:00        NaN        NaN        NaN NaN NaN NaN  \n",
       "     2012-01-01 00:40:00        NaN        NaN        NaN NaN NaN NaN  \n",
       "     2012-01-01 00:45:00        NaN        NaN        NaN NaN NaN NaN  \n",
       "     2012-01-01 00:50:00        NaN        NaN        NaN NaN NaN NaN  \n",
       "\n",
       "[5 rows x 245 columns]"
      ]
     },
     "execution_count": 11,
     "metadata": {},
     "output_type": "execute_result"
    }
   ],
   "source": [
    "df_output.head()"
   ]
  },
  {
   "cell_type": "markdown",
   "metadata": {
    "slideshow": {
     "slide_type": "subslide"
    }
   },
   "source": [
    "Here we demonstrate several typical scenarios for SUEWS results examination.\n",
    "\n",
    "The essential `SUEWS` output collection is extracted as a separate variable for easier processing in the following sections. More [advanced slicing techniques](http://pandas.pydata.org/pandas-docs/stable/advanced.html#multiindex-advanced-indexing) are available in `pandas` documentation."
   ]
  },
  {
   "cell_type": "code",
   "execution_count": 12,
   "metadata": {
    "inputHidden": false,
    "outputHidden": false,
    "slideshow": {
     "slide_type": "fragment"
    }
   },
   "outputs": [],
   "source": [
    "df_output_suews=df_output['SUEWS']"
   ]
  },
  {
   "cell_type": "markdown",
   "metadata": {
    "slideshow": {
     "slide_type": "subslide"
    }
   },
   "source": [
    "### Statistics Calculation\n",
    "\n",
    "We can use `.describe()` method for a quick overview of the key surface energy balance budgets."
   ]
  },
  {
   "cell_type": "code",
   "execution_count": 13,
   "metadata": {
    "inputHidden": false,
    "outputHidden": false,
    "slideshow": {
     "slide_type": "-"
    }
   },
   "outputs": [
    {
     "data": {
      "text/html": [
       "<div>\n",
       "<style scoped>\n",
       "    .dataframe tbody tr th:only-of-type {\n",
       "        vertical-align: middle;\n",
       "    }\n",
       "\n",
       "    .dataframe tbody tr th {\n",
       "        vertical-align: top;\n",
       "    }\n",
       "\n",
       "    .dataframe thead th {\n",
       "        text-align: right;\n",
       "    }\n",
       "</style>\n",
       "<table border=\"1\" class=\"dataframe\">\n",
       "  <thead>\n",
       "    <tr style=\"text-align: right;\">\n",
       "      <th>var</th>\n",
       "      <th>QN</th>\n",
       "      <th>QS</th>\n",
       "      <th>QH</th>\n",
       "      <th>QE</th>\n",
       "      <th>QF</th>\n",
       "    </tr>\n",
       "  </thead>\n",
       "  <tbody>\n",
       "    <tr>\n",
       "      <th>count</th>\n",
       "      <td>105397.000000</td>\n",
       "      <td>105397.000000</td>\n",
       "      <td>105397.000000</td>\n",
       "      <td>105397.000000</td>\n",
       "      <td>105397.0</td>\n",
       "    </tr>\n",
       "    <tr>\n",
       "      <th>mean</th>\n",
       "      <td>43.088982</td>\n",
       "      <td>-98.342391</td>\n",
       "      <td>131.026899</td>\n",
       "      <td>10.404474</td>\n",
       "      <td>0.0</td>\n",
       "    </tr>\n",
       "    <tr>\n",
       "      <th>std</th>\n",
       "      <td>136.465193</td>\n",
       "      <td>111.355598</td>\n",
       "      <td>34.453585</td>\n",
       "      <td>22.753825</td>\n",
       "      <td>0.0</td>\n",
       "    </tr>\n",
       "    <tr>\n",
       "      <th>min</th>\n",
       "      <td>-85.761254</td>\n",
       "      <td>-203.484183</td>\n",
       "      <td>-6.928077</td>\n",
       "      <td>0.000000</td>\n",
       "      <td>0.0</td>\n",
       "    </tr>\n",
       "    <tr>\n",
       "      <th>25%</th>\n",
       "      <td>-41.724491</td>\n",
       "      <td>-167.550184</td>\n",
       "      <td>122.439764</td>\n",
       "      <td>0.000000</td>\n",
       "      <td>0.0</td>\n",
       "    </tr>\n",
       "    <tr>\n",
       "      <th>50%</th>\n",
       "      <td>-25.247367</td>\n",
       "      <td>-154.104851</td>\n",
       "      <td>126.377547</td>\n",
       "      <td>0.000000</td>\n",
       "      <td>0.0</td>\n",
       "    </tr>\n",
       "    <tr>\n",
       "      <th>75%</th>\n",
       "      <td>78.333777</td>\n",
       "      <td>-69.582638</td>\n",
       "      <td>142.053720</td>\n",
       "      <td>6.579627</td>\n",
       "      <td>0.0</td>\n",
       "    </tr>\n",
       "    <tr>\n",
       "      <th>max</th>\n",
       "      <td>698.440633</td>\n",
       "      <td>436.424557</td>\n",
       "      <td>262.016077</td>\n",
       "      <td>190.951936</td>\n",
       "      <td>0.0</td>\n",
       "    </tr>\n",
       "  </tbody>\n",
       "</table>\n",
       "</div>"
      ],
      "text/plain": [
       "var               QN             QS             QH             QE        QF\n",
       "count  105397.000000  105397.000000  105397.000000  105397.000000  105397.0\n",
       "mean       43.088982     -98.342391     131.026899      10.404474       0.0\n",
       "std       136.465193     111.355598      34.453585      22.753825       0.0\n",
       "min       -85.761254    -203.484183      -6.928077       0.000000       0.0\n",
       "25%       -41.724491    -167.550184     122.439764       0.000000       0.0\n",
       "50%       -25.247367    -154.104851     126.377547       0.000000       0.0\n",
       "75%        78.333777     -69.582638     142.053720       6.579627       0.0\n",
       "max       698.440633     436.424557     262.016077     190.951936       0.0"
      ]
     },
     "execution_count": 13,
     "metadata": {},
     "output_type": "execute_result"
    }
   ],
   "source": [
    "df_output_suews.loc[:,['QN','QS','QH','QE','QF']].describe()"
   ]
  },
  {
   "cell_type": "markdown",
   "metadata": {
    "slideshow": {
     "slide_type": "subslide"
    }
   },
   "source": [
    "### Plotting\n",
    "\n",
    "Plotting is very straightforward via the `.plot` method bounded with `pandas` objects."
   ]
  },
  {
   "cell_type": "code",
   "execution_count": 25,
   "metadata": {
    "inputHidden": false,
    "outputHidden": false
   },
   "outputs": [
    {
     "data": {
      "text/plain": [
       "<matplotlib.axes._subplots.AxesSubplot at 0x1139f8128>"
      ]
     },
     "execution_count": 25,
     "metadata": {},
     "output_type": "execute_result"
    },
    {
     "data": {
      "image/png": "[encoded data removed]",
      "text/plain": [
       "<Figure size 432x288 with 1 Axes>"
      ]
     },
     "metadata": {},
     "output_type": "display_data"
    }
   ],
   "source": [
    "df_output_suews.loc[1].loc[\n",
    "    '2012 6 1':'2012 6 13',\n",
    "    ['QN','QS','QE','QH','QF']\n",
    "].plot()"
   ]
  },
  {
   "cell_type": "markdown",
   "metadata": {
    "slideshow": {
     "slide_type": "subslide"
    }
   },
   "source": [
    "### Resampling\n",
    "\n",
    "The suggested runtime/simulation frequency of SUEWS is `300 s`, which usually results a large output and may be over-weighted for storage. To slim down the output size, we can `resample` the default output. "
   ]
  },
  {
   "cell_type": "code",
   "execution_count": 17,
   "metadata": {
    "inputHidden": false,
    "outputHidden": false,
    "slideshow": {
     "slide_type": "fragment"
    }
   },
   "outputs": [],
   "source": [
    "df_output_suews_rsmp=df_output_suews.loc[1].resample('1h').mean()"
   ]
  },
  {
   "cell_type": "code",
   "execution_count": 23,
   "metadata": {
    "inputHidden": false,
    "outputHidden": false,
    "slideshow": {
     "slide_type": "fragment"
    }
   },
   "outputs": [
    {
     "data": {
      "text/plain": [
       "<matplotlib.axes._subplots.AxesSubplot at 0x10e62e940>"
      ]
     },
     "execution_count": 23,
     "metadata": {},
     "output_type": "execute_result"
    },
    {
     "data": {
      "image/png": "[encoded data removed]",
      "text/plain": [
       "<Figure size 432x288 with 1 Axes>"
      ]
     },
     "metadata": {},
     "output_type": "display_data"
    }
   ],
   "source": [
    "df_output_suews_rsmp.loc[\n",
    "    '2012 6 1':'2012 6 7',\n",
    "    ['QN','QS','QE','QH','QF']].plot()"
   ]
  },
  {
   "cell_type": "markdown",
   "metadata": {
    "slideshow": {
     "slide_type": "subslide"
    }
   },
   "source": [
    "The resampled output can be outputed for a smaller file."
   ]
  },
  {
   "cell_type": "code",
   "execution_count": 20,
   "metadata": {
    "inputHidden": false,
    "outputHidden": false,
    "slideshow": {
     "slide_type": "fragment"
    }
   },
   "outputs": [],
   "source": [
    "df_output_suews_rsmp.to_csv('suews_1h.txt',\n",
    "                            sep='\\t',\n",
    "                            float_format='%8.2f',\n",
    "                            na_rep=-999)"
   ]
  },
  {
   "cell_type": "markdown",
   "metadata": {
    "slideshow": {
     "slide_type": "fragment"
    }
   },
   "source": [
    "For a justified format, we use the `to_string` for better format controlling and write the formatted string out to a file."
   ]
  },
  {
   "cell_type": "code",
   "execution_count": 21,
   "metadata": {
    "inputHidden": false,
    "outputHidden": false,
    "slideshow": {
     "slide_type": "fragment"
    }
   },
   "outputs": [],
   "source": [
    "str_out=df_output_suews_rsmp.to_string(\n",
    "    float_format='%8.2f',\n",
    "    na_rep='-999',\n",
    "    justify='right')\n",
    "with open('suews_sample.txt','w') as file_out:\n",
    "    print(str_out,file=file_out)"
   ]
  }
 ],
 "metadata": {
  "kernel_info": {
   "name": "python3"
  },
  "kernelspec": {
   "display_name": "Python 3",
   "language": "python",
   "name": "python3"
  },
  "language_info": {
   "codemirror_mode": {
    "name": "ipython",
    "version": 3
   },
   "file_extension": ".py",
   "mimetype": "text/x-python",
   "name": "python",
   "nbconvert_exporter": "python",
   "pygments_lexer": "ipython3",
   "version": "3.7.0"
  },
  "nteract": {
   "version": "0.11.9"
  }
 },
 "nbformat": 4,
 "nbformat_minor": 4
}
