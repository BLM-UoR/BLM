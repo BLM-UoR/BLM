{
 "cells": [
  {
   "cell_type": "markdown",
   "metadata": {
    "slideshow": {
     "slide_type": "slide"
    }
   },
   "source": [
    "# Evaporation, Penman Monteith\n",
    "\n",
    "**Dr Ting Sun** (ting.sun@reading.ac.uk)\n",
    "\n",
    "11 Oct 2018"
   ]
  },
  {
   "cell_type": "markdown",
   "metadata": {
    "slideshow": {
     "slide_type": "slide"
    }
   },
   "source": [
    "## Measuring Humidity Fluxes"
   ]
  },
  {
   "cell_type": "markdown",
   "metadata": {},
   "source": [
    "### (open-path) Infra-Red Gas Analyzer (IRGA)\n",
    "\n",
    "![Gas analyser (Burba 2013)](../figures/gas-analyser.png)"
   ]
  },
  {
   "cell_type": "markdown",
   "metadata": {},
   "source": [
    "#### How does it work?"
   ]
  },
  {
   "cell_type": "markdown",
   "metadata": {},
   "source": [
    "IDGA measures CO<sub>2</sub> and water vapor densities in air based on non-dispersive infrared spectroscopy:\n",
    "\n",
    "* Infrared radiation is transmitted first through temperature-controlled optical filters and then an open sample path to a thermally regulated detector\n",
    "* Some of the infrared radiation is absorbed by CO<sub>2</sub> and water vapor in the sample path\n",
    "* Gas densities are computed from the ratio of absorbed radiation to a reference."
   ]
  },
  {
   "cell_type": "markdown",
   "metadata": {},
   "source": [
    "* Wavelength at which different atmospheric gases absorb infrared radiation\n",
    "\n",
    "content|wave length\n",
    "---|---\n",
    "Water Vapour |2.59 µm and 2.40 µm\n",
    "Carbon Dioxide| 4.26 µm and 3.95 µm"
   ]
  },
  {
   "cell_type": "markdown",
   "metadata": {
    "slideshow": {
     "slide_type": "subslide"
    }
   },
   "source": [
    "### Lysimeters: \n",
    "\n",
    "* Small  \n",
    "\n",
    "![A small lysimeter](../figures/lysimeter-small.png)\n",
    "\n",
    "* Large soil block: lifted onto weighing scale crops!\n",
    "\n",
    "![Installation of an in situ lysimeter](../figures/lysimeter-large1.png)\n",
    "\n",
    "![Operation over an in situ lysimeter](../figures/lysimeter-large2.png)\n",
    "    "
   ]
  },
  {
   "cell_type": "markdown",
   "metadata": {
    "slideshow": {
     "slide_type": "slide"
    }
   },
   "source": [
    "## Moisture Flux, Evaporation and Latent Heat"
   ]
  },
  {
   "cell_type": "markdown",
   "metadata": {
    "slideshow": {
     "slide_type": "slide"
    }
   },
   "source": [
    "symbol | meaning | unit|\n",
    "--- | --- | ---|\n",
    "$\\overline{q}$ | Specific Humidity | $\\mathrm{kg \\ {kg}^{-1}}$|\n",
    "$\\overline{w'q'}$|Moisture Flux| $\\mathrm{kg \\ {kg}^{-1}\\ {m}^{-2}\\ {m}^{-1}}$|\n",
    "$Q_E$ or $\\lambda E$|Latent heat of vaporization|$\\mathrm{W\\ {m}^{-2}}$|\n",
    "$E$| Evaporation|$\\mathrm{mm \\ {d}^{-1}}$|"
   ]
  },
  {
   "cell_type": "markdown",
   "metadata": {
    "slideshow": {
     "slide_type": "fragment"
    }
   },
   "source": [
    "### approximations\n",
    "\n",
    "\n",
    "water equivalent| energy equivalent|\n",
    "--- | --- |\n",
    "$\\mathrm{1\\ mm \\ {d}^{-1}}$ |$\\mathrm{28.3\\ W \\ {m}^{-2}}$|\n",
    "$\\mathrm{1\\ mm \\ {h}^{-1}}$ |$\\mathrm{680\\ W \\ {m}^{-2}}$|\n",
    "\n",
    "\n",
    "**Note**:\n",
    "\n",
    "* these approximations are valid at $20\\ \\mathrm{°C}$\n",
    "* they change with $L_v$, $\\rho_w$\n"
   ]
  },
  {
   "cell_type": "markdown",
   "metadata": {},
   "source": [
    "## How to model evaporation with easily observed measurements at one height?"
   ]
  },
  {
   "cell_type": "markdown",
   "metadata": {},
   "source": [
    "![How to model evaporation with meansurements at one height?](../figures/PM-assumption.png)"
   ]
  },
  {
   "cell_type": "markdown",
   "metadata": {},
   "source": [
    "### Modified Penman-Monteith equation:"
   ]
  },
  {
   "cell_type": "markdown",
   "metadata": {},
   "source": [
    "$$Q_E=L_vE=\\frac{s(Q^*-Q_G)+c_p\\rho{V}/r_a}{s+\\gamma(1+r_s/r_a)}$$\n",
    "\n",
    "where \n",
    "\n",
    "|symbol|meaning|unit|\n",
    "|--|--|--|\n",
    "|$s$ |slope of $e_s(T_a)$ this is a very long function that will wrap across lines tionf unctionfunction functionfunctionfunctionfunction |$\\mathrm{Pa \\ {°C}^{-1}}$|\n",
    "|$c_p$ |heat capacity of air | $\\mathrm{J \\ {m}^{-3} \\ {°C}^{-1}}$|\n",
    "|$\\rho$ |density of air | $\\mathrm{kg \\ {m}^{-3} }$|\n",
    "|$\\gamma$ |psychometric constant |$\\mathrm{Pa \\ {°C}^{-1}}$|\n",
    "|$V$ |vapour pressure deficit of air |$\\mathrm{Pa}$|\n",
    "|$r_a$ |aerodynamic resistance | $\\mathrm{s \\ m^{-1}}$|\n",
    "|$r_s$ |surface resistance |$\\mathrm{s \\ m^{-1}}$|"
   ]
  },
  {
   "cell_type": "markdown",
   "metadata": {
    "slideshow": {
     "slide_type": "slide"
    }
   },
   "source": [
    "## Wind’s Influence on Evaporation\n",
    "\n",
    "![Resistance](../figures/PM-equation.png)\n",
    "\n"
   ]
  },
  {
   "cell_type": "markdown",
   "metadata": {
    "slideshow": {
     "slide_type": "slide"
    }
   },
   "source": [
    "### Stomatal and Soil Resistance\n",
    "\n",
    "![Canopy resistance](../figures/resistance-plant.png)\n",
    "\n",
    "#### Stomata - regulate water loss\n",
    "\n",
    "![Plant stomata (source: Getty Images)](../figures/stomata.jpg)\n",
    "\n",
    "\n",
    "#### Canopy resistance depends on:  \n",
    "* Plant type\n",
    "   \n",
    "   - Plant Roots: extend to where there is water\n",
    "   ![Plant roots (source??)](../figures/plant-root.png)\n",
    "\n",
    "* Temperature\n",
    "* Soil Moisture\n",
    "* Radiation\n"
   ]
  },
  {
   "cell_type": "markdown",
   "metadata": {
    "slideshow": {
     "slide_type": "subslide"
    }
   },
   "source": [
    "### Use of Resistances\n",
    "\n",
    "$$\\overline{w'\\chi'}=\\frac{\\chi(z_2)-\\chi(z_1)}{\\gamma_\\chi}$$\n",
    "\n",
    "\n",
    "Electrical Analogy|Resistance network for a surface scheme\n",
    ":-------------------------:|:-------------------------:\n",
    "![electricalanalogy (source??)](../figures/electrical-analogy.png)|![resistance network(source??)](../figures/resistance-network.png)"
   ]
  },
  {
   "cell_type": "markdown",
   "metadata": {
    "slideshow": {
     "slide_type": "slide"
    }
   },
   "source": [
    "## The Combination Equation\n",
    "\n",
    "- sensible heat flux\n",
    "$$Q_H=\\rho c_p \\frac{T-T_0}{r_h}$$\n",
    "\n",
    "- latent heat flux\n",
    "$$Q_E=\\frac{L_v}{R_v T} \\frac{e-e_0}{r_v}=\\frac{\\rho c_p}{\\gamma_*}\\frac{e-e_0}{r_h}$$\n",
    "\n",
    "- Linearize saturated vapour pressure\n",
    "$$e_0=e_s(T_0)=e_s(T)-s(T-T_0)$$\n",
    "\n",
    "where $s=\\frac{d e_s}{dT}$"
   ]
  },
  {
   "cell_type": "markdown",
   "metadata": {
    "slideshow": {
     "slide_type": "subslide"
    }
   },
   "source": [
    "## Derivation of Penman Equation\n",
    "\n",
    "### Goal: To obtain an expression of $Q_E$ as a function of \n",
    "* available energy\n",
    "\n",
    "$$Q_a=Q^*-Q_G=Q_H+Q_E$$\n",
    "\n",
    "  bear in mind the surface energy balance $Q^*-Q_G=Q_H+Q_E$ by neglecting: 1) advection heat $Q_{\\text{adv}}$; and 2) anthropogenic heat: $Q_F$ (e.g. in an urban environment).\n",
    "    \n",
    "* surface level meteorological factors:\n",
    "    - air temperature $T$\n",
    "    - air humidity in vapour pressure $e(T)$"
   ]
  },
  {
   "cell_type": "markdown",
   "metadata": {
    "slideshow": {
     "slide_type": "subslide"
    }
   },
   "source": [
    "### Derivation using `sympy`"
   ]
  },
  {
   "cell_type": "code",
   "execution_count": null,
   "metadata": {
    "slideshow": {
     "slide_type": "fragment"
    }
   },
   "outputs": [],
   "source": [
    "from sympy import *\n",
    "init_printing()"
   ]
  },
  {
   "cell_type": "code",
   "execution_count": null,
   "metadata": {
    "slideshow": {
     "slide_type": "fragment"
    }
   },
   "outputs": [],
   "source": [
    "qh,qe,qn,qg=symbols('Q_H,Q_E,Q^*,Q_G')\n",
    "t,t0,et,e0,e,s=symbols('T,T_0,e_T,e_0,e,s')\n",
    "rho,gms,cp,rh,rv=symbols(r'\\rho,\\gamma_*,c_p,r_h,r_v')"
   ]
  },
  {
   "cell_type": "code",
   "execution_count": null,
   "metadata": {
    "slideshow": {
     "slide_type": "fragment"
    }
   },
   "outputs": [],
   "source": [
    "sol=solve([\n",
    "    qn-qg-qh-qe,\n",
    "    qe-(rho*cp/gms)*((e-e0)/rh),\n",
    "    qh-(rho*cp*(t-t0)/rh),\n",
    "    e0-et-s*(t-t0)\n",
    "],\n",
    "    [qe,qh,e0,t0])\n",
    "sol_qe=sol.get(qe)"
   ]
  },
  {
   "cell_type": "code",
   "execution_count": null,
   "metadata": {
    "scrolled": true,
    "slideshow": {
     "slide_type": "fragment"
    }
   },
   "outputs": [],
   "source": [
    "qa,de=symbols('Q_a,de')\n",
    "apart(sol_qe.subs({qn:qa+qg,e:et+de}),qa).subs({qa:qn-qg,de:e-et})"
   ]
  },
  {
   "cell_type": "markdown",
   "metadata": {
    "slideshow": {
     "slide_type": "subslide"
    }
   },
   "source": [
    "## Penman (1948) Equation\n",
    "\n",
    "* Penman equation:\n",
    "$$Q_E=L_VE=\\frac{s \\left(Q^{*} - Q_{G}\\right)}{- \\gamma_* + s}- \\frac{\\rho c_{p} \\left(e - e_{T}\\right)}{- \\gamma_* r_{h} + r_{h} s}$$\n",
    "\n",
    "* Advantage:\n",
    "    - Estimation of evaporation from simple measurements\n",
    "    - Using measurements at low heights: can neglect stability dependence of resistance\n",
    "    - Approximate resistance for heat transfer by the aerodynamic resistance\n",
    "\n",
    "* Remaing Challenge:\n",
    "    - How to determine $\\gamma_*=\\gamma \\frac{r_v}{r_h}$?\n"
   ]
  },
  {
   "cell_type": "markdown",
   "metadata": {
    "slideshow": {
     "slide_type": "slide"
    }
   },
   "source": [
    "## Surface Transfers as Electrical Circuits\n",
    "\n",
    "* Total resistance for vapour:\n",
    "$${r_v}={r_s}+{r_h}$$\n",
    "\n",
    "resistance network|real-world canopy\n",
    ":-------------------------:|:-------------------------:\n",
    "![resistance surface (source??)](../figures/resistance-surface.png)|![canopy real (source??)](../figures/canopy-real.png)\n"
   ]
  },
  {
   "cell_type": "markdown",
   "metadata": {
    "slideshow": {
     "slide_type": "slide"
    }
   },
   "source": [
    "## Exercises\n",
    "\n",
    "1. Manual derivation of Penman (1948) equation.\n",
    "\n",
    "\n",
    "2. The Penman Monteith equation provides one method to calculate the components of the surface energy balance. It assumes energy balance closure at each model time step (see the notes along with Assignment 1). Evaluate the performance of the PM calculations using the EC data (e.g. $Q_H$ and $Q_E$, $\\beta$).\n",
    "\n",
    "\n",
    "3. Calculate the canopy resistance from the EC and other data (this can be back-calculated). How do these values compare to the literature/textbooks?\n",
    "\n",
    "    **note**: \n",
    "    You will need dry conditions (e.g. 12 h since rain – depending on time of day) and solar radiation for the calculations (e.g. $Q^* \\gt \\mathrm{20\\ W \\ {m}^{-2}}$)"
   ]
  },
  {
   "cell_type": "code",
   "execution_count": null,
   "metadata": {},
   "outputs": [],
   "source": [
    "!jupyter nbconvert 2_Evaporation_PenmanMonteith.ipynb --to rst"
   ]
  },
  {
   "cell_type": "code",
   "execution_count": null,
   "metadata": {},
   "outputs": [],
   "source": [
    "with open(\"./2_Evaporation_PenmanMonteith.rst\") as f:\n",
    "    for line_no, line in enumerate(f):\n",
    "        print(line_no,':',line)"
   ]
  }
 ],
 "metadata": {
  "celltoolbar": "Raw Cell Format",
  "kernel_info": {
   "name": "python3"
  },
  "kernelspec": {
   "display_name": "Python 3",
   "language": "python",
   "name": "python3"
  },
  "language_info": {
   "codemirror_mode": {
    "name": "ipython",
    "version": 3
   },
   "file_extension": ".py",
   "mimetype": "text/x-python",
   "name": "python",
   "nbconvert_exporter": "python",
   "pygments_lexer": "ipython3",
   "version": "3.7.0"
  },
  "nteract": {
   "version": "0.11.9"
  }
 },
 "nbformat": 4,
 "nbformat_minor": 2
}
