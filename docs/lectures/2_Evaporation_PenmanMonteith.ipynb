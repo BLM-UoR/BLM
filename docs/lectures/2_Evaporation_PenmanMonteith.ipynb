{
 "cells": [
  {
   "cell_type": "markdown",
   "metadata": {
    "slideshow": {
     "slide_type": "slide"
    }
   },
   "source": [
    "# Evaporation, Penman Monteith\n",
    "\n",
    "**Dr Ting Sun** (ting.sun@reading.ac.uk)\n",
    "\n",
    "23 Sep 2018"
   ]
  },
  {
   "cell_type": "markdown",
   "metadata": {
    "slideshow": {
     "slide_type": "slide"
    }
   },
   "source": [
    "## Measuring Humidity Fluxes"
   ]
  },
  {
   "cell_type": "markdown",
   "metadata": {},
   "source": [
    "### (open-path) Infra-Red Gas Analyzer (IRGA)\n",
    "![Gas analyser (source: ???)](../figures/gas-analyser.png)"
   ]
  },
  {
   "cell_type": "markdown",
   "metadata": {},
   "source": [
    "content|wave length\n",
    "---|---\n",
    "Water Vapour |2.59 µm and 2.40 µm\n",
    "Carbon Dioxide| 4.26 µm and 3.95 µm"
   ]
  },
  {
   "cell_type": "markdown",
   "metadata": {
    "slideshow": {
     "slide_type": "subslide"
    }
   },
   "source": [
    "### Lysimeters: \n",
    "\n",
    "* Small  \n",
    "    ![a small lysimeter(source:???)](../figures/lysimeter-small.png)\n",
    "\n",
    "* Large soil block: lifted onto weighing scale crops!\n",
    "    ![installation of an in situ lysimeter](../figures/lysimeter-large1.png)\n",
    "    ![operature over an in situ lysimeter](../figures/lysimeter-large2.png)\n",
    "    "
   ]
  },
  {
   "cell_type": "markdown",
   "metadata": {
    "slideshow": {
     "slide_type": "slide"
    }
   },
   "source": [
    "## Moisture Flux, Evaporation and Latent Heat!\n",
    "\n",
    "symbol | meaning | unit\n",
    "--- | --- | ---\n",
    "$\\overline{q}$ | Specific Humidity | ss\n",
    "$\\overline{w'q'}$|Moisture Flux| $\\mathrm{kg \\ {kg}^{-1}\\ {m}^{-2}\\ {m}^{-1}}$\n",
    "$Q_E$ or $\\lambda E$|Latent heat of vaporization|$\\mathrm{J \\ {kg}^{-1}}$\n",
    "$E$| Evaporation|$\\mathrm{mm \\ {d}^{-1}}$"
   ]
  },
  {
   "cell_type": "markdown",
   "metadata": {
    "slideshow": {
     "slide_type": "fragment"
    }
   },
   "source": [
    "### approximations\n",
    "Assumptions: \n",
    "\n",
    "* $20\\ \\mathrm{°C}$\n",
    "* changes with $L_v$, $\\rho_w$\n",
    "\n",
    "water equivalent| energy equivalent\n",
    "--- | --- \n",
    "$\\mathrm{mm \\ {d}^{-1}}$ |$\\mathrm{28.3\\ W \\ {m}^{-2}}$\n",
    "$\\mathrm{mm \\ {h}^{-1}}$ |$\\mathrm{680\\ W \\ {m}^{-2}}$"
   ]
  },
  {
   "cell_type": "markdown",
   "metadata": {
    "slideshow": {
     "slide_type": "slide"
    }
   },
   "source": [
    "## Model: Measurements @ 1 height\n",
    "Penman Monteith – set of assumptions\n",
    "![image.png](../figures/PM-assumption.png)"
   ]
  },
  {
   "cell_type": "markdown",
   "metadata": {
    "slideshow": {
     "slide_type": "slide"
    }
   },
   "source": [
    "## Wind’s Influence on Evaporation  (from earlier class)\n",
    "\n",
    "![image.png](../figures/PM-equation.png)\n",
    "\n",
    "Modified Penman-Monteith equation:\n",
    "\n",
    "$$Q_E=\\frac{s(Q^*-Q_G)+c_p\\rho{V}/r_a}{s+\\gamma(1+r_s/r_a)}$$\n",
    "\n",
    "where \n",
    "\n",
    "symbol|meaning|unit\n",
    "--|--|--\n",
    "s|slope of the saturation vapour pressure vs. temperature curve |Pa °C-1\n",
    "Ca |heat capacity of air |J m-3 °C-1\n",
    "γ \t|psychometric constant |Pa °C-1)\n",
    "V \t|vapour pressure deficit of air |Pa\n",
    "ra \t|aerodynamic resistance |\n",
    "rs \t|surface resistance |"
   ]
  },
  {
   "cell_type": "markdown",
   "metadata": {
    "slideshow": {
     "slide_type": "slide"
    }
   },
   "source": [
    "### Stomatal and Soil Resistance\n",
    "\n",
    "![resistance-plant.png](../figures/resistance-plant.png)\n",
    "\n",
    "#### Stomata - regulate water loss\n",
    "\n",
    "![stomata (source: Getty Images)](../figures/stomata.jpg)\n",
    "\n",
    "\n",
    "#### Canopy resistance depends on:  \n",
    "* Plant type\n",
    "   \n",
    "   - Plant Roots: extend to where there is water\n",
    "   ![image.png](../figures/plant-root.png)\n",
    "\n",
    "* Temperature\n",
    "* Soil Moisture\n",
    "* Radiation\n"
   ]
  },
  {
   "attachments": {},
   "cell_type": "markdown",
   "metadata": {
    "slideshow": {
     "slide_type": "subslide"
    }
   },
   "source": [
    "### Use of Resistances\n",
    "\n",
    "$$\\overline{w'\\chi'}=\\frac{\\chi(z_2)-\\chi(z_1)}{\\gamma_\\chi}$$\n",
    "\n",
    "Electrical Analogy\n",
    "![electrical-analogy.png](electrical-analogy.png)\n",
    "\n",
    "Resistance network for a surface scheme\n",
    "![resistance-network.png](resistance-network.png)"
   ]
  },
  {
   "cell_type": "markdown",
   "metadata": {
    "slideshow": {
     "slide_type": "slide"
    }
   },
   "source": [
    "## The Combination Equation\n",
    "\n",
    "- sensible heat flux\n",
    "$$Q_H=\\rho c_p \\frac{T-T_0}{r_h}$$\n",
    "\n",
    "- latent heat flux\n",
    "$$Q_E=\\frac{L_v}{R_v T} \\frac{e-e_0}{r_v}=\\frac{\\rho c_p}{\\gamma_*}\\frac{e-e_0}{r_h}$$\n",
    "\n",
    "- Linearize saturated vapour pressure\n",
    "$$e_0=e_s(T_0)=e_s(T)-s(T-T_0)$$\n",
    "\n",
    "where $s=\\frac{d e_s}{dT}$"
   ]
  },
  {
   "cell_type": "markdown",
   "metadata": {
    "slideshow": {
     "slide_type": "subslide"
    }
   },
   "source": [
    "## Derivation of Penman Equation\n",
    "\n",
    "### Goal: To obtain an expression of $Q_E$ as a function of \n",
    "* available energy\n",
    "\n",
    "$$Q_a=Q^*-Q_G=Q_H+Q_E$$\n",
    "\n",
    "  bear in mind the surface energy balance $Q^*-Q_G=Q_H+Q_E$ by neglecting: 1) advection heat $Q_{\\text{adv}}$; and 2) anthropogenic heat: $Q_F$.\n",
    "    \n",
    "* surface level meteorological factors:\n",
    "    - air temperature $T$\n",
    "    - air humidity in vapour pressure $e(T)$"
   ]
  },
  {
   "cell_type": "markdown",
   "metadata": {
    "slideshow": {
     "slide_type": "subslide"
    }
   },
   "source": [
    "### Derivation using `sympy`"
   ]
  },
  {
   "cell_type": "code",
   "execution_count": 1,
   "metadata": {
    "slideshow": {
     "slide_type": "fragment"
    }
   },
   "outputs": [],
   "source": [
    "from sympy import *\n",
    "init_printing()"
   ]
  },
  {
   "cell_type": "code",
   "execution_count": 2,
   "metadata": {
    "slideshow": {
     "slide_type": "fragment"
    }
   },
   "outputs": [],
   "source": [
    "qh,qe,qn,qg=symbols('Q_H,Q_E,Q^*,Q_G')\n",
    "t,t0,et,e0,e,s=symbols('T,T_0,e_T,e_0,e,s')\n",
    "rho,gms,cp,rh,rv=symbols(r'\\rho,\\gamma_*,c_p,r_h,r_v')"
   ]
  },
  {
   "cell_type": "code",
   "execution_count": 3,
   "metadata": {
    "slideshow": {
     "slide_type": "fragment"
    }
   },
   "outputs": [],
   "source": [
    "sol=solve([\n",
    "    qn-qg-qh-qe,\n",
    "    qe-(rho*cp/gms)*((e-e0)/rh),\n",
    "    qh-(rho*cp*(t-t0)/rh),\n",
    "    e0-et-s*(t-t0)\n",
    "],\n",
    "    [qe,qh,e0,t0])\n",
    "sol_qe=sol.get(qe)"
   ]
  },
  {
   "cell_type": "code",
   "execution_count": 4,
   "metadata": {
    "scrolled": true,
    "slideshow": {
     "slide_type": "fragment"
    }
   },
   "outputs": [
    {
     "data": {
      "image/png": "[encoded data removed]",
      "text/latex": [
       "$$- \\frac{\\rho c_{p} \\left(e - e_{T}\\right)}{- \\gamma_* r_{h} + r_{h} s} + \\frac{s \\left(Q^{*} - Q_{G}\\right)}{- \\gamma_* + s}$$"
      ],
      "text/plain": [
       "   \\rho⋅cₚ⋅(e - e_T)    s⋅(Q__* - Q_G)\n",
       "- ─────────────────── + ──────────────\n",
       "  -\\gamma_*⋅rₕ + rₕ⋅s   -\\gamma_* + s "
      ]
     },
     "execution_count": 4,
     "metadata": {},
     "output_type": "execute_result"
    }
   ],
   "source": [
    "qa,de=symbols('Q_a,de')\n",
    "apart(sol_qe.subs({qn:qa+qg,e:et+de}),qa).subs({qa:qn-qg,de:e-et})"
   ]
  },
  {
   "cell_type": "markdown",
   "metadata": {
    "slideshow": {
     "slide_type": "subslide"
    }
   },
   "source": [
    "## Penman (1948) Equation\n",
    "\n",
    "* Penman equation:\n",
    "$$Q_E=L_VE=\\frac{s \\left(Q^{*} - Q_{G}\\right)}{- \\gamma_* + s}- \\frac{\\rho c_{p} \\left(e - e_{T}\\right)}{- \\gamma_* r_{h} + r_{h} s}$$\n",
    "\n",
    "* Advantage:\n",
    "    - estimation of evaporation from simple measurements\n",
    "    - Using measurements at low heights: can neglect stability dependence of resistance\n",
    "    - Approximate resistance for heat transfer by the aerodynamic resistance\n",
    "\n",
    "* Remaing Challenge:\n",
    "    - How to determine $\\gamma_*=\\gamma \\frac{r_v}{r_h}$?\n"
   ]
  },
  {
   "cell_type": "markdown",
   "metadata": {
    "slideshow": {
     "slide_type": "slide"
    }
   },
   "source": [
    "## Surface Transfers as Electrical Circuits\n",
    "\n",
    "* Total resistance for vapour:\n",
    "$${r_v}={r_s}+{r_h}$$\n",
    "\n",
    "resistance network|real-world canopy\n",
    ":-------------------------:|:-------------------------:\n",
    "<img src=\"../figures/resistance-surface.png\" width=\"100%\">|<img src=\"../figures/canopy-real.png\" width=\"100%\">\n"
   ]
  },
  {
   "cell_type": "markdown",
   "metadata": {
    "slideshow": {
     "slide_type": "slide"
    }
   },
   "source": [
    "## Exercises\n",
    "\n",
    "1. Manual derivation of Penman (1948) equation.\n",
    "\n",
    "\n",
    "2. The Penman Monteith equation provides one method to calculate the components of the surface energy balance. It assumes energy balance closure at each model time step (see notes below). Evaluate the performance of the PM calculations (QH and QE, β) using the EC data.\n",
    "\n",
    "\n",
    "3. Calculate the canopy resistance from the EC and other data (this can be back-calculated). How do these values compare to the literature/textbooks?\n",
    "\n",
    "    **note**: *You will need dry conditions (e.g. 12 h since rain – depending on time of day) and solar radiation for the calculations (e.g. $Q^* \\gt \\mathrm{20\\ W \\ {m}^{-2}}$)*"
   ]
  },
  {
   "cell_type": "code",
   "execution_count": null,
   "metadata": {},
   "outputs": [],
   "source": []
  }
 ],
 "metadata": {
  "celltoolbar": "Raw Cell Format",
  "kernel_info": {
   "name": "python3"
  },
  "kernelspec": {
   "display_name": "Python 3",
   "language": "python",
   "name": "python3"
  },
  "language_info": {
   "codemirror_mode": {
    "name": "ipython",
    "version": 3
   },
   "file_extension": ".py",
   "mimetype": "text/x-python",
   "name": "python",
   "nbconvert_exporter": "python",
   "pygments_lexer": "ipython3",
   "version": "3.7.0"
  },
  "nteract": {
   "version": "0.11.7"
  }
 },
 "nbformat": 4,
 "nbformat_minor": 2
}
