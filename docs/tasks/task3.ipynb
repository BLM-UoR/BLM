{
 "cells": [
  {
   "cell_type": "markdown",
   "source": [
    "# Understanding Surface Properties (3): Surface Roughness"
   ],
   "metadata": {}
  },
  {
   "cell_type": "markdown",
   "source": [
    "## Objectives\n",
    "\n",
    "1. Understand how to quantify surface roughness\n",
    "2. Understand variability of surface roughness\n"
   ],
   "metadata": {}
  },
  {
   "cell_type": "markdown",
   "source": [
    "<div class=\"alert alert-info\">\n",
    "\n",
    "**Tips:** \n",
    "\n",
    "1. [Eddy Covariance](https://blm.readthedocs.io/en/latest/EddyCovariance.html) observations allow several important parameters to be determined:\n",
    "   -  **Zero plane displacement length** $d$ can be calculated based on vegetation height (think about changes in [LAI](https://blm.readthedocs.io/en/latest/LAI.html) and porosity). If there is a profile of anemometers (e.g. as at the [Observatory](https://blm.readthedocs.io/en/latest/URAO.html)) then this can be calculated using that.\n",
    "   -  **Roughness length** $z_0$ can be calculated from the EC data ([EddyCovariance](../EddyCovariance.rst)) by rearranging the logarithmic law from the neutral wind profile [WindProfile](https://blm.readthedocs.io/en/latest/WindProfile.html)).\n",
    "2.  Do these vary with season? Wind Direction? Create a graph to analyse the data (think about wind directions).\n",
    "3.  How do these values compare to the literature?\n",
    "1.  Calculate the **aerodynamic resistance** $r_a$.\n",
    "2.  For scientific background see [Roughness](https://blm.readthedocs.io/en/latest/Parameters.html#roughness-length-z-0-and-displacement-height-d) and [Reading List](https://blm.readthedocs.io/en/latest/ReadingList.html)\n",
    "\n",
    "\n",
    "</div>\n"
   ],
   "metadata": {}
  },
  {
   "cell_type": "markdown",
   "source": [
    "## Tasks"
   ],
   "metadata": {}
  },
  {
   "cell_type": "markdown",
   "source": [
    "### load necessary packages"
   ],
   "metadata": {}
  },
  {
   "cell_type": "code",
   "execution_count": 1,
   "source": [
    "import numpy as np\n",
    "import matplotlib.pyplot as plt\n",
    "import pandas as pd\n",
    "from pathlib import Path"
   ],
   "outputs": [],
   "metadata": {
    "ExecuteTime": {
     "end_time": "2019-10-17T14:13:36.519131Z",
     "start_time": "2019-10-17T14:13:36.149004Z"
    }
   }
  },
  {
   "cell_type": "markdown",
   "source": [
    "### loading data"
   ],
   "metadata": {}
  },
  {
   "cell_type": "code",
   "execution_count": 2,
   "source": [
    "group_number = 10\n",
    "path_dir = Path.cwd() / 'data' / f'{group_number}'\n",
    "# examine available files in your folder\n",
    "list(path_dir.glob('*gz'))"
   ],
   "outputs": [
    {
     "output_type": "execute_result",
     "data": {
      "text/plain": [
       "[PosixPath('/Users/sunt05/Dropbox/6.Repos/BLM-task3/data/10/US-Oho_clean.csv.gz'),\n",
       " PosixPath('/Users/sunt05/Dropbox/6.Repos/BLM-task3/data/10/CA-TPD_clean.csv.gz')]"
      ]
     },
     "metadata": {},
     "execution_count": 2
    }
   ],
   "metadata": {
    "ExecuteTime": {
     "end_time": "2019-10-17T14:13:36.527655Z",
     "start_time": "2019-10-17T14:13:36.521548Z"
    }
   }
  },
  {
   "cell_type": "code",
   "execution_count": 3,
   "source": [
    "# specify the site name\n",
    "name_of_site = 'CA-TPD'"
   ],
   "outputs": [],
   "metadata": {
    "ExecuteTime": {
     "end_time": "2019-10-17T14:13:36.531327Z",
     "start_time": "2019-10-17T14:13:36.529299Z"
    }
   }
  },
  {
   "cell_type": "code",
   "execution_count": 4,
   "source": [
    "# load measurement heights\n",
    "df_zmeas = pd.read_csv('data/measurement_height.csv', index_col=0)\n",
    "df_zmeas.loc[name_of_site].iloc[:]"
   ],
   "outputs": [
    {
     "output_type": "execute_result",
     "data": {
      "text/html": [
       "<div>\n",
       "<style scoped>\n",
       "    .dataframe tbody tr th:only-of-type {\n",
       "        vertical-align: middle;\n",
       "    }\n",
       "\n",
       "    .dataframe tbody tr th {\n",
       "        vertical-align: top;\n",
       "    }\n",
       "\n",
       "    .dataframe thead th {\n",
       "        text-align: right;\n",
       "    }\n",
       "</style>\n",
       "<table border=\"1\" class=\"dataframe\">\n",
       "  <thead>\n",
       "    <tr style=\"text-align: right;\">\n",
       "      <th></th>\n",
       "      <th>Variable</th>\n",
       "      <th>Start_Date</th>\n",
       "      <th>Height</th>\n",
       "      <th>Instrument_Model</th>\n",
       "      <th>Instrument_Model2</th>\n",
       "      <th>Comment</th>\n",
       "      <th>BASE_Version</th>\n",
       "    </tr>\n",
       "    <tr>\n",
       "      <th>Site_ID</th>\n",
       "      <th></th>\n",
       "      <th></th>\n",
       "      <th></th>\n",
       "      <th></th>\n",
       "      <th></th>\n",
       "      <th></th>\n",
       "      <th></th>\n",
       "    </tr>\n",
       "  </thead>\n",
       "  <tbody>\n",
       "    <tr>\n",
       "      <th>CA-TPD</th>\n",
       "      <td>CO2_1_1_1</td>\n",
       "      <td>2012.0</td>\n",
       "      <td>35.70</td>\n",
       "      <td>GA_CP-LI-COR LI-7200</td>\n",
       "      <td>NaN</td>\n",
       "      <td>LI-7200 IRGA)</td>\n",
       "      <td>02-May</td>\n",
       "    </tr>\n",
       "    <tr>\n",
       "      <th>CA-TPD</th>\n",
       "      <td>CO2_1_2_1</td>\n",
       "      <td>2012.0</td>\n",
       "      <td>16.00</td>\n",
       "      <td>GA_SR-LI-COR LI-820</td>\n",
       "      <td>NaN</td>\n",
       "      <td>LI820_CO2_Cnpy_16m (ppm); CO2</td>\n",
       "      <td>02-May</td>\n",
       "    </tr>\n",
       "    <tr>\n",
       "      <th>CA-TPD</th>\n",
       "      <td>FC</td>\n",
       "      <td>2012.0</td>\n",
       "      <td>35.70</td>\n",
       "      <td>GA_CP-LI-COR LI-7200</td>\n",
       "      <td>NaN</td>\n",
       "      <td>NaN</td>\n",
       "      <td>02-May</td>\n",
       "    </tr>\n",
       "    <tr>\n",
       "      <th>CA-TPD</th>\n",
       "      <td>FH2O</td>\n",
       "      <td>2012.0</td>\n",
       "      <td>NaN</td>\n",
       "      <td>NaN</td>\n",
       "      <td>NaN</td>\n",
       "      <td>NaN</td>\n",
       "      <td>02-May</td>\n",
       "    </tr>\n",
       "    <tr>\n",
       "      <th>CA-TPD</th>\n",
       "      <td>LE</td>\n",
       "      <td>2012.0</td>\n",
       "      <td>35.70</td>\n",
       "      <td>GA_CP-LI-COR LI-7200</td>\n",
       "      <td>NaN</td>\n",
       "      <td>NaN</td>\n",
       "      <td>02-May</td>\n",
       "    </tr>\n",
       "    <tr>\n",
       "      <th>CA-TPD</th>\n",
       "      <td>PPFD_IN_PI_F_1_1_1</td>\n",
       "      <td>2012.0</td>\n",
       "      <td>35.13</td>\n",
       "      <td>RAD-PAR Quantum</td>\n",
       "      <td>NaN</td>\n",
       "      <td>NaN</td>\n",
       "      <td>02-May</td>\n",
       "    </tr>\n",
       "    <tr>\n",
       "      <th>CA-TPD</th>\n",
       "      <td>P_CUM</td>\n",
       "      <td>2012.0</td>\n",
       "      <td>2.00</td>\n",
       "      <td>NaN</td>\n",
       "      <td>NaN</td>\n",
       "      <td>NaN</td>\n",
       "      <td>02-May</td>\n",
       "    </tr>\n",
       "    <tr>\n",
       "      <th>CA-TPD</th>\n",
       "      <td>PA_PI_F</td>\n",
       "      <td>2012.0</td>\n",
       "      <td>2.00</td>\n",
       "      <td>NaN</td>\n",
       "      <td>NaN</td>\n",
       "      <td>NaN</td>\n",
       "      <td>02-May</td>\n",
       "    </tr>\n",
       "    <tr>\n",
       "      <th>CA-TPD</th>\n",
       "      <td>G_1_1_1</td>\n",
       "      <td>2012.0</td>\n",
       "      <td>0.00</td>\n",
       "      <td>SOIL_H-Plate</td>\n",
       "      <td>NaN</td>\n",
       "      <td>NaN</td>\n",
       "      <td>02-May</td>\n",
       "    </tr>\n",
       "    <tr>\n",
       "      <th>CA-TPD</th>\n",
       "      <td>G_2_2_1</td>\n",
       "      <td>2012.0</td>\n",
       "      <td>-0.03</td>\n",
       "      <td>SOIL_H-Plate</td>\n",
       "      <td>NaN</td>\n",
       "      <td>NaN</td>\n",
       "      <td>02-May</td>\n",
       "    </tr>\n",
       "    <tr>\n",
       "      <th>CA-TPD</th>\n",
       "      <td>G_3_2_1</td>\n",
       "      <td>2012.0</td>\n",
       "      <td>-0.03</td>\n",
       "      <td>SOIL_H-Plate</td>\n",
       "      <td>NaN</td>\n",
       "      <td>NaN</td>\n",
       "      <td>02-May</td>\n",
       "    </tr>\n",
       "    <tr>\n",
       "      <th>CA-TPD</th>\n",
       "      <td>G_4_2_1</td>\n",
       "      <td>2012.0</td>\n",
       "      <td>-0.03</td>\n",
       "      <td>SOIL_H-Plate</td>\n",
       "      <td>NaN</td>\n",
       "      <td>NaN</td>\n",
       "      <td>02-May</td>\n",
       "    </tr>\n",
       "    <tr>\n",
       "      <th>CA-TPD</th>\n",
       "      <td>G_1_2_1</td>\n",
       "      <td>2012.0</td>\n",
       "      <td>-0.03</td>\n",
       "      <td>SOIL_H-Plate</td>\n",
       "      <td>NaN</td>\n",
       "      <td>NaN</td>\n",
       "      <td>02-May</td>\n",
       "    </tr>\n",
       "    <tr>\n",
       "      <th>CA-TPD</th>\n",
       "      <td>GPP_PI_F</td>\n",
       "      <td>2012.0</td>\n",
       "      <td>35.70</td>\n",
       "      <td>GA_CP-LI-COR LI-7200</td>\n",
       "      <td>NaN</td>\n",
       "      <td>NaN</td>\n",
       "      <td>02-May</td>\n",
       "    </tr>\n",
       "    <tr>\n",
       "      <th>CA-TPD</th>\n",
       "      <td>H</td>\n",
       "      <td>2012.0</td>\n",
       "      <td>35.70</td>\n",
       "      <td>GA_CP-LI-COR LI-7200</td>\n",
       "      <td>NaN</td>\n",
       "      <td>NaN</td>\n",
       "      <td>02-May</td>\n",
       "    </tr>\n",
       "    <tr>\n",
       "      <th>CA-TPD</th>\n",
       "      <td>H_PI_F</td>\n",
       "      <td>2012.0</td>\n",
       "      <td>35.70</td>\n",
       "      <td>GA_CP-LI-COR LI-7200</td>\n",
       "      <td>NaN</td>\n",
       "      <td>NaN</td>\n",
       "      <td>02-May</td>\n",
       "    </tr>\n",
       "    <tr>\n",
       "      <th>CA-TPD</th>\n",
       "      <td>LE_PI_F</td>\n",
       "      <td>2012.0</td>\n",
       "      <td>35.70</td>\n",
       "      <td>GA_CP-LI-COR LI-7200</td>\n",
       "      <td>NaN</td>\n",
       "      <td>NaN</td>\n",
       "      <td>02-May</td>\n",
       "    </tr>\n",
       "    <tr>\n",
       "      <th>CA-TPD</th>\n",
       "      <td>NEE_PI</td>\n",
       "      <td>2012.0</td>\n",
       "      <td>35.70</td>\n",
       "      <td>GA_CP-LI-COR LI-7200</td>\n",
       "      <td>NaN</td>\n",
       "      <td>NaN</td>\n",
       "      <td>02-May</td>\n",
       "    </tr>\n",
       "    <tr>\n",
       "      <th>CA-TPD</th>\n",
       "      <td>NEE_PI_F</td>\n",
       "      <td>2012.0</td>\n",
       "      <td>35.70</td>\n",
       "      <td>GA_CP-LI-COR LI-7200</td>\n",
       "      <td>NaN</td>\n",
       "      <td>NaN</td>\n",
       "      <td>02-May</td>\n",
       "    </tr>\n",
       "    <tr>\n",
       "      <th>CA-TPD</th>\n",
       "      <td>PPFD_IN_1_1_1</td>\n",
       "      <td>2012.0</td>\n",
       "      <td>35.13</td>\n",
       "      <td>RAD-PAR Quantum</td>\n",
       "      <td>NaN</td>\n",
       "      <td>Kipp and Zonen</td>\n",
       "      <td>02-May</td>\n",
       "    </tr>\n",
       "    <tr>\n",
       "      <th>CA-TPD</th>\n",
       "      <td>PPFD_IN_1_2_1</td>\n",
       "      <td>2012.0</td>\n",
       "      <td>2.00</td>\n",
       "      <td>RAD-PAR Quantum</td>\n",
       "      <td>NaN</td>\n",
       "      <td>NaN</td>\n",
       "      <td>02-May</td>\n",
       "    </tr>\n",
       "    <tr>\n",
       "      <th>CA-TPD</th>\n",
       "      <td>PPFD_OUT</td>\n",
       "      <td>2012.0</td>\n",
       "      <td>35.13</td>\n",
       "      <td>RAD-PAR Quantum</td>\n",
       "      <td>NaN</td>\n",
       "      <td>Kipp and Zonen</td>\n",
       "      <td>02-May</td>\n",
       "    </tr>\n",
       "    <tr>\n",
       "      <th>CA-TPD</th>\n",
       "      <td>P</td>\n",
       "      <td>2012.0</td>\n",
       "      <td>2.00</td>\n",
       "      <td>PREC-TipBucGauge</td>\n",
       "      <td>NaN</td>\n",
       "      <td>CSI (heated and Alter Shielded) in a forest op...</td>\n",
       "      <td>02-May</td>\n",
       "    </tr>\n",
       "    <tr>\n",
       "      <th>CA-TPD</th>\n",
       "      <td>PA</td>\n",
       "      <td>2012.0</td>\n",
       "      <td>2.00</td>\n",
       "      <td>PRES-ElectBar</td>\n",
       "      <td>NaN</td>\n",
       "      <td>Young Co</td>\n",
       "      <td>02-May</td>\n",
       "    </tr>\n",
       "    <tr>\n",
       "      <th>CA-TPD</th>\n",
       "      <td>RECO_PI_F</td>\n",
       "      <td>2012.0</td>\n",
       "      <td>35.70</td>\n",
       "      <td>GA_CP-LI-COR LI-7200</td>\n",
       "      <td>NaN</td>\n",
       "      <td>NaN</td>\n",
       "      <td>02-May</td>\n",
       "    </tr>\n",
       "    <tr>\n",
       "      <th>CA-TPD</th>\n",
       "      <td>SW_IN</td>\n",
       "      <td>2012.0</td>\n",
       "      <td>35.50</td>\n",
       "      <td>RAD-Pyrrad-SW+LW</td>\n",
       "      <td>NaN</td>\n",
       "      <td>Kipp &amp; Zonen CNR4</td>\n",
       "      <td>02-May</td>\n",
       "    </tr>\n",
       "    <tr>\n",
       "      <th>CA-TPD</th>\n",
       "      <td>SW_IN_PI_F</td>\n",
       "      <td>2012.0</td>\n",
       "      <td>35.50</td>\n",
       "      <td>RAD-Pyrrad-SW+LW</td>\n",
       "      <td>NaN</td>\n",
       "      <td>CNR1_GlobalShortwaveRad_AbvCnpy_36m (W/m2); Ga...</td>\n",
       "      <td>02-May</td>\n",
       "    </tr>\n",
       "    <tr>\n",
       "      <th>CA-TPD</th>\n",
       "      <td>LW_IN</td>\n",
       "      <td>2012.0</td>\n",
       "      <td>35.50</td>\n",
       "      <td>RAD-Pyrrad-SW+LW</td>\n",
       "      <td>NaN</td>\n",
       "      <td>Kipp &amp; Zonen CNR4 Net Radiometer</td>\n",
       "      <td>02-May</td>\n",
       "    </tr>\n",
       "    <tr>\n",
       "      <th>CA-TPD</th>\n",
       "      <td>LW_OUT</td>\n",
       "      <td>2012.0</td>\n",
       "      <td>35.50</td>\n",
       "      <td>RAD-Pyrrad-SW+LW</td>\n",
       "      <td>NaN</td>\n",
       "      <td>Kipp &amp; Zonen CNR4 Net Radiometer</td>\n",
       "      <td>02-May</td>\n",
       "    </tr>\n",
       "    <tr>\n",
       "      <th>CA-TPD</th>\n",
       "      <td>SW_OUT</td>\n",
       "      <td>2012.0</td>\n",
       "      <td>35.50</td>\n",
       "      <td>RAD-Pyrrad-SW+LW</td>\n",
       "      <td>NaN</td>\n",
       "      <td>Kipp &amp; Zonen CNR4 Net Radiometer</td>\n",
       "      <td>02-May</td>\n",
       "    </tr>\n",
       "    <tr>\n",
       "      <th>...</th>\n",
       "      <td>...</td>\n",
       "      <td>...</td>\n",
       "      <td>...</td>\n",
       "      <td>...</td>\n",
       "      <td>...</td>\n",
       "      <td>...</td>\n",
       "      <td>...</td>\n",
       "    </tr>\n",
       "    <tr>\n",
       "      <th>CA-TPD</th>\n",
       "      <td>SWC_2_1_1</td>\n",
       "      <td>2012.0</td>\n",
       "      <td>-0.02</td>\n",
       "      <td>SWC-TDR</td>\n",
       "      <td>NaN</td>\n",
       "      <td>NaN</td>\n",
       "      <td>02-May</td>\n",
       "    </tr>\n",
       "    <tr>\n",
       "      <th>CA-TPD</th>\n",
       "      <td>SWC_2_3_1</td>\n",
       "      <td>2012.0</td>\n",
       "      <td>-0.10</td>\n",
       "      <td>SWC-TDR</td>\n",
       "      <td>NaN</td>\n",
       "      <td>NaN</td>\n",
       "      <td>02-May</td>\n",
       "    </tr>\n",
       "    <tr>\n",
       "      <th>CA-TPD</th>\n",
       "      <td>SWC_2_6_1</td>\n",
       "      <td>2012.0</td>\n",
       "      <td>-1.00</td>\n",
       "      <td>SWC-TDR</td>\n",
       "      <td>NaN</td>\n",
       "      <td>NaN</td>\n",
       "      <td>02-May</td>\n",
       "    </tr>\n",
       "    <tr>\n",
       "      <th>CA-TPD</th>\n",
       "      <td>SWC_2_4_1</td>\n",
       "      <td>2012.0</td>\n",
       "      <td>-0.20</td>\n",
       "      <td>SWC-TDR</td>\n",
       "      <td>NaN</td>\n",
       "      <td>NaN</td>\n",
       "      <td>02-May</td>\n",
       "    </tr>\n",
       "    <tr>\n",
       "      <th>CA-TPD</th>\n",
       "      <td>SWC_2_2_1</td>\n",
       "      <td>2012.0</td>\n",
       "      <td>-0.05</td>\n",
       "      <td>SWC-TDR</td>\n",
       "      <td>NaN</td>\n",
       "      <td>NaN</td>\n",
       "      <td>02-May</td>\n",
       "    </tr>\n",
       "    <tr>\n",
       "      <th>CA-TPD</th>\n",
       "      <td>SWC_2_5_1</td>\n",
       "      <td>2012.0</td>\n",
       "      <td>-0.50</td>\n",
       "      <td>SWC-TDR</td>\n",
       "      <td>NaN</td>\n",
       "      <td>NaN</td>\n",
       "      <td>02-May</td>\n",
       "    </tr>\n",
       "    <tr>\n",
       "      <th>CA-TPD</th>\n",
       "      <td>SWC_1_3_1</td>\n",
       "      <td>2012.0</td>\n",
       "      <td>-0.10</td>\n",
       "      <td>SWC-TDR</td>\n",
       "      <td>NaN</td>\n",
       "      <td>NaN</td>\n",
       "      <td>02-May</td>\n",
       "    </tr>\n",
       "    <tr>\n",
       "      <th>CA-TPD</th>\n",
       "      <td>SWC_1_6_1</td>\n",
       "      <td>2012.0</td>\n",
       "      <td>-1.00</td>\n",
       "      <td>SWC-TDR</td>\n",
       "      <td>NaN</td>\n",
       "      <td>NaN</td>\n",
       "      <td>02-May</td>\n",
       "    </tr>\n",
       "    <tr>\n",
       "      <th>CA-TPD</th>\n",
       "      <td>SWC_1_4_1</td>\n",
       "      <td>2012.0</td>\n",
       "      <td>-0.20</td>\n",
       "      <td>SWC-TDR</td>\n",
       "      <td>NaN</td>\n",
       "      <td>NaN</td>\n",
       "      <td>02-May</td>\n",
       "    </tr>\n",
       "    <tr>\n",
       "      <th>CA-TPD</th>\n",
       "      <td>SWC_1_2_1</td>\n",
       "      <td>2012.0</td>\n",
       "      <td>-0.05</td>\n",
       "      <td>SWC-TDR</td>\n",
       "      <td>NaN</td>\n",
       "      <td>NaN</td>\n",
       "      <td>02-May</td>\n",
       "    </tr>\n",
       "    <tr>\n",
       "      <th>CA-TPD</th>\n",
       "      <td>SWC_1_5_1</td>\n",
       "      <td>2012.0</td>\n",
       "      <td>-0.50</td>\n",
       "      <td>SWC-TDR</td>\n",
       "      <td>NaN</td>\n",
       "      <td>NaN</td>\n",
       "      <td>02-May</td>\n",
       "    </tr>\n",
       "    <tr>\n",
       "      <th>CA-TPD</th>\n",
       "      <td>TS_2_3_1</td>\n",
       "      <td>2012.0</td>\n",
       "      <td>-0.10</td>\n",
       "      <td>TEMP-ElectResis</td>\n",
       "      <td>NaN</td>\n",
       "      <td>NaN</td>\n",
       "      <td>02-May</td>\n",
       "    </tr>\n",
       "    <tr>\n",
       "      <th>CA-TPD</th>\n",
       "      <td>TS_2_6_1</td>\n",
       "      <td>2012.0</td>\n",
       "      <td>-1.00</td>\n",
       "      <td>TEMP-ElectResis</td>\n",
       "      <td>NaN</td>\n",
       "      <td>NaN</td>\n",
       "      <td>02-May</td>\n",
       "    </tr>\n",
       "    <tr>\n",
       "      <th>CA-TPD</th>\n",
       "      <td>TS_2_4_1</td>\n",
       "      <td>2012.0</td>\n",
       "      <td>-0.20</td>\n",
       "      <td>TEMP-ElectResis</td>\n",
       "      <td>NaN</td>\n",
       "      <td>NaN</td>\n",
       "      <td>02-May</td>\n",
       "    </tr>\n",
       "    <tr>\n",
       "      <th>CA-TPD</th>\n",
       "      <td>TA</td>\n",
       "      <td>2012.0</td>\n",
       "      <td>36.60</td>\n",
       "      <td>TEMP-ElectResis</td>\n",
       "      <td>NaN</td>\n",
       "      <td>Campbell Scientific Inc (CSI)</td>\n",
       "      <td>02-May</td>\n",
       "    </tr>\n",
       "    <tr>\n",
       "      <th>CA-TPD</th>\n",
       "      <td>TS_2_2_1</td>\n",
       "      <td>2012.0</td>\n",
       "      <td>-0.05</td>\n",
       "      <td>TEMP-ElectResis</td>\n",
       "      <td>NaN</td>\n",
       "      <td>NaN</td>\n",
       "      <td>02-May</td>\n",
       "    </tr>\n",
       "    <tr>\n",
       "      <th>CA-TPD</th>\n",
       "      <td>TS_2_5_1</td>\n",
       "      <td>2012.0</td>\n",
       "      <td>-0.50</td>\n",
       "      <td>TEMP-ElectResis</td>\n",
       "      <td>NaN</td>\n",
       "      <td>NaN</td>\n",
       "      <td>02-May</td>\n",
       "    </tr>\n",
       "    <tr>\n",
       "      <th>CA-TPD</th>\n",
       "      <td>TS_1_3_1</td>\n",
       "      <td>2012.0</td>\n",
       "      <td>-0.10</td>\n",
       "      <td>TEMP-ElectResis</td>\n",
       "      <td>NaN</td>\n",
       "      <td>NaN</td>\n",
       "      <td>02-May</td>\n",
       "    </tr>\n",
       "    <tr>\n",
       "      <th>CA-TPD</th>\n",
       "      <td>TS_1_6_1</td>\n",
       "      <td>2012.0</td>\n",
       "      <td>-1.00</td>\n",
       "      <td>TEMP-ElectResis</td>\n",
       "      <td>NaN</td>\n",
       "      <td>NaN</td>\n",
       "      <td>02-May</td>\n",
       "    </tr>\n",
       "    <tr>\n",
       "      <th>CA-TPD</th>\n",
       "      <td>TS_1_4_1</td>\n",
       "      <td>2012.0</td>\n",
       "      <td>-0.20</td>\n",
       "      <td>TEMP-ElectResis</td>\n",
       "      <td>NaN</td>\n",
       "      <td>NaN</td>\n",
       "      <td>02-May</td>\n",
       "    </tr>\n",
       "    <tr>\n",
       "      <th>CA-TPD</th>\n",
       "      <td>TS_1_2_1</td>\n",
       "      <td>2012.0</td>\n",
       "      <td>-0.05</td>\n",
       "      <td>TEMP-ElectResis</td>\n",
       "      <td>NaN</td>\n",
       "      <td>Campbell Scientific Inc (CSI)</td>\n",
       "      <td>02-May</td>\n",
       "    </tr>\n",
       "    <tr>\n",
       "      <th>CA-TPD</th>\n",
       "      <td>TS_1_5_1</td>\n",
       "      <td>2012.0</td>\n",
       "      <td>-0.50</td>\n",
       "      <td>TEMP-ElectResis</td>\n",
       "      <td>NaN</td>\n",
       "      <td>NaN</td>\n",
       "      <td>02-May</td>\n",
       "    </tr>\n",
       "    <tr>\n",
       "      <th>CA-TPD</th>\n",
       "      <td>TS_PI_F_1_1_1</td>\n",
       "      <td>2012.0</td>\n",
       "      <td>-0.02</td>\n",
       "      <td>TEMP-ElectResis</td>\n",
       "      <td>NaN</td>\n",
       "      <td>NaN</td>\n",
       "      <td>02-May</td>\n",
       "    </tr>\n",
       "    <tr>\n",
       "      <th>CA-TPD</th>\n",
       "      <td>TS_PI_F_1_2_1</td>\n",
       "      <td>2012.0</td>\n",
       "      <td>-0.05</td>\n",
       "      <td>TEMP-ElectResis</td>\n",
       "      <td>NaN</td>\n",
       "      <td>NaN</td>\n",
       "      <td>02-May</td>\n",
       "    </tr>\n",
       "    <tr>\n",
       "      <th>CA-TPD</th>\n",
       "      <td>USTAR</td>\n",
       "      <td>2012.0</td>\n",
       "      <td>35.70</td>\n",
       "      <td>SA-Campbell CSAT-3</td>\n",
       "      <td>NaN</td>\n",
       "      <td>NaN</td>\n",
       "      <td>02-May</td>\n",
       "    </tr>\n",
       "    <tr>\n",
       "      <th>CA-TPD</th>\n",
       "      <td>VPD_PI</td>\n",
       "      <td>2012.0</td>\n",
       "      <td>35.30</td>\n",
       "      <td>RH-Capac</td>\n",
       "      <td>NaN</td>\n",
       "      <td>NaN</td>\n",
       "      <td>02-May</td>\n",
       "    </tr>\n",
       "    <tr>\n",
       "      <th>CA-TPD</th>\n",
       "      <td>VPD_PI_F</td>\n",
       "      <td>2012.0</td>\n",
       "      <td>35.30</td>\n",
       "      <td>RH-Capac</td>\n",
       "      <td>NaN</td>\n",
       "      <td>NaN</td>\n",
       "      <td>02-May</td>\n",
       "    </tr>\n",
       "    <tr>\n",
       "      <th>CA-TPD</th>\n",
       "      <td>WD</td>\n",
       "      <td>2012.0</td>\n",
       "      <td>36.60</td>\n",
       "      <td>WIND-VaneAn</td>\n",
       "      <td>NaN</td>\n",
       "      <td>NaN</td>\n",
       "      <td>02-May</td>\n",
       "    </tr>\n",
       "    <tr>\n",
       "      <th>CA-TPD</th>\n",
       "      <td>WS</td>\n",
       "      <td>2012.0</td>\n",
       "      <td>36.60</td>\n",
       "      <td>WIND-VaneAn</td>\n",
       "      <td>NaN</td>\n",
       "      <td>NaN</td>\n",
       "      <td>02-May</td>\n",
       "    </tr>\n",
       "    <tr>\n",
       "      <th>CA-TPD</th>\n",
       "      <td>WS_PI_F</td>\n",
       "      <td>2012.0</td>\n",
       "      <td>36.60</td>\n",
       "      <td>WIND-VaneAn</td>\n",
       "      <td>NaN</td>\n",
       "      <td>NaN</td>\n",
       "      <td>02-May</td>\n",
       "    </tr>\n",
       "  </tbody>\n",
       "</table>\n",
       "<p>73 rows × 7 columns</p>\n",
       "</div>"
      ],
      "text/plain": [
       "                   Variable  Start_Date  Height      Instrument_Model  \\\n",
       "Site_ID                                                                 \n",
       "CA-TPD            CO2_1_1_1      2012.0   35.70  GA_CP-LI-COR LI-7200   \n",
       "CA-TPD            CO2_1_2_1      2012.0   16.00   GA_SR-LI-COR LI-820   \n",
       "CA-TPD                   FC      2012.0   35.70  GA_CP-LI-COR LI-7200   \n",
       "CA-TPD                 FH2O      2012.0     NaN                   NaN   \n",
       "CA-TPD                   LE      2012.0   35.70  GA_CP-LI-COR LI-7200   \n",
       "CA-TPD   PPFD_IN_PI_F_1_1_1      2012.0   35.13       RAD-PAR Quantum   \n",
       "CA-TPD                P_CUM      2012.0    2.00                   NaN   \n",
       "CA-TPD              PA_PI_F      2012.0    2.00                   NaN   \n",
       "CA-TPD              G_1_1_1      2012.0    0.00          SOIL_H-Plate   \n",
       "CA-TPD              G_2_2_1      2012.0   -0.03          SOIL_H-Plate   \n",
       "CA-TPD              G_3_2_1      2012.0   -0.03          SOIL_H-Plate   \n",
       "CA-TPD              G_4_2_1      2012.0   -0.03          SOIL_H-Plate   \n",
       "CA-TPD              G_1_2_1      2012.0   -0.03          SOIL_H-Plate   \n",
       "CA-TPD             GPP_PI_F      2012.0   35.70  GA_CP-LI-COR LI-7200   \n",
       "CA-TPD                    H      2012.0   35.70  GA_CP-LI-COR LI-7200   \n",
       "CA-TPD               H_PI_F      2012.0   35.70  GA_CP-LI-COR LI-7200   \n",
       "CA-TPD              LE_PI_F      2012.0   35.70  GA_CP-LI-COR LI-7200   \n",
       "CA-TPD               NEE_PI      2012.0   35.70  GA_CP-LI-COR LI-7200   \n",
       "CA-TPD             NEE_PI_F      2012.0   35.70  GA_CP-LI-COR LI-7200   \n",
       "CA-TPD        PPFD_IN_1_1_1      2012.0   35.13       RAD-PAR Quantum   \n",
       "CA-TPD        PPFD_IN_1_2_1      2012.0    2.00       RAD-PAR Quantum   \n",
       "CA-TPD             PPFD_OUT      2012.0   35.13       RAD-PAR Quantum   \n",
       "CA-TPD                    P      2012.0    2.00      PREC-TipBucGauge   \n",
       "CA-TPD                   PA      2012.0    2.00         PRES-ElectBar   \n",
       "CA-TPD            RECO_PI_F      2012.0   35.70  GA_CP-LI-COR LI-7200   \n",
       "CA-TPD                SW_IN      2012.0   35.50      RAD-Pyrrad-SW+LW   \n",
       "CA-TPD           SW_IN_PI_F      2012.0   35.50      RAD-Pyrrad-SW+LW   \n",
       "CA-TPD                LW_IN      2012.0   35.50      RAD-Pyrrad-SW+LW   \n",
       "CA-TPD               LW_OUT      2012.0   35.50      RAD-Pyrrad-SW+LW   \n",
       "CA-TPD               SW_OUT      2012.0   35.50      RAD-Pyrrad-SW+LW   \n",
       "...                     ...         ...     ...                   ...   \n",
       "CA-TPD            SWC_2_1_1      2012.0   -0.02               SWC-TDR   \n",
       "CA-TPD            SWC_2_3_1      2012.0   -0.10               SWC-TDR   \n",
       "CA-TPD            SWC_2_6_1      2012.0   -1.00               SWC-TDR   \n",
       "CA-TPD            SWC_2_4_1      2012.0   -0.20               SWC-TDR   \n",
       "CA-TPD            SWC_2_2_1      2012.0   -0.05               SWC-TDR   \n",
       "CA-TPD            SWC_2_5_1      2012.0   -0.50               SWC-TDR   \n",
       "CA-TPD            SWC_1_3_1      2012.0   -0.10               SWC-TDR   \n",
       "CA-TPD            SWC_1_6_1      2012.0   -1.00               SWC-TDR   \n",
       "CA-TPD            SWC_1_4_1      2012.0   -0.20               SWC-TDR   \n",
       "CA-TPD            SWC_1_2_1      2012.0   -0.05               SWC-TDR   \n",
       "CA-TPD            SWC_1_5_1      2012.0   -0.50               SWC-TDR   \n",
       "CA-TPD             TS_2_3_1      2012.0   -0.10       TEMP-ElectResis   \n",
       "CA-TPD             TS_2_6_1      2012.0   -1.00       TEMP-ElectResis   \n",
       "CA-TPD             TS_2_4_1      2012.0   -0.20       TEMP-ElectResis   \n",
       "CA-TPD                   TA      2012.0   36.60       TEMP-ElectResis   \n",
       "CA-TPD             TS_2_2_1      2012.0   -0.05       TEMP-ElectResis   \n",
       "CA-TPD             TS_2_5_1      2012.0   -0.50       TEMP-ElectResis   \n",
       "CA-TPD             TS_1_3_1      2012.0   -0.10       TEMP-ElectResis   \n",
       "CA-TPD             TS_1_6_1      2012.0   -1.00       TEMP-ElectResis   \n",
       "CA-TPD             TS_1_4_1      2012.0   -0.20       TEMP-ElectResis   \n",
       "CA-TPD             TS_1_2_1      2012.0   -0.05       TEMP-ElectResis   \n",
       "CA-TPD             TS_1_5_1      2012.0   -0.50       TEMP-ElectResis   \n",
       "CA-TPD        TS_PI_F_1_1_1      2012.0   -0.02       TEMP-ElectResis   \n",
       "CA-TPD        TS_PI_F_1_2_1      2012.0   -0.05       TEMP-ElectResis   \n",
       "CA-TPD                USTAR      2012.0   35.70    SA-Campbell CSAT-3   \n",
       "CA-TPD               VPD_PI      2012.0   35.30              RH-Capac   \n",
       "CA-TPD             VPD_PI_F      2012.0   35.30              RH-Capac   \n",
       "CA-TPD                   WD      2012.0   36.60           WIND-VaneAn   \n",
       "CA-TPD                   WS      2012.0   36.60           WIND-VaneAn   \n",
       "CA-TPD              WS_PI_F      2012.0   36.60           WIND-VaneAn   \n",
       "\n",
       "        Instrument_Model2                                            Comment  \\\n",
       "Site_ID                                                                        \n",
       "CA-TPD                NaN                                      LI-7200 IRGA)   \n",
       "CA-TPD                NaN                      LI820_CO2_Cnpy_16m (ppm); CO2   \n",
       "CA-TPD                NaN                                                NaN   \n",
       "CA-TPD                NaN                                                NaN   \n",
       "CA-TPD                NaN                                                NaN   \n",
       "CA-TPD                NaN                                                NaN   \n",
       "CA-TPD                NaN                                                NaN   \n",
       "CA-TPD                NaN                                                NaN   \n",
       "CA-TPD                NaN                                                NaN   \n",
       "CA-TPD                NaN                                                NaN   \n",
       "CA-TPD                NaN                                                NaN   \n",
       "CA-TPD                NaN                                                NaN   \n",
       "CA-TPD                NaN                                                NaN   \n",
       "CA-TPD                NaN                                                NaN   \n",
       "CA-TPD                NaN                                                NaN   \n",
       "CA-TPD                NaN                                                NaN   \n",
       "CA-TPD                NaN                                                NaN   \n",
       "CA-TPD                NaN                                                NaN   \n",
       "CA-TPD                NaN                                                NaN   \n",
       "CA-TPD                NaN                                     Kipp and Zonen   \n",
       "CA-TPD                NaN                                                NaN   \n",
       "CA-TPD                NaN                                     Kipp and Zonen   \n",
       "CA-TPD                NaN  CSI (heated and Alter Shielded) in a forest op...   \n",
       "CA-TPD                NaN                                           Young Co   \n",
       "CA-TPD                NaN                                                NaN   \n",
       "CA-TPD                NaN                                  Kipp & Zonen CNR4   \n",
       "CA-TPD                NaN  CNR1_GlobalShortwaveRad_AbvCnpy_36m (W/m2); Ga...   \n",
       "CA-TPD                NaN                   Kipp & Zonen CNR4 Net Radiometer   \n",
       "CA-TPD                NaN                   Kipp & Zonen CNR4 Net Radiometer   \n",
       "CA-TPD                NaN                   Kipp & Zonen CNR4 Net Radiometer   \n",
       "...                   ...                                                ...   \n",
       "CA-TPD                NaN                                                NaN   \n",
       "CA-TPD                NaN                                                NaN   \n",
       "CA-TPD                NaN                                                NaN   \n",
       "CA-TPD                NaN                                                NaN   \n",
       "CA-TPD                NaN                                                NaN   \n",
       "CA-TPD                NaN                                                NaN   \n",
       "CA-TPD                NaN                                                NaN   \n",
       "CA-TPD                NaN                                                NaN   \n",
       "CA-TPD                NaN                                                NaN   \n",
       "CA-TPD                NaN                                                NaN   \n",
       "CA-TPD                NaN                                                NaN   \n",
       "CA-TPD                NaN                                                NaN   \n",
       "CA-TPD                NaN                                                NaN   \n",
       "CA-TPD                NaN                                                NaN   \n",
       "CA-TPD                NaN                      Campbell Scientific Inc (CSI)   \n",
       "CA-TPD                NaN                                                NaN   \n",
       "CA-TPD                NaN                                                NaN   \n",
       "CA-TPD                NaN                                                NaN   \n",
       "CA-TPD                NaN                                                NaN   \n",
       "CA-TPD                NaN                                                NaN   \n",
       "CA-TPD                NaN                      Campbell Scientific Inc (CSI)   \n",
       "CA-TPD                NaN                                                NaN   \n",
       "CA-TPD                NaN                                                NaN   \n",
       "CA-TPD                NaN                                                NaN   \n",
       "CA-TPD                NaN                                                NaN   \n",
       "CA-TPD                NaN                                                NaN   \n",
       "CA-TPD                NaN                                                NaN   \n",
       "CA-TPD                NaN                                                NaN   \n",
       "CA-TPD                NaN                                                NaN   \n",
       "CA-TPD                NaN                                                NaN   \n",
       "\n",
       "        BASE_Version  \n",
       "Site_ID               \n",
       "CA-TPD        02-May  \n",
       "CA-TPD        02-May  \n",
       "CA-TPD        02-May  \n",
       "CA-TPD        02-May  \n",
       "CA-TPD        02-May  \n",
       "CA-TPD        02-May  \n",
       "CA-TPD        02-May  \n",
       "CA-TPD        02-May  \n",
       "CA-TPD        02-May  \n",
       "CA-TPD        02-May  \n",
       "CA-TPD        02-May  \n",
       "CA-TPD        02-May  \n",
       "CA-TPD        02-May  \n",
       "CA-TPD        02-May  \n",
       "CA-TPD        02-May  \n",
       "CA-TPD        02-May  \n",
       "CA-TPD        02-May  \n",
       "CA-TPD        02-May  \n",
       "CA-TPD        02-May  \n",
       "CA-TPD        02-May  \n",
       "CA-TPD        02-May  \n",
       "CA-TPD        02-May  \n",
       "CA-TPD        02-May  \n",
       "CA-TPD        02-May  \n",
       "CA-TPD        02-May  \n",
       "CA-TPD        02-May  \n",
       "CA-TPD        02-May  \n",
       "CA-TPD        02-May  \n",
       "CA-TPD        02-May  \n",
       "CA-TPD        02-May  \n",
       "...              ...  \n",
       "CA-TPD        02-May  \n",
       "CA-TPD        02-May  \n",
       "CA-TPD        02-May  \n",
       "CA-TPD        02-May  \n",
       "CA-TPD        02-May  \n",
       "CA-TPD        02-May  \n",
       "CA-TPD        02-May  \n",
       "CA-TPD        02-May  \n",
       "CA-TPD        02-May  \n",
       "CA-TPD        02-May  \n",
       "CA-TPD        02-May  \n",
       "CA-TPD        02-May  \n",
       "CA-TPD        02-May  \n",
       "CA-TPD        02-May  \n",
       "CA-TPD        02-May  \n",
       "CA-TPD        02-May  \n",
       "CA-TPD        02-May  \n",
       "CA-TPD        02-May  \n",
       "CA-TPD        02-May  \n",
       "CA-TPD        02-May  \n",
       "CA-TPD        02-May  \n",
       "CA-TPD        02-May  \n",
       "CA-TPD        02-May  \n",
       "CA-TPD        02-May  \n",
       "CA-TPD        02-May  \n",
       "CA-TPD        02-May  \n",
       "CA-TPD        02-May  \n",
       "CA-TPD        02-May  \n",
       "CA-TPD        02-May  \n",
       "CA-TPD        02-May  \n",
       "\n",
       "[73 rows x 7 columns]"
      ]
     },
     "metadata": {},
     "execution_count": 4
    }
   ],
   "metadata": {
    "ExecuteTime": {
     "end_time": "2019-10-17T14:13:36.567236Z",
     "start_time": "2019-10-17T14:13:36.532701Z"
    }
   }
  },
  {
   "cell_type": "markdown",
   "source": [
    "from the table above, we know the measurement height for wind speed `WS` is `36.6 m`.\n",
    "\n",
    "We will use the value in the following calculation."
   ],
   "metadata": {}
  },
  {
   "cell_type": "code",
   "execution_count": 5,
   "source": [
    "# write down measurement height of wind speed\n",
    "z_meas = 36.6"
   ],
   "outputs": [],
   "metadata": {
    "ExecuteTime": {
     "end_time": "2019-10-17T14:13:36.570813Z",
     "start_time": "2019-10-17T14:13:36.568790Z"
    }
   }
  },
  {
   "cell_type": "code",
   "execution_count": 6,
   "source": [
    "# load dataset\n",
    "site_file = name_of_site + '_clean.csv.gz'\n",
    "path_data = path_dir / site_file\n",
    "df_data = pd.read_csv(path_data, index_col='time', parse_dates=['time'])\n",
    "df_data.head()"
   ],
   "outputs": [
    {
     "output_type": "execute_result",
     "data": {
      "text/html": [
       "<div>\n",
       "<style scoped>\n",
       "    .dataframe tbody tr th:only-of-type {\n",
       "        vertical-align: middle;\n",
       "    }\n",
       "\n",
       "    .dataframe tbody tr th {\n",
       "        vertical-align: top;\n",
       "    }\n",
       "\n",
       "    .dataframe thead th {\n",
       "        text-align: right;\n",
       "    }\n",
       "</style>\n",
       "<table border=\"1\" class=\"dataframe\">\n",
       "  <thead>\n",
       "    <tr style=\"text-align: right;\">\n",
       "      <th></th>\n",
       "      <th>WS</th>\n",
       "      <th>RH</th>\n",
       "      <th>TA</th>\n",
       "      <th>PA</th>\n",
       "      <th>WD</th>\n",
       "      <th>P</th>\n",
       "      <th>SWIN</th>\n",
       "      <th>LWIN</th>\n",
       "      <th>SWOUT</th>\n",
       "      <th>LWOUT</th>\n",
       "      <th>NETRAD</th>\n",
       "      <th>H</th>\n",
       "      <th>LE</th>\n",
       "      <th>USTAR</th>\n",
       "      <th>ZL</th>\n",
       "    </tr>\n",
       "    <tr>\n",
       "      <th>time</th>\n",
       "      <th></th>\n",
       "      <th></th>\n",
       "      <th></th>\n",
       "      <th></th>\n",
       "      <th></th>\n",
       "      <th></th>\n",
       "      <th></th>\n",
       "      <th></th>\n",
       "      <th></th>\n",
       "      <th></th>\n",
       "      <th></th>\n",
       "      <th></th>\n",
       "      <th></th>\n",
       "      <th></th>\n",
       "      <th></th>\n",
       "    </tr>\n",
       "  </thead>\n",
       "  <tbody>\n",
       "    <tr>\n",
       "      <th>2012-01-01 11:00:00</th>\n",
       "      <td>NaN</td>\n",
       "      <td>NaN</td>\n",
       "      <td>NaN</td>\n",
       "      <td>NaN</td>\n",
       "      <td>NaN</td>\n",
       "      <td>NaN</td>\n",
       "      <td>NaN</td>\n",
       "      <td>NaN</td>\n",
       "      <td>NaN</td>\n",
       "      <td>NaN</td>\n",
       "      <td>NaN</td>\n",
       "      <td>-86.133</td>\n",
       "      <td>12.683</td>\n",
       "      <td>1.170</td>\n",
       "      <td>NaN</td>\n",
       "    </tr>\n",
       "    <tr>\n",
       "      <th>2012-01-01 11:30:00</th>\n",
       "      <td>NaN</td>\n",
       "      <td>NaN</td>\n",
       "      <td>NaN</td>\n",
       "      <td>NaN</td>\n",
       "      <td>NaN</td>\n",
       "      <td>NaN</td>\n",
       "      <td>NaN</td>\n",
       "      <td>NaN</td>\n",
       "      <td>NaN</td>\n",
       "      <td>NaN</td>\n",
       "      <td>NaN</td>\n",
       "      <td>-71.325</td>\n",
       "      <td>28.933</td>\n",
       "      <td>1.188</td>\n",
       "      <td>NaN</td>\n",
       "    </tr>\n",
       "    <tr>\n",
       "      <th>2012-01-01 12:00:00</th>\n",
       "      <td>NaN</td>\n",
       "      <td>NaN</td>\n",
       "      <td>NaN</td>\n",
       "      <td>NaN</td>\n",
       "      <td>NaN</td>\n",
       "      <td>NaN</td>\n",
       "      <td>NaN</td>\n",
       "      <td>NaN</td>\n",
       "      <td>NaN</td>\n",
       "      <td>NaN</td>\n",
       "      <td>NaN</td>\n",
       "      <td>-64.607</td>\n",
       "      <td>29.349</td>\n",
       "      <td>1.188</td>\n",
       "      <td>NaN</td>\n",
       "    </tr>\n",
       "    <tr>\n",
       "      <th>2012-01-01 12:30:00</th>\n",
       "      <td>NaN</td>\n",
       "      <td>NaN</td>\n",
       "      <td>NaN</td>\n",
       "      <td>NaN</td>\n",
       "      <td>NaN</td>\n",
       "      <td>NaN</td>\n",
       "      <td>NaN</td>\n",
       "      <td>NaN</td>\n",
       "      <td>NaN</td>\n",
       "      <td>NaN</td>\n",
       "      <td>NaN</td>\n",
       "      <td>-94.362</td>\n",
       "      <td>36.909</td>\n",
       "      <td>1.295</td>\n",
       "      <td>NaN</td>\n",
       "    </tr>\n",
       "    <tr>\n",
       "      <th>2012-01-01 13:00:00</th>\n",
       "      <td>NaN</td>\n",
       "      <td>NaN</td>\n",
       "      <td>NaN</td>\n",
       "      <td>NaN</td>\n",
       "      <td>NaN</td>\n",
       "      <td>NaN</td>\n",
       "      <td>NaN</td>\n",
       "      <td>NaN</td>\n",
       "      <td>NaN</td>\n",
       "      <td>NaN</td>\n",
       "      <td>NaN</td>\n",
       "      <td>-74.555</td>\n",
       "      <td>51.049</td>\n",
       "      <td>1.212</td>\n",
       "      <td>NaN</td>\n",
       "    </tr>\n",
       "  </tbody>\n",
       "</table>\n",
       "</div>"
      ],
      "text/plain": [
       "                     WS  RH  TA  PA  WD   P  SWIN  LWIN  SWOUT  LWOUT  NETRAD  \\\n",
       "time                                                                            \n",
       "2012-01-01 11:00:00 NaN NaN NaN NaN NaN NaN   NaN   NaN    NaN    NaN     NaN   \n",
       "2012-01-01 11:30:00 NaN NaN NaN NaN NaN NaN   NaN   NaN    NaN    NaN     NaN   \n",
       "2012-01-01 12:00:00 NaN NaN NaN NaN NaN NaN   NaN   NaN    NaN    NaN     NaN   \n",
       "2012-01-01 12:30:00 NaN NaN NaN NaN NaN NaN   NaN   NaN    NaN    NaN     NaN   \n",
       "2012-01-01 13:00:00 NaN NaN NaN NaN NaN NaN   NaN   NaN    NaN    NaN     NaN   \n",
       "\n",
       "                          H      LE  USTAR  ZL  \n",
       "time                                            \n",
       "2012-01-01 11:00:00 -86.133  12.683  1.170 NaN  \n",
       "2012-01-01 11:30:00 -71.325  28.933  1.188 NaN  \n",
       "2012-01-01 12:00:00 -64.607  29.349  1.188 NaN  \n",
       "2012-01-01 12:30:00 -94.362  36.909  1.295 NaN  \n",
       "2012-01-01 13:00:00 -74.555  51.049  1.212 NaN  "
      ]
     },
     "metadata": {},
     "execution_count": 6
    }
   ],
   "metadata": {
    "ExecuteTime": {
     "end_time": "2019-10-17T14:13:36.781381Z",
     "start_time": "2019-10-17T14:13:36.572164Z"
    }
   }
  },
  {
   "cell_type": "markdown",
   "source": [
    "### stability correction"
   ],
   "metadata": {}
  },
  {
   "cell_type": "markdown",
   "source": [
    "You need to calculate Obukhov Stavility parameter as following:\n",
    "$$\n",
    "L=-\\frac{u_{*}^{3}}{k \\frac{g}{T} \\frac{Q_{H}}{\\rho c_{p}}}\n",
    "$$\n",
    "\n",
    "$$\n",
    "\\text{Obukhov stability parameter }=\\frac{z-d}{L}\n",
    "$$\n",
    "\n",
    "where $u_*$ is friction velocity; $g$ is gravity; $T$ is air temperature; $k$ is von Kármán’s ‘constant’ (0.4); $Q_H$ is turbulent sensible heat flux; $\\rho$ is air density; $z$ is measurement height; and $d$ is zero desplacement height\n",
    "\n"
   ],
   "metadata": {}
  },
  {
   "cell_type": "markdown",
   "source": [
    "We use different functions for this. The functions are already implemented. You can use these functions in the future for different part of the model. Here some example how to use them."
   ],
   "metadata": {}
  },
  {
   "cell_type": "code",
   "execution_count": 7,
   "source": [
    "from utility import cal_vap_sat, cal_dens_dry, cal_dens_vap, cal_cpa, cal_dens_air, cal_Lob"
   ],
   "outputs": [],
   "metadata": {
    "ExecuteTime": {
     "end_time": "2019-10-17T14:13:36.786885Z",
     "start_time": "2019-10-17T14:13:36.784078Z"
    }
   }
  },
  {
   "cell_type": "code",
   "execution_count": 8,
   "source": [
    "# saturation vapour pressure [hPa]\n",
    "cal_vap_sat(0.0003, 1013)"
   ],
   "outputs": [
    {
     "output_type": "execute_result",
     "data": {
      "text/plain": [
       "6.118926455724389"
      ]
     },
     "metadata": {},
     "execution_count": 8
    }
   ],
   "metadata": {
    "ExecuteTime": {
     "end_time": "2019-10-17T14:13:36.792047Z",
     "start_time": "2019-10-17T14:13:36.789320Z"
    }
   }
  },
  {
   "cell_type": "code",
   "execution_count": 9,
   "source": [
    "# density of dry air [kg m-3]\n",
    "cal_dens_dry(98, 23, 1013)"
   ],
   "outputs": [
    {
     "output_type": "execute_result",
     "data": {
      "text/plain": [
       "1.1591455092830807"
      ]
     },
     "metadata": {},
     "execution_count": 9
    }
   ],
   "metadata": {
    "ExecuteTime": {
     "end_time": "2019-10-17T14:13:36.795917Z",
     "start_time": "2019-10-17T14:13:36.793192Z"
    }
   }
  },
  {
   "cell_type": "code",
   "execution_count": 10,
   "source": [
    "# density of vapour [kg m-3]\n",
    "cal_dens_vap(98, 23, 1013)"
   ],
   "outputs": [
    {
     "output_type": "execute_result",
     "data": {
      "text/plain": [
       "0.020167600169459326"
      ]
     },
     "metadata": {},
     "execution_count": 10
    }
   ],
   "metadata": {
    "ExecuteTime": {
     "end_time": "2019-10-17T14:13:36.799876Z",
     "start_time": "2019-10-17T14:13:36.797106Z"
    }
   }
  },
  {
   "cell_type": "code",
   "execution_count": 11,
   "source": [
    "# specific heat capacity of air mass [J kg-1 K-1]\n",
    "cal_cpa(23, 30, 1013)"
   ],
   "outputs": [
    {
     "output_type": "execute_result",
     "data": {
      "text/plain": [
       "1010.1394406405146"
      ]
     },
     "metadata": {},
     "execution_count": 11
    }
   ],
   "metadata": {
    "ExecuteTime": {
     "end_time": "2019-10-17T14:13:36.803923Z",
     "start_time": "2019-10-17T14:13:36.801263Z"
    }
   }
  },
  {
   "cell_type": "code",
   "execution_count": 12,
   "source": [
    "# air density [kg m-3]\n",
    "cal_dens_air(1013, 32)"
   ],
   "outputs": [
    {
     "output_type": "execute_result",
     "data": {
      "text/plain": [
       "1.1564283022625206"
      ]
     },
     "metadata": {},
     "execution_count": 12
    }
   ],
   "metadata": {
    "ExecuteTime": {
     "end_time": "2019-10-17T14:13:36.807861Z",
     "start_time": "2019-10-17T14:13:36.805265Z"
    }
   }
  },
  {
   "cell_type": "code",
   "execution_count": 13,
   "source": [
    "# Obukhov length\n",
    "cal_Lob(500, 0.0001, 23, 90, 1020)"
   ],
   "outputs": [
    {
     "output_type": "execute_result",
     "data": {
      "text/plain": [
       "-0.00018481221694860222"
      ]
     },
     "metadata": {},
     "execution_count": 13
    }
   ],
   "metadata": {
    "ExecuteTime": {
     "end_time": "2019-10-17T14:13:36.811825Z",
     "start_time": "2019-10-17T14:13:36.808949Z"
    }
   }
  },
  {
   "cell_type": "markdown",
   "source": [
    "Now we can calculate Obukhov length ($L$). Let's integrate all together:\n",
    "\n",
    "Here you need to specify the height of the vegetation `h_sfc` . You can find this from the paper related to your site. Note that the height should be smaller than the measurement height"
   ],
   "metadata": {}
  },
  {
   "cell_type": "code",
   "execution_count": 14,
   "source": [
    "# select valid values\n",
    "df_val = df_data.loc[:, ['H', 'USTAR', 'TA', 'RH', 'PA', 'WS']].dropna()\n",
    "\n",
    "# calculate Obukhov length\n",
    "ser_Lob = df_val.apply(\n",
    "    lambda ser: cal_Lob(ser.H, ser.USTAR, ser.TA, ser.RH, ser.PA * 10), axis=1)\n",
    "\n",
    "# zero-plane displacement: estimated using rule f thumb `d=0.7*h_sfc`\n",
    "h_sfc = 10\n",
    "z_d = 0.7 * h_sfc\n",
    "\n",
    "if z_d >= z_meas:\n",
    "    print(\n",
    "        'vegetation height is greater than measuring height. Please fix this before continuing'\n",
    "    )\n",
    "\n",
    "# calculate stability scale\n",
    "ser_zL = (z_meas - z_d) / ser_Lob"
   ],
   "outputs": [],
   "metadata": {
    "ExecuteTime": {
     "end_time": "2019-10-17T14:13:41.724718Z",
     "start_time": "2019-10-17T14:13:36.813190Z"
    }
   }
  },
  {
   "cell_type": "code",
   "execution_count": 15,
   "source": [
    "# determine periods under quasi-neutral conditions\n",
    "limit_neutral = 0.01\n",
    "ind_neutral = ser_zL.between(-limit_neutral, limit_neutral)\n",
    "df_val.loc[ind_neutral, 'USTAR'].plot.hist()"
   ],
   "outputs": [
    {
     "output_type": "execute_result",
     "data": {
      "text/plain": [
       "<matplotlib.axes._subplots.AxesSubplot at 0x1158fd940>"
      ]
     },
     "metadata": {},
     "execution_count": 15
    },
    {
     "output_type": "display_data",
     "data": {
      "image/png": "[encoded data removed]",
      "text/plain": [
       "<Figure size 432x288 with 1 Axes>"
      ]
     },
     "metadata": {
      "needs_background": "light"
     }
    }
   ],
   "metadata": {
    "ExecuteTime": {
     "end_time": "2019-10-17T14:13:41.898089Z",
     "start_time": "2019-10-17T14:13:41.726002Z"
    }
   }
  },
  {
   "cell_type": "markdown",
   "source": [
    "### calculate roughness length $z_0$ and zero plane displacement $d$"
   ],
   "metadata": {}
  },
  {
   "cell_type": "markdown",
   "source": [
    "#### theoretical basis"
   ],
   "metadata": {}
  },
  {
   "cell_type": "markdown",
   "source": [
    "We will employ the followng equation in our calculations:\n",
    "$$\n",
    "\\bar{u}(z)=\\frac{u_{*}}{k} \\ln \\left[\\frac{(z-d)}{z_{0}}\\right]\n",
    "$$\n",
    "where $\\bar{u}(z)$ is the measured wind speed at a height $z$, \n",
    "$u_{*}$ the friction velocity, \n",
    "$d$ the zero-plane displacement, \n",
    "$k$ the von Karman’s constant (a value of 0.4 used in the following calculation)."
   ],
   "metadata": {
    "ExecuteTime": {
     "end_time": "2019-09-08T12:55:44.066370Z",
     "start_time": "2019-09-08T12:55:43.976613Z"
    }
   }
  },
  {
   "cell_type": "markdown",
   "source": [
    "#### calculation"
   ],
   "metadata": {}
  },
  {
   "cell_type": "markdown",
   "source": [
    "We will use `scipy.optimize.curve_fit` to determine the parameters $z_0$ and $d$ in the model above."
   ],
   "metadata": {}
  },
  {
   "cell_type": "code",
   "execution_count": 16,
   "source": [
    "from scipy.optimize import curve_fit"
   ],
   "outputs": [],
   "metadata": {
    "ExecuteTime": {
     "end_time": "2019-10-17T14:13:41.979379Z",
     "start_time": "2019-10-17T14:13:41.899587Z"
    }
   }
  },
  {
   "cell_type": "markdown",
   "source": [
    "To use `curve_fit`, we need to define a function repensenting the model above:"
   ],
   "metadata": {}
  },
  {
   "cell_type": "code",
   "execution_count": 17,
   "source": [
    "def func_uz(ustar, z0):\n",
    "    z = z_meas\n",
    "    d = 0.7 * h_sfc\n",
    "    k = 0.4\n",
    "    uz = ustar / k * np.log((z - d) / z0)\n",
    "    return uz"
   ],
   "outputs": [],
   "metadata": {
    "ExecuteTime": {
     "end_time": "2019-10-17T14:13:41.983757Z",
     "start_time": "2019-10-17T14:13:41.980989Z"
    }
   }
  },
  {
   "cell_type": "code",
   "execution_count": 18,
   "source": [
    "# choose the necessary variables\n",
    "df_sel = df_val.loc[ind_neutral, ['WS', 'USTAR']].dropna()"
   ],
   "outputs": [],
   "metadata": {
    "ExecuteTime": {
     "end_time": "2019-10-17T14:13:41.990651Z",
     "start_time": "2019-10-17T14:13:41.985183Z"
    }
   }
  },
  {
   "cell_type": "code",
   "execution_count": 19,
   "source": [
    "# set up input data for curve fitting\n",
    "ser_ustar = df_sel.USTAR\n",
    "ser_ws = df_sel.WS\n",
    "# use `curve_fit` to get parameters of interest\n",
    "z0_fit, _ = curve_fit(func_uz, ser_ustar, ser_ws, bounds=[(0), (np.inf)])"
   ],
   "outputs": [],
   "metadata": {
    "ExecuteTime": {
     "end_time": "2019-10-17T14:13:42.003039Z",
     "start_time": "2019-10-17T14:13:41.992120Z"
    }
   }
  },
  {
   "cell_type": "code",
   "execution_count": 20,
   "source": [
    "# examine the results\n",
    "res_fit = func_uz(ser_ustar, z0_fit).rename('sim')\n",
    "res_obs = ser_ws.copy().rename('obs')\n",
    "df_comp = pd.concat([res_obs, res_fit], axis=1)\n",
    "ax = df_comp.plot.scatter(x='obs', y='sim', label=f'$z_0=${z0_fit[0]:.2f}')\n",
    "lim = ax.get_xlim()\n",
    "ax.plot(lim, lim, color='r', linestyle='--')\n",
    "ax.set_aspect('equal')"
   ],
   "outputs": [
    {
     "output_type": "execute_result",
     "data": {
      "text/plain": [
       "[<matplotlib.lines.Line2D at 0x127a4a048>]"
      ]
     },
     "metadata": {},
     "execution_count": 20
    },
    {
     "output_type": "display_data",
     "data": {
      "image/png": "[encoded data removed]",
      "text/plain": [
       "<Figure size 432x288 with 1 Axes>"
      ]
     },
     "metadata": {
      "needs_background": "light"
     }
    }
   ],
   "metadata": {
    "ExecuteTime": {
     "end_time": "2019-10-17T14:13:42.337337Z",
     "start_time": "2019-10-17T14:13:42.004391Z"
    }
   }
  },
  {
   "cell_type": "markdown",
   "source": [
    "#### Calculate aerodynamic resistance $r_a$"
   ],
   "metadata": {}
  },
  {
   "cell_type": "markdown",
   "source": [
    "##### write down the equation used for this calculation"
   ],
   "metadata": {}
  },
  {
   "cell_type": "markdown",
   "source": [
    "equation with explanations of symbol:\n",
    "$$\n",
    "equation\\ here\n",
    "$$"
   ],
   "metadata": {}
  },
  {
   "cell_type": "markdown",
   "source": [
    "##### calculation"
   ],
   "metadata": {}
  },
  {
   "cell_type": "code",
   "execution_count": 21,
   "source": [
    "# calculation code"
   ],
   "outputs": [],
   "metadata": {
    "ExecuteTime": {
     "end_time": "2019-10-17T14:13:42.341384Z",
     "start_time": "2019-10-17T14:13:42.339345Z"
    }
   }
  },
  {
   "cell_type": "markdown",
   "source": [
    "#### examination of variability"
   ],
   "metadata": {}
  },
  {
   "cell_type": "code",
   "execution_count": 22,
   "source": [
    "# calculation code"
   ],
   "outputs": [],
   "metadata": {
    "ExecuteTime": {
     "end_time": "2019-10-17T14:13:42.347410Z",
     "start_time": "2019-10-17T14:13:42.345353Z"
    }
   }
  }
 ],
 "metadata": {
  "file_extension": ".py",
  "kernelspec": {
   "display_name": "Python 3",
   "language": "python",
   "name": "python3"
  },
  "language_info": {
   "codemirror_mode": {
    "name": "ipython",
    "version": 3
   },
   "file_extension": ".py",
   "mimetype": "text/x-python",
   "name": "python",
   "nbconvert_exporter": "python",
   "pygments_lexer": "ipython3",
   "version": "3.7.3"
  },
  "mimetype": "text/x-python",
  "name": "python",
  "npconvert_exporter": "python",
  "pygments_lexer": "ipython3",
  "toc": {
   "base_numbering": 1,
   "nav_menu": {},
   "number_sections": true,
   "sideBar": true,
   "skip_h1_title": true,
   "title_cell": "Table of Contents",
   "title_sidebar": "Contents",
   "toc_cell": false,
   "toc_position": {},
   "toc_section_display": true,
   "toc_window_display": false
  },
  "version": 3
 },
 "nbformat": 4,
 "nbformat_minor": 2
}