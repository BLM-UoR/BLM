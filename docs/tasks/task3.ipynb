{
 "cells": [
  {
   "cell_type": "markdown",
   "metadata": {},
   "source": [
    "## Understanding Surface Properties (2): Surface Roughness"
   ]
  },
  {
   "cell_type": "markdown",
   "metadata": {},
   "source": [
    "### Objectives\n",
    "\n",
    "1. Understand how to quantify surface roughness\n",
    "2. Understand variability of surface roughness\n"
   ]
  },
  {
   "cell_type": "markdown",
   "metadata": {},
   "source": [
    "<div class=\"alert alert-info\">\n",
    "\n",
    "**Tips:** \n",
    "\n",
    "1. [Eddy Covariance](../EddyCovariance.rst) observations allow several important parameters to be determined:\n",
    "   -  **Zero plane displacement length** $d$ can be calculated based on vegetation height (think about changes in [LAI](../LAI.rst) and porosity). If there is a profile of anemometers (e.g. as at the [Observatory](Observatory.rst)) then this can be calculated using that.\n",
    "   -  **Roughness length** $z_0$ can be calculated from the EC data ([EddyCovariance](../EddyCovariance.rst)) by rearranging the logarithmic law from the neutral wind profile [WindProfile](WindProfile.rst)).\n",
    "2.  Do these vary with season? Wind Direction? Create a graph to analyse the data (think about wind directions).\n",
    "3.  How do these values compare to the literature?\n",
    "1.  Calculate the **aerodynamic resistance** $r_a$.\n",
    "2.  For scientific background see [Roughness](../Parameters.rst#roughness-length-z-0-and-displacement-height-d) and [Reading List](../ReadingList.rst)\n",
    "\n",
    "\n",
    "</div>\n"
   ]
  },
  {
   "cell_type": "markdown",
   "metadata": {},
   "source": [
    "### Tasks"
   ]
  },
  {
   "cell_type": "markdown",
   "metadata": {},
   "source": [
    "#### load necessary packages"
   ]
  },
  {
   "cell_type": "code",
   "execution_count": 2,
   "metadata": {
    "ExecuteTime": {
     "end_time": "2019-09-08T12:55:09.515196Z",
     "start_time": "2019-09-08T12:55:08.976922Z"
    }
   },
   "outputs": [],
   "source": [
    "import numpy as np\n",
    "import matplotlib.pyplot as plt\n",
    "import pandas as pd\n",
    "from pathlib import Path\n"
   ]
  },
  {
   "cell_type": "markdown",
   "metadata": {},
   "source": [
    "#### load data"
   ]
  },
  {
   "cell_type": "code",
   "execution_count": 6,
   "metadata": {
    "ExecuteTime": {
     "end_time": "2019-09-08T12:55:26.779818Z",
     "start_time": "2019-09-08T12:55:26.777074Z"
    }
   },
   "outputs": [],
   "source": [
    "# load data properly"
   ]
  },
  {
   "cell_type": "markdown",
   "metadata": {},
   "source": [
    "#### calculate roughness length $z_0$ and zero plane displacement $d$"
   ]
  },
  {
   "cell_type": "markdown",
   "metadata": {},
   "source": [
    "##### write down the equation used for this calculation"
   ]
  },
  {
   "cell_type": "markdown",
   "metadata": {
    "ExecuteTime": {
     "end_time": "2019-09-08T12:55:44.066370Z",
     "start_time": "2019-09-08T12:55:43.976613Z"
    }
   },
   "source": [
    "equation with explanations of symbol:\n",
    "$$\n",
    "equation\\ here\n",
    "$$"
   ]
  },
  {
   "cell_type": "markdown",
   "metadata": {},
   "source": [
    "##### calculation"
   ]
  },
  {
   "cell_type": "code",
   "execution_count": 1,
   "metadata": {
    "ExecuteTime": {
     "end_time": "2019-09-12T15:11:53.491645Z",
     "start_time": "2019-09-12T15:11:53.489370Z"
    }
   },
   "outputs": [],
   "source": [
    "# calculations"
   ]
  },
  {
   "cell_type": "markdown",
   "metadata": {},
   "source": [
    "#### Calculate aerodynamic resistance $r_a$"
   ]
  },
  {
   "cell_type": "markdown",
   "metadata": {},
   "source": [
    "##### write down the equation used for this calculation"
   ]
  },
  {
   "cell_type": "markdown",
   "metadata": {},
   "source": [
    "equation with explanations of symbol:\n",
    "$$\n",
    "equation\\ here\n",
    "$$"
   ]
  },
  {
   "cell_type": "markdown",
   "metadata": {},
   "source": [
    "##### calculation"
   ]
  },
  {
   "cell_type": "code",
   "execution_count": 2,
   "metadata": {
    "ExecuteTime": {
     "end_time": "2019-09-12T15:13:14.033268Z",
     "start_time": "2019-09-12T15:13:14.031299Z"
    }
   },
   "outputs": [],
   "source": [
    "# calculation code"
   ]
  },
  {
   "cell_type": "markdown",
   "metadata": {},
   "source": [
    "#### examination of variability"
   ]
  },
  {
   "cell_type": "code",
   "execution_count": 3,
   "metadata": {
    "ExecuteTime": {
     "end_time": "2019-09-12T15:14:03.083633Z",
     "start_time": "2019-09-12T15:14:03.081535Z"
    }
   },
   "outputs": [],
   "source": [
    "# calculation code"
   ]
  }
 ],
 "metadata": {
  "file_extension": ".py",
  "kernelspec": {
   "display_name": "Python 3",
   "language": "python",
   "name": "python3"
  },
  "language_info": {
   "codemirror_mode": {
    "name": "ipython",
    "version": 3
   },
   "file_extension": ".py",
   "mimetype": "text/x-python",
   "name": "python",
   "nbconvert_exporter": "python",
   "pygments_lexer": "ipython3",
   "version": "3.7.3"
  },
  "mimetype": "text/x-python",
  "name": "python",
  "npconvert_exporter": "python",
  "pygments_lexer": "ipython3",
  "toc": {
   "base_numbering": 1,
   "nav_menu": {},
   "number_sections": true,
   "sideBar": true,
   "skip_h1_title": true,
   "title_cell": "Table of Contents",
   "title_sidebar": "Contents",
   "toc_cell": false,
   "toc_position": {},
   "toc_section_display": true,
   "toc_window_display": false
  },
  "version": 3
 },
 "nbformat": 4,
 "nbformat_minor": 2
}
