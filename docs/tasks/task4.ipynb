{
 "cells": [
  {
   "cell_type": "markdown",
   "metadata": {},
   "source": [
    "# Understanding Surface Properties (4): Heat Storage and Surface Resistance"
   ]
  },
  {
   "cell_type": "markdown",
   "metadata": {},
   "source": [
    "## Objectives\n",
    "\n",
    "1. Understand how to calculate ground heat flux.\n",
    "3. Understand how to back-calculate surface resistance. \n"
   ]
  },
  {
   "cell_type": "markdown",
   "metadata": {},
   "source": [
    "## Calculation of heat storage: OHM (Objective Hysteresis Model) and a simple scheme"
   ]
  },
  {
   "cell_type": "markdown",
   "metadata": {},
   "source": [
    "The objective hysteresis model helps us estimate the ground surface heat flux using the measured net radiation data. The equation for this model is as follows:"
   ]
  },
  {
   "cell_type": "markdown",
   "metadata": {},
   "source": [
    "$$\n",
    "\\Delta Q_{S}=a_{1} Q^{*}+a_{2} \\frac{\\partial Q^{*}}{\\partial t}+a_{3}\n",
    "$$"
   ]
  },
  {
   "cell_type": "markdown",
   "metadata": {},
   "source": [
    "where $\\Delta Q_S$ is the ground heat flux (W m$^{-2}$), $Q^*$ is the net radiation (W m$^{-2}$), and $a_{1-3}$ are the coefficients to be determined from measurements\n",
    "\n",
    "In this task, we focus on a simpler model instead of the above question using just the first term:"
   ]
  },
  {
   "cell_type": "markdown",
   "metadata": {},
   "source": [
    "$$\n",
    "\\Delta Q_{S}=a_{1} Q^{*}\n",
    "$$"
   ]
  },
  {
   "cell_type": "markdown",
   "metadata": {},
   "source": [
    "The aim is to find $a_1$ using the measurements."
   ]
  },
  {
   "cell_type": "markdown",
   "metadata": {},
   "source": [
    "### Tasks"
   ]
  },
  {
   "cell_type": "markdown",
   "metadata": {},
   "source": [
    "#### Load necessary packages"
   ]
  },
  {
   "cell_type": "code",
   "execution_count": 1,
   "metadata": {
    "ExecuteTime": {
     "end_time": "2019-10-22T09:54:50.294679Z",
     "start_time": "2019-10-22T09:54:49.470945Z"
    }
   },
   "outputs": [],
   "source": [
    "import numpy as np\n",
    "import matplotlib.pyplot as plt\n",
    "import pandas as pd\n",
    "from pathlib import Path"
   ]
  },
  {
   "cell_type": "markdown",
   "metadata": {},
   "source": [
    "#### Loading data"
   ]
  },
  {
   "cell_type": "code",
   "execution_count": 2,
   "metadata": {
    "ExecuteTime": {
     "end_time": "2019-10-22T09:54:50.304598Z",
     "start_time": "2019-10-22T09:54:50.296931Z"
    }
   },
   "outputs": [
    {
     "data": {
      "text/plain": [
       "[PosixPath('/Users/hamidrezaomidvar/Desktop/BLM-task4/data/7/US-Whs_clean.csv.gz'),\n",
       " PosixPath('/Users/hamidrezaomidvar/Desktop/BLM-task4/data/7/US-NC1_clean.csv.gz')]"
      ]
     },
     "execution_count": 2,
     "metadata": {},
     "output_type": "execute_result"
    }
   ],
   "source": [
    "group_number = 7\n",
    "path_dir = Path.cwd() / 'data' / f'{group_number}'\n",
    "# examine available files in your folder\n",
    "list(path_dir.glob('*gz'))"
   ]
  },
  {
   "cell_type": "code",
   "execution_count": 3,
   "metadata": {
    "ExecuteTime": {
     "end_time": "2019-10-22T09:54:50.310012Z",
     "start_time": "2019-10-22T09:54:50.307447Z"
    }
   },
   "outputs": [],
   "source": [
    "# specify the site name\n",
    "name_of_site = 'US-Whs'"
   ]
  },
  {
   "cell_type": "code",
   "execution_count": 4,
   "metadata": {
    "ExecuteTime": {
     "end_time": "2019-10-22T09:54:50.728433Z",
     "start_time": "2019-10-22T09:54:50.312329Z"
    }
   },
   "outputs": [
    {
     "data": {
      "text/html": [
       "<div>\n",
       "<style scoped>\n",
       "    .dataframe tbody tr th:only-of-type {\n",
       "        vertical-align: middle;\n",
       "    }\n",
       "\n",
       "    .dataframe tbody tr th {\n",
       "        vertical-align: top;\n",
       "    }\n",
       "\n",
       "    .dataframe thead th {\n",
       "        text-align: right;\n",
       "    }\n",
       "</style>\n",
       "<table border=\"1\" class=\"dataframe\">\n",
       "  <thead>\n",
       "    <tr style=\"text-align: right;\">\n",
       "      <th></th>\n",
       "      <th>WS</th>\n",
       "      <th>RH</th>\n",
       "      <th>TA</th>\n",
       "      <th>PA</th>\n",
       "      <th>WD</th>\n",
       "      <th>P</th>\n",
       "      <th>SWIN</th>\n",
       "      <th>LWIN</th>\n",
       "      <th>SWOUT</th>\n",
       "      <th>LWOUT</th>\n",
       "      <th>NETRAD</th>\n",
       "      <th>H</th>\n",
       "      <th>LE</th>\n",
       "      <th>USTAR</th>\n",
       "      <th>ZL</th>\n",
       "    </tr>\n",
       "    <tr>\n",
       "      <th>time</th>\n",
       "      <th></th>\n",
       "      <th></th>\n",
       "      <th></th>\n",
       "      <th></th>\n",
       "      <th></th>\n",
       "      <th></th>\n",
       "      <th></th>\n",
       "      <th></th>\n",
       "      <th></th>\n",
       "      <th></th>\n",
       "      <th></th>\n",
       "      <th></th>\n",
       "      <th></th>\n",
       "      <th></th>\n",
       "      <th></th>\n",
       "    </tr>\n",
       "  </thead>\n",
       "  <tbody>\n",
       "    <tr>\n",
       "      <td>2007-06-29 13:30:00</td>\n",
       "      <td>4.063</td>\n",
       "      <td>12.6475</td>\n",
       "      <td>34.790</td>\n",
       "      <td>86.3667</td>\n",
       "      <td>273.75</td>\n",
       "      <td>0.0</td>\n",
       "      <td>1096.50</td>\n",
       "      <td>NaN</td>\n",
       "      <td>NaN</td>\n",
       "      <td>NaN</td>\n",
       "      <td>609.9</td>\n",
       "      <td>339.3645</td>\n",
       "      <td>12.2582</td>\n",
       "      <td>0.4036</td>\n",
       "      <td>NaN</td>\n",
       "    </tr>\n",
       "    <tr>\n",
       "      <td>2007-06-29 14:00:00</td>\n",
       "      <td>3.636</td>\n",
       "      <td>12.2413</td>\n",
       "      <td>35.140</td>\n",
       "      <td>86.3323</td>\n",
       "      <td>322.30</td>\n",
       "      <td>0.0</td>\n",
       "      <td>1057.00</td>\n",
       "      <td>NaN</td>\n",
       "      <td>NaN</td>\n",
       "      <td>NaN</td>\n",
       "      <td>562.8</td>\n",
       "      <td>290.9766</td>\n",
       "      <td>14.5989</td>\n",
       "      <td>0.5052</td>\n",
       "      <td>NaN</td>\n",
       "    </tr>\n",
       "    <tr>\n",
       "      <td>2007-06-29 14:30:00</td>\n",
       "      <td>3.107</td>\n",
       "      <td>12.0811</td>\n",
       "      <td>35.490</td>\n",
       "      <td>86.3048</td>\n",
       "      <td>316.75</td>\n",
       "      <td>0.0</td>\n",
       "      <td>1107.50</td>\n",
       "      <td>NaN</td>\n",
       "      <td>NaN</td>\n",
       "      <td>NaN</td>\n",
       "      <td>596.4</td>\n",
       "      <td>359.2087</td>\n",
       "      <td>16.1474</td>\n",
       "      <td>0.3566</td>\n",
       "      <td>NaN</td>\n",
       "    </tr>\n",
       "    <tr>\n",
       "      <td>2007-06-29 15:00:00</td>\n",
       "      <td>4.302</td>\n",
       "      <td>11.6801</td>\n",
       "      <td>36.190</td>\n",
       "      <td>86.2589</td>\n",
       "      <td>292.30</td>\n",
       "      <td>0.0</td>\n",
       "      <td>1108.00</td>\n",
       "      <td>NaN</td>\n",
       "      <td>NaN</td>\n",
       "      <td>NaN</td>\n",
       "      <td>613.5</td>\n",
       "      <td>360.5630</td>\n",
       "      <td>10.0565</td>\n",
       "      <td>0.5340</td>\n",
       "      <td>NaN</td>\n",
       "    </tr>\n",
       "    <tr>\n",
       "      <td>2007-06-29 15:30:00</td>\n",
       "      <td>3.676</td>\n",
       "      <td>13.7432</td>\n",
       "      <td>34.785</td>\n",
       "      <td>86.2429</td>\n",
       "      <td>209.20</td>\n",
       "      <td>0.0</td>\n",
       "      <td>496.15</td>\n",
       "      <td>NaN</td>\n",
       "      <td>NaN</td>\n",
       "      <td>NaN</td>\n",
       "      <td>232.0</td>\n",
       "      <td>200.0689</td>\n",
       "      <td>64.8520</td>\n",
       "      <td>0.4503</td>\n",
       "      <td>NaN</td>\n",
       "    </tr>\n",
       "  </tbody>\n",
       "</table>\n",
       "</div>"
      ],
      "text/plain": [
       "                        WS       RH      TA       PA      WD    P     SWIN  \\\n",
       "time                                                                         \n",
       "2007-06-29 13:30:00  4.063  12.6475  34.790  86.3667  273.75  0.0  1096.50   \n",
       "2007-06-29 14:00:00  3.636  12.2413  35.140  86.3323  322.30  0.0  1057.00   \n",
       "2007-06-29 14:30:00  3.107  12.0811  35.490  86.3048  316.75  0.0  1107.50   \n",
       "2007-06-29 15:00:00  4.302  11.6801  36.190  86.2589  292.30  0.0  1108.00   \n",
       "2007-06-29 15:30:00  3.676  13.7432  34.785  86.2429  209.20  0.0   496.15   \n",
       "\n",
       "                     LWIN  SWOUT  LWOUT  NETRAD         H       LE   USTAR  ZL  \n",
       "time                                                                            \n",
       "2007-06-29 13:30:00   NaN    NaN    NaN   609.9  339.3645  12.2582  0.4036 NaN  \n",
       "2007-06-29 14:00:00   NaN    NaN    NaN   562.8  290.9766  14.5989  0.5052 NaN  \n",
       "2007-06-29 14:30:00   NaN    NaN    NaN   596.4  359.2087  16.1474  0.3566 NaN  \n",
       "2007-06-29 15:00:00   NaN    NaN    NaN   613.5  360.5630  10.0565  0.5340 NaN  \n",
       "2007-06-29 15:30:00   NaN    NaN    NaN   232.0  200.0689  64.8520  0.4503 NaN  "
      ]
     },
     "execution_count": 4,
     "metadata": {},
     "output_type": "execute_result"
    }
   ],
   "source": [
    "# load dataset\n",
    "site_file = name_of_site + '_clean.csv.gz'\n",
    "path_data = path_dir / site_file\n",
    "df_data = pd.read_csv(path_data, index_col='time', parse_dates=['time'])\n",
    "df_data.head()"
   ]
  },
  {
   "cell_type": "markdown",
   "metadata": {},
   "source": [
    "Assuming surface energy closure in measurements is perfect, i.e., $Q^*=Q_H+Q_E+\\Delta Q_S$\n",
    "\n",
    "Note: conduct the derivation at different sites separately so you can get two sets of coefficients for later comparison."
   ]
  },
  {
   "cell_type": "markdown",
   "metadata": {},
   "source": [
    "#### Calculating $\\Delta Q_S$"
   ]
  },
  {
   "cell_type": "code",
   "execution_count": 5,
   "metadata": {
    "ExecuteTime": {
     "end_time": "2019-10-22T09:54:51.500602Z",
     "start_time": "2019-10-22T09:54:50.729992Z"
    }
   },
   "outputs": [
    {
     "data": {
      "text/plain": [
       "Text(0, 0.5, '$\\\\Delta Q_S$')"
      ]
     },
     "execution_count": 5,
     "metadata": {},
     "output_type": "execute_result"
    },
    {
     "data": {
      "image/png": "[encoded data removed]",
      "text/plain": [
       "<Figure size 1080x288 with 1 Axes>"
      ]
     },
     "metadata": {
      "needs_background": "light"
     },
     "output_type": "display_data"
    }
   ],
   "source": [
    "df=df_data.filter(['NETRAD','H','LE'])\n",
    "df.dropna(inplace=True)\n",
    "QSTAR=df.NETRAD\n",
    "QH=df.H\n",
    "QE=df.LE\n",
    "\n",
    "QS=QSTAR-QH-QE\n",
    "\n",
    "\n",
    "QS.plot(figsize=(15,4))\n",
    "plt.ylabel('$\\Delta Q_S$')\n"
   ]
  },
  {
   "cell_type": "markdown",
   "metadata": {},
   "source": [
    "#### Finding $a_1$"
   ]
  },
  {
   "cell_type": "code",
   "execution_count": 6,
   "metadata": {
    "ExecuteTime": {
     "end_time": "2019-10-22T09:54:54.022575Z",
     "start_time": "2019-10-22T09:54:51.506147Z"
    }
   },
   "outputs": [
    {
     "data": {
      "text/plain": [
       "Text(0.5, 0, '$Q^*$')"
      ]
     },
     "execution_count": 6,
     "metadata": {},
     "output_type": "execute_result"
    },
    {
     "data": {
      "image/png": "[encoded data removed]",
      "text/plain": [
       "<Figure size 432x288 with 1 Axes>"
      ]
     },
     "metadata": {
      "needs_background": "light"
     },
     "output_type": "display_data"
    }
   ],
   "source": [
    "from scipy.stats import linregress\n",
    "\n",
    "fig, ax = plt.subplots(1, 1)\n",
    "slope = linregress(QSTAR, QS).slope\n",
    "intercept=linregress(QSTAR, QS).intercept\n",
    "\n",
    "ax.scatter(QSTAR, QS)\n",
    "lim = ax.get_xlim()\n",
    "plt.plot(lim, [x * slope+intercept for x in lim], color='r', linestyle='--')\n",
    "plt.title(f'$a_1 = {slope:.2f}$')\n",
    "plt.ylabel('$\\Delta Q_S$')\n",
    "plt.xlabel('$Q^*$')"
   ]
  },
  {
   "cell_type": "markdown",
   "metadata": {},
   "source": [
    "#### Compare derived OHM coefficients between sites"
   ]
  },
  {
   "cell_type": "code",
   "execution_count": 7,
   "metadata": {
    "ExecuteTime": {
     "end_time": "2019-10-22T09:54:54.027322Z",
     "start_time": "2019-10-22T09:54:54.024916Z"
    }
   },
   "outputs": [],
   "source": [
    "# your code here"
   ]
  },
  {
   "cell_type": "markdown",
   "metadata": {},
   "source": [
    "#### Calculate $\\Delta Q_S$ using provided OHM coefficients"
   ]
  },
  {
   "cell_type": "markdown",
   "metadata": {},
   "source": [
    "Use the values provided in this page of [SUEWS manual](https://suews.readthedocs.io/en/latest/input_files/SUEWS_SiteInfo/Typical_Values.html#storage-heat-flux-related)"
   ]
  },
  {
   "cell_type": "code",
   "execution_count": 8,
   "metadata": {
    "ExecuteTime": {
     "end_time": "2019-10-22T09:54:54.031209Z",
     "start_time": "2019-10-22T09:54:54.029216Z"
    }
   },
   "outputs": [],
   "source": [
    "# your code here"
   ]
  },
  {
   "cell_type": "markdown",
   "metadata": {},
   "source": [
    "#### examine the SEB closure using calculated "
   ]
  },
  {
   "cell_type": "markdown",
   "metadata": {},
   "source": [
    "Think about proper metrics for quantitative examination."
   ]
  },
  {
   "cell_type": "code",
   "execution_count": 9,
   "metadata": {
    "ExecuteTime": {
     "end_time": "2019-10-22T09:54:54.035190Z",
     "start_time": "2019-10-22T09:54:54.033088Z"
    }
   },
   "outputs": [],
   "source": [
    "# your code here"
   ]
  },
  {
   "cell_type": "markdown",
   "metadata": {},
   "source": [
    "## calculate surface resistances $r_s$"
   ]
  },
  {
   "cell_type": "markdown",
   "metadata": {},
   "source": [
    "$r_s$ can be calculated as following"
   ]
  },
  {
   "cell_type": "markdown",
   "metadata": {},
   "source": [
    "$$\n",
    "r_{s}=\\left(\\frac{s \\beta}{\\gamma}-1\\right) r_{a}+\\frac{C_{a} V}{\\gamma Q_{E}}\n",
    "$$"
   ]
  },
  {
   "cell_type": "markdown",
   "metadata": {},
   "source": [
    "where"
   ]
  },
  {
   "cell_type": "markdown",
   "metadata": {},
   "source": [
    "$$\n",
    "\\beta=\\frac{Q_{H}}{Q_{E}}\n",
    "$$"
   ]
  },
  {
   "cell_type": "markdown",
   "metadata": {},
   "source": [
    "$$\n",
    "C_{a}=\\rho c_{p}\n",
    "$$"
   ]
  },
  {
   "cell_type": "markdown",
   "metadata": {},
   "source": [
    "$$\n",
    "V=e_{s}-e_{a}\n",
    "$$"
   ]
  },
  {
   "cell_type": "markdown",
   "metadata": {},
   "source": [
    "$$\n",
    "\\gamma = \\text{psychrometric constant}\n",
    "$$"
   ]
  },
  {
   "cell_type": "markdown",
   "metadata": {},
   "source": [
    "$$\n",
    "s=\\text{slope of saturation evaporation pressure curve vs air temperature}\n",
    "$$"
   ]
  },
  {
   "cell_type": "markdown",
   "metadata": {},
   "source": [
    "We are going to calculate each part separately and eventually integrate all parts together to get $r_s$"
   ]
  },
  {
   "cell_type": "markdown",
   "metadata": {},
   "source": [
    "### Calculate $r_a$"
   ]
  },
  {
   "cell_type": "markdown",
   "metadata": {},
   "source": [
    "You should calculate $r_a$ using task 3 and the function that you implemented before for the site: similarly for $z_0$ and $d$."
   ]
  },
  {
   "cell_type": "code",
   "execution_count": 21,
   "metadata": {},
   "outputs": [],
   "source": [
    "# your code here"
   ]
  },
  {
   "cell_type": "markdown",
   "metadata": {},
   "source": [
    "### Calculating  $\\beta=\\frac{Q_{H}}{Q_{E}}$"
   ]
  },
  {
   "cell_type": "code",
   "execution_count": 10,
   "metadata": {},
   "outputs": [],
   "source": [
    "df_val = df_data.loc[:, ['LE','H', 'USTAR', 'TA', 'RH', 'PA', 'WS']].dropna()"
   ]
  },
  {
   "cell_type": "code",
   "execution_count": 11,
   "metadata": {},
   "outputs": [],
   "source": [
    "# your code here"
   ]
  },
  {
   "cell_type": "markdown",
   "metadata": {},
   "source": [
    "### Calculating $C_{a}=\\rho c_{p}$"
   ]
  },
  {
   "cell_type": "markdown",
   "metadata": {},
   "source": [
    "For this, you can use the available functions in `utility.py`"
   ]
  },
  {
   "cell_type": "markdown",
   "metadata": {},
   "source": [
    "<div class=\"alert alert-info\">\n",
    "\n",
    "**Important:** \n",
    "\n",
    "In these functions, pressure is in `hPa`; so you need to convert the pressure from `kPa` to `hPa`\n",
    "    \n",
    "</div>\n"
   ]
  },
  {
   "cell_type": "code",
   "execution_count": 12,
   "metadata": {},
   "outputs": [],
   "source": [
    "df_val.PA *=10"
   ]
  },
  {
   "cell_type": "code",
   "execution_count": 13,
   "metadata": {},
   "outputs": [],
   "source": [
    "from utility import cal_dens_air, cal_cpa\n",
    "\n",
    "#rho = cal_dens_air(Press_hPa, Temp_C)  #use this to calculate rho\n",
    "#cp = cal_cpa(Temp_C, RH_pct, Press_hPa) #use this to calculate cp"
   ]
  },
  {
   "cell_type": "markdown",
   "metadata": {},
   "source": [
    "### Calculating $s$"
   ]
  },
  {
   "cell_type": "code",
   "execution_count": null,
   "metadata": {},
   "outputs": [],
   "source": [
    "# This package is needed\n",
    "!pip install atmosp"
   ]
  },
  {
   "cell_type": "code",
   "execution_count": 14,
   "metadata": {},
   "outputs": [],
   "source": [
    "from utility import cal_des_dta\n",
    "# s = cal_des_dta(Temp_C, Press_hpa) #use this to calculate s"
   ]
  },
  {
   "cell_type": "markdown",
   "metadata": {},
   "source": [
    "### Calculating $V=e_{s}-e_{a}$"
   ]
  },
  {
   "cell_type": "code",
   "execution_count": 15,
   "metadata": {},
   "outputs": [],
   "source": [
    "from utility import cal_vpd\n",
    "# V = cal_vpd(Temp_C, RH_pct, Press_hPa)  #use this to calculate V"
   ]
  },
  {
   "cell_type": "markdown",
   "metadata": {},
   "source": [
    "### Calculating $\\gamma$"
   ]
  },
  {
   "cell_type": "code",
   "execution_count": 16,
   "metadata": {},
   "outputs": [],
   "source": [
    "from utility import cal_gamma\n",
    "#gamma = cal_gamma(Press_hPa) #use this to calculate gamma"
   ]
  },
  {
   "cell_type": "markdown",
   "metadata": {},
   "source": [
    "### Integrate: calculate $r_s$"
   ]
  },
  {
   "cell_type": "code",
   "execution_count": 20,
   "metadata": {},
   "outputs": [],
   "source": [
    "# your code here"
   ]
  }
 ],
 "metadata": {
  "file_extension": ".py",
  "kernelspec": {
   "display_name": "Python 3",
   "language": "python",
   "name": "python3"
  },
  "language_info": {
   "codemirror_mode": {
    "name": "ipython",
    "version": 3
   },
   "file_extension": ".py",
   "mimetype": "text/x-python",
   "name": "python",
   "nbconvert_exporter": "python",
   "pygments_lexer": "ipython3",
   "version": "3.7.3"
  },
  "mimetype": "text/x-python",
  "name": "python",
  "npconvert_exporter": "python",
  "pygments_lexer": "ipython3",
  "toc": {
   "base_numbering": 1,
   "nav_menu": {},
   "number_sections": true,
   "sideBar": true,
   "skip_h1_title": true,
   "title_cell": "Table of Contents",
   "title_sidebar": "Contents",
   "toc_cell": false,
   "toc_position": {},
   "toc_section_display": true,
   "toc_window_display": true
  },
  "version": 3
 },
 "nbformat": 4,
 "nbformat_minor": 2
}
