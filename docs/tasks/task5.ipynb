{
 "cells": [
  {
   "cell_type": "markdown",
   "metadata": {},
   "source": [
    "## Modelling $Q_E$ and $Q_H$ with Penman-Monteith"
   ]
  },
  {
   "cell_type": "markdown",
   "metadata": {},
   "source": [
    "### Objectives\n",
    "1. Calculate $Q_E$ and $Q_H$ using Penman-Monteith\n",
    "1. Evaluate the above results with EC measurements"
   ]
  },
  {
   "cell_type": "markdown",
   "metadata": {},
   "source": [
    "<div class=\"alert alert-info\">\n",
    "\n",
    "**Tips:** \n",
    "\n",
    "1. The [Penman Monteith equation](https://blm.readthedocs.io/en/latest/Penman.html) assumes energy balance closure at each model time step.\n",
    "2. Identify typical parameter values initially.\n",
    "3. Use the calculated roughness length and the canopy resistances to calculate the PM fluxes (QH and QE) for the same period. What is the impact on the evaluation statistics?\n",
    "\n",
    "</div>\n",
    "\n"
   ]
  },
  {
   "cell_type": "markdown",
   "metadata": {},
   "source": [
    "### Task explained"
   ]
  },
  {
   "cell_type": "markdown",
   "metadata": {},
   "source": [
    "#### basic equations"
   ]
  },
  {
   "cell_type": "markdown",
   "metadata": {},
   "source": [
    "The Penman-Monteith equation:\n",
    "\n",
    "$$\n",
    "Q_{E} =\n",
    "    \\frac{s\\left( Q^{*} - Q_{G} \\right) + \\rho c_{p}(e_{s} - e)/r_{H}}\n",
    "    {s + \\gamma\\ (1 + r_{s}/r_{a})}\n",
    "$$\n",
    "\n",
    "where \n",
    "\n",
    "$s$: the slope of saturation vapour pressure curve at temperature $T_a$;\n",
    "\n",
    "$Q^*$: net all-wave radiation;\n",
    "\n",
    "$Q_G$: ground heat flux;\n",
    "\n",
    "$\\rho$: air density;\n",
    "\n",
    "$c_p$: heat capacity of air;\n",
    "\n",
    "$e_s$: saturation vapour pressure at temperature $T_a$;\n",
    "\n",
    "$e$: actual vapour pressure;\n",
    "\n",
    "$\\gamma$: psychrometric constant;\n",
    "\n",
    "$r_s$: surface resistance;\n",
    "\n",
    "$r_H$: aerodynamic resistance for heat transfer;\n",
    "\n",
    "$r_a$: aerodynamic resistance for momentum transfer.\n"
   ]
  },
  {
   "cell_type": "markdown",
   "metadata": {},
   "source": [
    "The surface energy balance equation:\n",
    "\n",
    "$$\n",
    "Q^*-Q_G=Q_E+Q_H\n",
    "$$\n",
    "\n",
    "where $Q^*$ is the net all-wave radiation, $Q_G$ the ground heat flux, $Q_E$ the latent heat flux and $Q_H$ the sensible heat flux. \n"
   ]
  },
  {
   "cell_type": "markdown",
   "metadata": {},
   "source": [
    "#### specific aims"
   ]
  },
  {
   "cell_type": "markdown",
   "metadata": {},
   "source": [
    "Before starting coding, we need to interpret the problem into the following major task:\n",
    "With *atmospheric forcing conditions* and *other variables* in your specific AmeriFlux dataset, one needs\n",
    "\n",
    "1. to **model** $Q_E$ using *the above equation* and $Q_H$ using *surface energy balance (SEB) equation*； and \n",
    "2. to **evaluate** the modelled $Q_E$ and $Q_H$ against their observed counterparts using *quantitative metrics*.\n"
   ]
  },
  {
   "cell_type": "markdown",
   "metadata": {},
   "source": [
    "#### assumptions"
   ]
  },
  {
   "cell_type": "markdown",
   "metadata": {},
   "source": [
    "For simplicity, we make *the following assumptions*:\n",
    "\n",
    "1. **perfect SEB closure**;\n",
    "2. known outgoing longwave radiation; and\n",
    "2. equivalence between $r_H$ and $r_a$: i.e. **$r_H=r_a$**."
   ]
  },
  {
   "cell_type": "markdown",
   "metadata": {},
   "source": [
    "#### guide questions for modelling $Q_E$"
   ]
  },
  {
   "cell_type": "markdown",
   "metadata": {},
   "source": [
    "As $Q_H$ would be easily obtained as residual of other terms (i.e., $Q_H=Q^*-Q_G-Q_E$), let's first focus on how to get $Q_E$ by thinking the following questions:\n",
    "\n",
    "1. What are the known and unknown terms in the above given the progress so far?\n",
    "\n",
    "2. For each of the unknown terms, is it related to *atmospheric forcing* or *surface properties*?"
   ]
  },
  {
   "cell_type": "markdown",
   "metadata": {},
   "source": [
    "#### input data we have"
   ]
  },
  {
   "cell_type": "markdown",
   "metadata": {},
   "source": [
    "As a reminder, we know that we have the following atmospheric forcing variables available in the AmeriFlux dataset:\n",
    "\n",
    "1. incoming solar radiation $K_\\downarrow$;\n",
    "2. incoming longwave radiation $L_\\downarrow$;\n",
    "3. air temperature $T_a$;\n",
    "4. relative humidity $RH$;\n",
    "5. atmospheric pressure $p$;\n",
    "6. wind speed $u$; and\n",
    "7. precipitation $P$ (note this is NOT used in this task).\n",
    "\n",
    "Other variables are provided either as auxiliary data to derive surface properties (e.g., friction velocity $u_*$) or as observed values for evaluation of modeled variables (e.g., sensible heat flux $Q_H$)."
   ]
  },
  {
   "cell_type": "markdown",
   "metadata": {},
   "source": [
    "Now let's move onto the calculations below: more specific hints are provided in comments of cells below."
   ]
  },
  {
   "cell_type": "markdown",
   "metadata": {},
   "source": [
    "### Tasks"
   ]
  },
  {
   "cell_type": "markdown",
   "metadata": {
    "heading_collapsed": true
   },
   "source": [
    "#### load necessary packages"
   ]
  },
  {
   "cell_type": "code",
   "execution_count": 3,
   "metadata": {
    "hidden": true
   },
   "outputs": [],
   "source": [
    "import numpy as np\n",
    "import matplotlib.pyplot as plt\n",
    "import pandas as pd\n",
    "from pathlib import Path\n"
   ]
  },
  {
   "cell_type": "markdown",
   "metadata": {
    "hidden": true
   },
   "source": [
    "<div class=\"alert alert-info\">\n",
    "\n",
    "**Note:** \n",
    "\n",
    "The following cell enables the `autoreload` module, which allows auto-reloading of external packages.\n",
    "This would be particularly useful if we make changes in the `utility.py` file: such changes will take immediate effec in this notebook without restarting the Jupyter kernal as one would usually do.\n",
    "\n",
    "</div>"
   ]
  },
  {
   "cell_type": "code",
   "execution_count": 1,
   "metadata": {
    "hidden": true
   },
   "outputs": [],
   "source": [
    "%load_ext autoreload\n",
    "%autoreload 2"
   ]
  },
  {
   "cell_type": "markdown",
   "metadata": {
    "heading_collapsed": true
   },
   "source": [
    "#### load data"
   ]
  },
  {
   "cell_type": "code",
   "execution_count": 4,
   "metadata": {
    "hidden": true
   },
   "outputs": [
    {
     "data": {
      "text/plain": [
       "[PosixPath('/Users/sunt05/Dropbox/6.Repos/task-5-blm2019/data/5/US-Slt_clean.csv.gz'),\n",
       " PosixPath('/Users/sunt05/Dropbox/6.Repos/task-5-blm2019/data/5/US-UMB_clean.csv.gz')]"
      ]
     },
     "execution_count": 4,
     "metadata": {},
     "output_type": "execute_result"
    }
   ],
   "source": [
    "group_number = 5\n",
    "path_dir = Path.cwd() / 'data' / f'{group_number}'\n",
    "# examine available files in your folder\n",
    "list(path_dir.glob('*gz'))"
   ]
  },
  {
   "cell_type": "code",
   "execution_count": null,
   "metadata": {
    "hidden": true
   },
   "outputs": [],
   "source": [
    "# specify the site name\n",
    "name_of_site = 'US-UMB'"
   ]
  },
  {
   "cell_type": "code",
   "execution_count": null,
   "metadata": {
    "hidden": true
   },
   "outputs": [],
   "source": [
    "# load dataset\n",
    "site_file = name_of_site + '_clean.csv.gz'\n",
    "path_data = path_dir / site_file\n",
    "df_data = pd.read_csv(path_data, index_col='time', parse_dates=['time'])\n",
    "df_data.head()"
   ]
  },
  {
   "cell_type": "markdown",
   "metadata": {
    "heading_collapsed": true
   },
   "source": [
    "#### Calculate $Q_E$ using Penman-Monteith"
   ]
  },
  {
   "cell_type": "markdown",
   "metadata": {
    "hidden": true
   },
   "source": [
    "##### calculate $Q^*$ using  [surface radiation balance](https://blm.readthedocs.io/en/latest/SEB.html#radiation-balance)\n",
    "\n",
    "*Note:* we've got albedo in Task 1."
   ]
  },
  {
   "cell_type": "code",
   "execution_count": null,
   "metadata": {
    "hidden": true
   },
   "outputs": [],
   "source": [
    "# your code"
   ]
  },
  {
   "cell_type": "markdown",
   "metadata": {
    "hidden": true
   },
   "source": [
    "##### calculate $Q_G$ using a simple linear model\n",
    "\n",
    "*Note:* we've done this in Task 4."
   ]
  },
  {
   "cell_type": "code",
   "execution_count": null,
   "metadata": {
    "hidden": true
   },
   "outputs": [],
   "source": [
    "# your code"
   ]
  },
  {
   "cell_type": "markdown",
   "metadata": {
    "hidden": true
   },
   "source": [
    "##### calculate $r_a$ \n",
    "\n",
    "*Note:* we've done this in Task 3."
   ]
  },
  {
   "cell_type": "code",
   "execution_count": null,
   "metadata": {
    "hidden": true
   },
   "outputs": [],
   "source": [
    "# your code"
   ]
  },
  {
   "cell_type": "markdown",
   "metadata": {
    "hidden": true
   },
   "source": [
    "##### calculate $r_s$\n",
    "\n",
    "*Note:* we've done this in Task 4."
   ]
  },
  {
   "cell_type": "code",
   "execution_count": null,
   "metadata": {
    "hidden": true
   },
   "outputs": [],
   "source": [
    "# your code"
   ]
  },
  {
   "cell_type": "markdown",
   "metadata": {
    "hidden": true
   },
   "source": [
    "##### calculate other atmospheric states\n",
    "\n",
    "*Note:* related functions are all provided in the `utility.py` file."
   ]
  },
  {
   "cell_type": "code",
   "execution_count": null,
   "metadata": {
    "hidden": true
   },
   "outputs": [],
   "source": [
    "# slope `s`:\n",
    "# s = cal_des_dta(Temp_C, Press_hPa)"
   ]
  },
  {
   "cell_type": "code",
   "execution_count": null,
   "metadata": {
    "hidden": true
   },
   "outputs": [],
   "source": [
    "# psychrometric constant `gamma`:\n",
    "# gamma = cal_gamma(Press_hPa)"
   ]
  },
  {
   "cell_type": "code",
   "execution_count": null,
   "metadata": {
    "hidden": true
   },
   "outputs": [],
   "source": [
    "# air density `rho`\n",
    "# rho = cal_dens_air(Press_hPa, Temp_C)"
   ]
  },
  {
   "cell_type": "code",
   "execution_count": null,
   "metadata": {
    "hidden": true
   },
   "outputs": [],
   "source": [
    "# specific heat capacity of air mass `cp`\n",
    "# cp = cal_cpa(Temp_C, RH_pct, Press_hPa)"
   ]
  },
  {
   "cell_type": "code",
   "execution_count": null,
   "metadata": {
    "hidden": true
   },
   "outputs": [],
   "source": [
    "# vapour pressure deficit `es-e`, or `vpd`\n",
    "# vpd = cal_vpd(Temp_C, RH_pct, Press_hPa)"
   ]
  },
  {
   "cell_type": "markdown",
   "metadata": {
    "hidden": true
   },
   "source": [
    "##### integrate the above results to get $Q_E$"
   ]
  },
  {
   "cell_type": "code",
   "execution_count": null,
   "metadata": {
    "hidden": true
   },
   "outputs": [],
   "source": [
    "# your code"
   ]
  },
  {
   "cell_type": "markdown",
   "metadata": {},
   "source": [
    "#### calculate $Q_H$ using SEB equation"
   ]
  },
  {
   "cell_type": "code",
   "execution_count": null,
   "metadata": {},
   "outputs": [],
   "source": [
    "# your code"
   ]
  },
  {
   "cell_type": "markdown",
   "metadata": {},
   "source": [
    "#### evaluation of modelled $Q_E$ and $Q_H$"
   ]
  },
  {
   "cell_type": "code",
   "execution_count": null,
   "metadata": {},
   "outputs": [],
   "source": [
    "# calculate MAE to see the overal performance"
   ]
  },
  {
   "cell_type": "code",
   "execution_count": null,
   "metadata": {},
   "outputs": [],
   "source": [
    "# calculate MBE to see if your model is overestimating or underestimating the variables"
   ]
  },
  {
   "cell_type": "code",
   "execution_count": null,
   "metadata": {},
   "outputs": [],
   "source": [
    "# plot observed and modelled values on the same chart with a 1:1 line\n",
    "# note: we've done this in task 3 for `ra`"
   ]
  }
 ],
 "metadata": {
  "file_extension": ".py",
  "kernelspec": {
   "display_name": "Python 3",
   "language": "python",
   "name": "python3"
  },
  "language_info": {
   "codemirror_mode": {
    "name": "ipython",
    "version": 3
   },
   "file_extension": ".py",
   "mimetype": "text/x-python",
   "name": "python",
   "nbconvert_exporter": "python",
   "pygments_lexer": "ipython3",
   "version": "3.7.3"
  },
  "mimetype": "text/x-python",
  "name": "python",
  "npconvert_exporter": "python",
  "pygments_lexer": "ipython3",
  "toc": {
   "base_numbering": 1,
   "nav_menu": {},
   "number_sections": true,
   "sideBar": true,
   "skip_h1_title": true,
   "title_cell": "Table of Contents",
   "title_sidebar": "Contents",
   "toc_cell": false,
   "toc_position": {},
   "toc_section_display": true,
   "toc_window_display": true
  },
  "version": 3
 },
 "nbformat": 4,
 "nbformat_minor": 2
}
